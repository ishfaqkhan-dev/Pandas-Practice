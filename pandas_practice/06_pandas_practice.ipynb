{
 "cells": [
  {
   "cell_type": "markdown",
   "id": "451d9a7c",
   "metadata": {},
   "source": [
    "# **Pandas day 6**"
   ]
  },
  {
   "cell_type": "code",
   "execution_count": null,
   "id": "01900a30",
   "metadata": {},
   "outputs": [],
   "source": [
    "import pandas as pd  \n",
    "\n",
    "# series is the column in the pandas dataframe \n",
    "\n",
    "myarr = [1, 2, 3]\n",
    "col_a = pd.Series(myarr)\n",
    "print(col_a)"
   ]
  },
  {
   "cell_type": "markdown",
   "id": "da33515d",
   "metadata": {},
   "source": [
    "## **Labels :**\n",
    "If nothing else is specified, the values are labeled with their index number. First value has index 0, second value has index 1 etc.\n",
    "This label can be used to access a specified value."
   ]
  },
  {
   "cell_type": "code",
   "execution_count": null,
   "id": "47773706",
   "metadata": {},
   "outputs": [],
   "source": [
    "# index of the first value is 0 and second value is 1 and so on \n",
    "print(col_a[1]) # represent the second value of the column\n",
    "\n",
    "# create your own specific index like that\n",
    "myvar = pd.Series(myarr, index=['x', 'y', 'z'])\n",
    "print(myvar)"
   ]
  },
  {
   "cell_type": "markdown",
   "id": "b9eb2510",
   "metadata": {},
   "source": [
    "### **Create a simple Pandas Series from a dictionary:**"
   ]
  },
  {
   "cell_type": "code",
   "execution_count": null,
   "id": "be73e073",
   "metadata": {},
   "outputs": [],
   "source": [
    "import pandas as pd\n",
    "\n",
    "calories = {\"day1\": 420, \"day2\": 380, \"day3\": 390}\n",
    "\n",
    "myvar = pd.Series(calories)\n",
    "\n",
    "print(myvar)\n"
   ]
  },
  {
   "cell_type": "markdown",
   "id": "3288b2ae",
   "metadata": {},
   "source": [
    "### **Create a Series using only data from \"day1\" and \"day2\":**"
   ]
  },
  {
   "cell_type": "code",
   "execution_count": null,
   "id": "4439fd17",
   "metadata": {},
   "outputs": [],
   "source": [
    "import pandas as pd\n",
    "\n",
    "calories = {\"day1\": 420, \"day2\": 380, \"day3\": 390}\n",
    "\n",
    "myvar = pd.Series(calories, index = [\"day1\", \"day2\"])\n",
    "\n",
    "print(myvar)\n"
   ]
  },
  {
   "cell_type": "markdown",
   "id": "e48f657a",
   "metadata": {},
   "source": [
    "### **Create a DataFrame from two Series:**"
   ]
  },
  {
   "cell_type": "code",
   "execution_count": null,
   "id": "bd8216ee",
   "metadata": {},
   "outputs": [],
   "source": [
    "import pandas as pd\n",
    "\n",
    "data = {\n",
    "  \"calories\": [420, 380, 390],\n",
    "  \"duration\": [50, 40, 45]\n",
    "}\n",
    "\n",
    "myvar = pd.DataFrame(data)\n",
    "\n",
    "print(myvar)"
   ]
  },
  {
   "cell_type": "markdown",
   "id": "2ba0a9fa",
   "metadata": {},
   "source": [
    "### **Locate Row**\n",
    "\n",
    "Pandas use the `loc` attribute to return one or more specified row(s)"
   ]
  },
  {
   "cell_type": "code",
   "execution_count": null,
   "id": "f244477f",
   "metadata": {},
   "outputs": [],
   "source": [
    "# refer to the row index:\n",
    "df = pd.DataFrame(data)\n",
    "\n",
    "print(df.loc[0])\n",
    "\n",
    "# Return row 0 and 1:\n",
    "#use a list of indexes:\n",
    "print(df.loc[[0, 1]])"
   ]
  },
  {
   "cell_type": "markdown",
   "id": "ac216069",
   "metadata": {},
   "source": [
    "### **Add a list of names to give each row a name:**"
   ]
  },
  {
   "cell_type": "code",
   "execution_count": null,
   "id": "95db8eb4",
   "metadata": {},
   "outputs": [],
   "source": [
    "import pandas as pd\n",
    "\n",
    "data = {\n",
    "  \"calories\": [420, 380, 390],\n",
    "  \"duration\": [50, 40, 45]\n",
    "}\n",
    "\n",
    "df = pd.DataFrame(data, index = [\"day1\", \"day2\", \"day3\"])\n",
    "\n",
    "print(df) "
   ]
  },
  {
   "cell_type": "markdown",
   "id": "87831410",
   "metadata": {},
   "source": [
    "### **Locate Named Indexes**\n",
    "Use the named index in the loc attribute to return the specified row(s).\n"
   ]
  },
  {
   "cell_type": "code",
   "execution_count": null,
   "id": "2e1d6a2d",
   "metadata": {},
   "outputs": [],
   "source": [
    "# Return \"day2\":\n",
    "\n",
    "#refer to the named index:\n",
    "print(df.loc[\"day2\"])"
   ]
  },
  {
   "cell_type": "markdown",
   "id": "71b581a5",
   "metadata": {},
   "source": [
    "### **Load the CSV into a DataFrame**\n",
    "\n",
    "- Tip: use to_string() to print the entire DataFrame.\n",
    "\n",
    "If you have a large DataFrame with many rows, Pandas will only return the first 5 rows, and the last 5 rows:"
   ]
  },
  {
   "cell_type": "code",
   "execution_count": null,
   "id": "3951ac78",
   "metadata": {},
   "outputs": [],
   "source": [
    "\n",
    "\n",
    "import pandas as pd\n",
    "\n",
    "df = pd.read_csv('data.csv')\n",
    "\n",
    "print(df.to_string()) \n",
    "\n",
    "# Print the DataFrame without the to_string() method:\n",
    "\n",
    "print(df) \n"
   ]
  },
  {
   "cell_type": "markdown",
   "id": "0909b4b5",
   "metadata": {},
   "source": [
    "### **Check the number of maximum returned rows:**\n",
    "\n",
    "In my system the number is 60, which means that if the DataFrame contains more than 60 rows, the print(df) statement will return only the headers and the first and last 5 rows.\n"
   ]
  },
  {
   "cell_type": "code",
   "execution_count": null,
   "id": "80ae4d02",
   "metadata": {},
   "outputs": [],
   "source": [
    "\n",
    "import pandas as pd\n",
    "\n",
    "print(pd.options.display.max_rows) \n",
    "\n",
    "# You can change the maximum rows number with the same statement."
   ]
  },
  {
   "cell_type": "markdown",
   "id": "1125af23",
   "metadata": {},
   "source": [
    "### **Increase the maximum number of rows to display the entire DataFrame:**\n"
   ]
  },
  {
   "cell_type": "code",
   "execution_count": null,
   "id": "c2f4668e",
   "metadata": {},
   "outputs": [],
   "source": [
    "import pandas as pd\n",
    "\n",
    "pd.options.display.max_rows = 60\n",
    "\n",
    "df = pd.read_csv('../python_datasets/population_of_pakistan.csv')\n",
    "\n",
    "print(df) "
   ]
  },
  {
   "cell_type": "markdown",
   "id": "50d6f3a7",
   "metadata": {},
   "source": [
    "### **Read Json**"
   ]
  },
  {
   "cell_type": "code",
   "execution_count": null,
   "id": "f577982d",
   "metadata": {},
   "outputs": [],
   "source": [
    "# Load the JSON file into a DataFrame:\n",
    "\n",
    "import pandas as pd\n",
    "\n",
    "df = pd.read_json('data.json')\n",
    "\n",
    "print(df.to_string())"
   ]
  },
  {
   "cell_type": "markdown",
   "id": "2017f9b3",
   "metadata": {},
   "source": [
    "### **Dictionary as JSON**\n",
    "JSON = Python Dictionary\n",
    "\n",
    "JSON objects have the same format as Python dictionaries.\n",
    "\n",
    "If your JSON code is not in a file, but in a Python Dictionary, you can load it into a DataFrame directly:"
   ]
  },
  {
   "cell_type": "code",
   "execution_count": null,
   "id": "de53954a",
   "metadata": {},
   "outputs": [],
   "source": [
    "#Load a Python Dictionary into a DataFrame:\n",
    "\n",
    "import pandas as pd\n",
    "\n",
    "data = {\n",
    "  \"Duration\":{\n",
    "    \"0\":60,\n",
    "    \"1\":60,\n",
    "    \"2\":60,\n",
    "    \"3\":45,\n",
    "    \"4\":45,\n",
    "    \"5\":60\n",
    "  },\n",
    "  \"Pulse\":{\n",
    "    \"0\":110,\n",
    "    \"1\":117,\n",
    "    \"2\":103,\n",
    "    \"3\":109,\n",
    "    \"4\":117,\n",
    "    \"5\":102\n",
    "  },\n",
    "  \"Maxpulse\":{\n",
    "    \"0\":130,\n",
    "    \"1\":145,\n",
    "    \"2\":135,\n",
    "    \"3\":175,\n",
    "    \"4\":148,\n",
    "    \"5\":127\n",
    "  },\n",
    "  \"Calories\":{\n",
    "    \"0\":409,\n",
    "    \"1\":479,\n",
    "    \"2\":340,\n",
    "    \"3\":282,\n",
    "    \"4\":406,\n",
    "    \"5\":300\n",
    "  }\n",
    "}\n",
    "\n",
    "df = pd.DataFrame(data)\n",
    "\n",
    "print(df) "
   ]
  }
 ],
 "metadata": {
  "kernelspec": {
   "display_name": "python_eda",
   "language": "python",
   "name": "python3"
  },
  "language_info": {
   "codemirror_mode": {
    "name": "ipython",
    "version": 3
   },
   "file_extension": ".py",
   "mimetype": "text/x-python",
   "name": "python",
   "nbconvert_exporter": "python",
   "pygments_lexer": "ipython3",
   "version": "3.13.2"
  }
 },
 "nbformat": 4,
 "nbformat_minor": 5
}
