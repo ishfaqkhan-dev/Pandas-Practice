{
 "cells": [
  {
   "cell_type": "code",
   "execution_count": null,
   "id": "0df8d3be",
   "metadata": {},
   "outputs": [],
   "source": [
    "# agar kise dataframe ko kise excel file mai la ke jana ho tu ap ko \"openpyxl\" module download kiay jo is ko conveert karta hai file mai \n",
    "# --quiet lagne se wo download hone ke baad niche output mai download show nnhi karta \n",
    "# Jupyter Notebook mein ! ka matlab hota hai: “yeh shell command hai”.\n",
    "\n",
    "%pip install openpyxl --quiet"
   ]
  },
  {
   "cell_type": "code",
   "execution_count": null,
   "id": "74bc7873",
   "metadata": {},
   "outputs": [],
   "source": [
    "import pandas as pd\n",
    "import seaborn as sns \n",
    "\n",
    "# khasti ak dataframe type hai aur ak panda ke ak dataframe ke trahan hai aur panda is mai invlove hai directly ... ye dataset hum ne online load kiya using seaborn library ke through\n",
    "\n",
    "khasti = sns.load_dataset(\"titanic\")\n",
    "\n",
    "# pyhton mai jitne bhe online datasets hotai hai wo drasal dataframes hotai hao pandas ke tu jis variables mai store kia jatai ha tu ap us dataframe varibale ke sath sare pandas ke sare functions use kar saktai hai\n",
    "\n",
    "# (.) lagne se wo file sirf us folder ke ander create ho ge jis ke ander hum kam kar rahe hai \n",
    "# (..) double dot lagne se wo us folder se ak directory piche ja ke us ke ander wo file create kare ga\n",
    "# (../folder_name/file_name) is ka matlab ak directory piche jaye us directory mai mention kiya hoya folder jo hai us ke ander file create ho ge \n",
    "\n",
    "# how to write a file \n",
    "\n",
    "khasti.to_excel(\"../python_datasets/khasti.xlsx\")"
   ]
  },
  {
   "cell_type": "code",
   "execution_count": null,
   "id": "5da24988",
   "metadata": {},
   "outputs": [],
   "source": [
    "# how to read a file from any path \n",
    "\n",
    "df = pd.read_excel(\"../python_datasets/khasti.xlsx\")\n",
    "df"
   ]
  },
  {
   "cell_type": "code",
   "execution_count": null,
   "id": "7c927f0a",
   "metadata": {},
   "outputs": [],
   "source": [
    "df.info() # metadata about data "
   ]
  },
  {
   "cell_type": "code",
   "execution_count": null,
   "id": "1fbeca5d",
   "metadata": {},
   "outputs": [],
   "source": [
    "# top 5 rows\n",
    "df.head() # agar ap phele 10 rows dekhna chatai hai tu head mai 10 lekh do jitne ap dekhna chao uthne lekh do"
   ]
  },
  {
   "cell_type": "code",
   "execution_count": null,
   "id": "b6adc746",
   "metadata": {},
   "outputs": [],
   "source": [
    "# bottom 5 rows\n",
    "df.tail() # agar ap akhri 10 rows dekhna chatai hai tu tail mai 10 lekh do jitne ap dekhna chao uthne lekh do"
   ]
  }
 ],
 "metadata": {
  "kernelspec": {
   "display_name": "python_eda",
   "language": "python",
   "name": "python3"
  },
  "language_info": {
   "codemirror_mode": {
    "name": "ipython",
    "version": 3
   },
   "file_extension": ".py",
   "mimetype": "text/x-python",
   "name": "python",
   "nbconvert_exporter": "python",
   "pygments_lexer": "ipython3",
   "version": "3.13.2"
  }
 },
 "nbformat": 4,
 "nbformat_minor": 5
}
