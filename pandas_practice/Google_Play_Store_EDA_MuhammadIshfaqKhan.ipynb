{
 "cells": [
  {
   "cell_type": "markdown",
   "id": "dd059349",
   "metadata": {},
   "source": [
    "# **Google Play Store Apps Analysis**\n"
   ]
  },
  {
   "cell_type": "markdown",
   "id": "41508603",
   "metadata": {},
   "source": [
    "**Name : Muhammad Ishfaq Khan**\\\n",
    "**Email : ishfaqkhan.dev@gmail.com**\\\n",
    "**GitHub : [ishfaqkhan-dev](https://github.com/ishfaqkhan-dev)**\\\n",
    "**LinkedIn : [https://www.linkedin.com/in/muhammad-ishfaq-khan-666b27370](https://www.linkedin.com/in/muhammad-ishfaq-khan-666b27370)**\n"
   ]
  },
  {
   "cell_type": "markdown",
   "id": "6d2bd026",
   "metadata": {},
   "source": [
    "## **Introduction**\n",
    "\n",
    "The Google Play Store hosts millions of Android applications across various categories like games, productivity, social networking, and more. Understanding how apps perform, what factors influence their ratings, and which categories dominate the market can provide valuable insights to developers, marketers, and researchers.\n",
    "\n",
    "In this notebook, I will explore the Google Play Store dataset to:\n",
    "\n",
    "- Analyze app ratings and review trends.\n",
    "- Understand install counts across categories.\n",
    "- Identify top-rated and most-downloaded apps.\n",
    "- Clean and visualize the data for better interpretation.\n",
    "\n"
   ]
  },
  {
   "cell_type": "markdown",
   "id": "dba6b41f",
   "metadata": {},
   "source": [
    "## **Dataset Description**\n",
    "\n",
    "This dataset provides details of various Android applications available on the Google Play Store, including their names, categories, ratings, reviews, install counts, size, type, price, and more.\n",
    "\n",
    "The dataset was taken from Kaggle and can be accessed here:  \n",
    "🔗 [Google Play Store Apps Dataset on Kaggle](https://www.kaggle.com/datasets/lava18/google-play-store-apps)\n",
    "\n",
    "I will now load the dataset and start exploring its structure.\n"
   ]
  },
  {
   "cell_type": "markdown",
   "id": "cd988b23",
   "metadata": {},
   "source": [
    "---\n",
    "\n",
    "## **Import Necessary Libraries**"
   ]
  },
  {
   "cell_type": "code",
   "execution_count": 1,
   "id": "ba397c48",
   "metadata": {},
   "outputs": [],
   "source": [
    "import pandas as pd  \n",
    "import numpy as np  \n",
    "import matplotlib.pyplot as plt\n",
    "import seaborn as sns"
   ]
  },
  {
   "cell_type": "markdown",
   "id": "913c2bd2",
   "metadata": {},
   "source": [
    "## **Load the Dataset**\n"
   ]
  },
  {
   "cell_type": "code",
   "execution_count": 5,
   "id": "e1c4bda4",
   "metadata": {},
   "outputs": [],
   "source": [
    "df = pd.read_csv('../kaggle_datasets/googleplaystore.csv')"
   ]
  },
  {
   "cell_type": "markdown",
   "id": "d2837a84",
   "metadata": {},
   "source": [
    "## **Data Overview**\n",
    "\n",
    "The dataset has been successfully loaded. Below is a preview of the first few rows. This helps identify missing values, data types, and possible anomalies in the data.\n"
   ]
  },
  {
   "cell_type": "code",
   "execution_count": 6,
   "id": "b6924bc1",
   "metadata": {},
   "outputs": [
    {
     "name": "stdout",
     "output_type": "stream",
     "text": [
      "Dataset Shape: (10841, 13)\n"
     ]
    },
    {
     "data": {
      "application/vnd.microsoft.datawrangler.viewer.v0+json": {
       "columns": [
        {
         "name": "index",
         "rawType": "int64",
         "type": "integer"
        },
        {
         "name": "App",
         "rawType": "object",
         "type": "string"
        },
        {
         "name": "Category",
         "rawType": "object",
         "type": "string"
        },
        {
         "name": "Rating",
         "rawType": "float64",
         "type": "float"
        },
        {
         "name": "Reviews",
         "rawType": "object",
         "type": "string"
        },
        {
         "name": "Size",
         "rawType": "object",
         "type": "string"
        },
        {
         "name": "Installs",
         "rawType": "object",
         "type": "string"
        },
        {
         "name": "Type",
         "rawType": "object",
         "type": "string"
        },
        {
         "name": "Price",
         "rawType": "object",
         "type": "string"
        },
        {
         "name": "Content Rating",
         "rawType": "object",
         "type": "string"
        },
        {
         "name": "Genres",
         "rawType": "object",
         "type": "string"
        },
        {
         "name": "Last Updated",
         "rawType": "object",
         "type": "string"
        },
        {
         "name": "Current Ver",
         "rawType": "object",
         "type": "string"
        },
        {
         "name": "Android Ver",
         "rawType": "object",
         "type": "string"
        }
       ],
       "ref": "a6e9e7b3-3454-4f0c-b30a-0cfe3e8ac410",
       "rows": [
        [
         "0",
         "Photo Editor & Candy Camera & Grid & ScrapBook",
         "ART_AND_DESIGN",
         "4.1",
         "159",
         "19M",
         "10,000+",
         "Free",
         "0",
         "Everyone",
         "Art & Design",
         "January 7, 2018",
         "1.0.0",
         "4.0.3 and up"
        ],
        [
         "1",
         "Coloring book moana",
         "ART_AND_DESIGN",
         "3.9",
         "967",
         "14M",
         "500,000+",
         "Free",
         "0",
         "Everyone",
         "Art & Design;Pretend Play",
         "January 15, 2018",
         "2.0.0",
         "4.0.3 and up"
        ],
        [
         "2",
         "U Launcher Lite – FREE Live Cool Themes, Hide Apps",
         "ART_AND_DESIGN",
         "4.7",
         "87510",
         "8.7M",
         "5,000,000+",
         "Free",
         "0",
         "Everyone",
         "Art & Design",
         "August 1, 2018",
         "1.2.4",
         "4.0.3 and up"
        ],
        [
         "3",
         "Sketch - Draw & Paint",
         "ART_AND_DESIGN",
         "4.5",
         "215644",
         "25M",
         "50,000,000+",
         "Free",
         "0",
         "Teen",
         "Art & Design",
         "June 8, 2018",
         "Varies with device",
         "4.2 and up"
        ],
        [
         "4",
         "Pixel Draw - Number Art Coloring Book",
         "ART_AND_DESIGN",
         "4.3",
         "967",
         "2.8M",
         "100,000+",
         "Free",
         "0",
         "Everyone",
         "Art & Design;Creativity",
         "June 20, 2018",
         "1.1",
         "4.4 and up"
        ]
       ],
       "shape": {
        "columns": 13,
        "rows": 5
       }
      },
      "text/html": [
       "<div>\n",
       "<style scoped>\n",
       "    .dataframe tbody tr th:only-of-type {\n",
       "        vertical-align: middle;\n",
       "    }\n",
       "\n",
       "    .dataframe tbody tr th {\n",
       "        vertical-align: top;\n",
       "    }\n",
       "\n",
       "    .dataframe thead th {\n",
       "        text-align: right;\n",
       "    }\n",
       "</style>\n",
       "<table border=\"1\" class=\"dataframe\">\n",
       "  <thead>\n",
       "    <tr style=\"text-align: right;\">\n",
       "      <th></th>\n",
       "      <th>App</th>\n",
       "      <th>Category</th>\n",
       "      <th>Rating</th>\n",
       "      <th>Reviews</th>\n",
       "      <th>Size</th>\n",
       "      <th>Installs</th>\n",
       "      <th>Type</th>\n",
       "      <th>Price</th>\n",
       "      <th>Content Rating</th>\n",
       "      <th>Genres</th>\n",
       "      <th>Last Updated</th>\n",
       "      <th>Current Ver</th>\n",
       "      <th>Android Ver</th>\n",
       "    </tr>\n",
       "  </thead>\n",
       "  <tbody>\n",
       "    <tr>\n",
       "      <th>0</th>\n",
       "      <td>Photo Editor &amp; Candy Camera &amp; Grid &amp; ScrapBook</td>\n",
       "      <td>ART_AND_DESIGN</td>\n",
       "      <td>4.1</td>\n",
       "      <td>159</td>\n",
       "      <td>19M</td>\n",
       "      <td>10,000+</td>\n",
       "      <td>Free</td>\n",
       "      <td>0</td>\n",
       "      <td>Everyone</td>\n",
       "      <td>Art &amp; Design</td>\n",
       "      <td>January 7, 2018</td>\n",
       "      <td>1.0.0</td>\n",
       "      <td>4.0.3 and up</td>\n",
       "    </tr>\n",
       "    <tr>\n",
       "      <th>1</th>\n",
       "      <td>Coloring book moana</td>\n",
       "      <td>ART_AND_DESIGN</td>\n",
       "      <td>3.9</td>\n",
       "      <td>967</td>\n",
       "      <td>14M</td>\n",
       "      <td>500,000+</td>\n",
       "      <td>Free</td>\n",
       "      <td>0</td>\n",
       "      <td>Everyone</td>\n",
       "      <td>Art &amp; Design;Pretend Play</td>\n",
       "      <td>January 15, 2018</td>\n",
       "      <td>2.0.0</td>\n",
       "      <td>4.0.3 and up</td>\n",
       "    </tr>\n",
       "    <tr>\n",
       "      <th>2</th>\n",
       "      <td>U Launcher Lite – FREE Live Cool Themes, Hide ...</td>\n",
       "      <td>ART_AND_DESIGN</td>\n",
       "      <td>4.7</td>\n",
       "      <td>87510</td>\n",
       "      <td>8.7M</td>\n",
       "      <td>5,000,000+</td>\n",
       "      <td>Free</td>\n",
       "      <td>0</td>\n",
       "      <td>Everyone</td>\n",
       "      <td>Art &amp; Design</td>\n",
       "      <td>August 1, 2018</td>\n",
       "      <td>1.2.4</td>\n",
       "      <td>4.0.3 and up</td>\n",
       "    </tr>\n",
       "    <tr>\n",
       "      <th>3</th>\n",
       "      <td>Sketch - Draw &amp; Paint</td>\n",
       "      <td>ART_AND_DESIGN</td>\n",
       "      <td>4.5</td>\n",
       "      <td>215644</td>\n",
       "      <td>25M</td>\n",
       "      <td>50,000,000+</td>\n",
       "      <td>Free</td>\n",
       "      <td>0</td>\n",
       "      <td>Teen</td>\n",
       "      <td>Art &amp; Design</td>\n",
       "      <td>June 8, 2018</td>\n",
       "      <td>Varies with device</td>\n",
       "      <td>4.2 and up</td>\n",
       "    </tr>\n",
       "    <tr>\n",
       "      <th>4</th>\n",
       "      <td>Pixel Draw - Number Art Coloring Book</td>\n",
       "      <td>ART_AND_DESIGN</td>\n",
       "      <td>4.3</td>\n",
       "      <td>967</td>\n",
       "      <td>2.8M</td>\n",
       "      <td>100,000+</td>\n",
       "      <td>Free</td>\n",
       "      <td>0</td>\n",
       "      <td>Everyone</td>\n",
       "      <td>Art &amp; Design;Creativity</td>\n",
       "      <td>June 20, 2018</td>\n",
       "      <td>1.1</td>\n",
       "      <td>4.4 and up</td>\n",
       "    </tr>\n",
       "  </tbody>\n",
       "</table>\n",
       "</div>"
      ],
      "text/plain": [
       "                                                 App        Category  Rating  \\\n",
       "0     Photo Editor & Candy Camera & Grid & ScrapBook  ART_AND_DESIGN     4.1   \n",
       "1                                Coloring book moana  ART_AND_DESIGN     3.9   \n",
       "2  U Launcher Lite – FREE Live Cool Themes, Hide ...  ART_AND_DESIGN     4.7   \n",
       "3                              Sketch - Draw & Paint  ART_AND_DESIGN     4.5   \n",
       "4              Pixel Draw - Number Art Coloring Book  ART_AND_DESIGN     4.3   \n",
       "\n",
       "  Reviews  Size     Installs  Type Price Content Rating  \\\n",
       "0     159   19M      10,000+  Free     0       Everyone   \n",
       "1     967   14M     500,000+  Free     0       Everyone   \n",
       "2   87510  8.7M   5,000,000+  Free     0       Everyone   \n",
       "3  215644   25M  50,000,000+  Free     0           Teen   \n",
       "4     967  2.8M     100,000+  Free     0       Everyone   \n",
       "\n",
       "                      Genres      Last Updated         Current Ver  \\\n",
       "0               Art & Design   January 7, 2018               1.0.0   \n",
       "1  Art & Design;Pretend Play  January 15, 2018               2.0.0   \n",
       "2               Art & Design    August 1, 2018               1.2.4   \n",
       "3               Art & Design      June 8, 2018  Varies with device   \n",
       "4    Art & Design;Creativity     June 20, 2018                 1.1   \n",
       "\n",
       "    Android Ver  \n",
       "0  4.0.3 and up  \n",
       "1  4.0.3 and up  \n",
       "2  4.0.3 and up  \n",
       "3    4.2 and up  \n",
       "4    4.4 and up  "
      ]
     },
     "execution_count": 6,
     "metadata": {},
     "output_type": "execute_result"
    }
   ],
   "source": [
    "# Check the shape of the dataset\n",
    "print(\"Dataset Shape:\", df.shape)\n",
    "\n",
    "# Preview first 5 rows\n",
    "df.head()"
   ]
  },
  {
   "cell_type": "code",
   "execution_count": 7,
   "id": "b5a4c36f",
   "metadata": {},
   "outputs": [
    {
     "name": "stdout",
     "output_type": "stream",
     "text": [
      "<class 'pandas.core.frame.DataFrame'>\n",
      "RangeIndex: 10841 entries, 0 to 10840\n",
      "Data columns (total 13 columns):\n",
      " #   Column          Non-Null Count  Dtype  \n",
      "---  ------          --------------  -----  \n",
      " 0   App             10841 non-null  object \n",
      " 1   Category        10841 non-null  object \n",
      " 2   Rating          9367 non-null   float64\n",
      " 3   Reviews         10841 non-null  object \n",
      " 4   Size            10841 non-null  object \n",
      " 5   Installs        10841 non-null  object \n",
      " 6   Type            10840 non-null  object \n",
      " 7   Price           10841 non-null  object \n",
      " 8   Content Rating  10840 non-null  object \n",
      " 9   Genres          10841 non-null  object \n",
      " 10  Last Updated    10841 non-null  object \n",
      " 11  Current Ver     10833 non-null  object \n",
      " 12  Android Ver     10838 non-null  object \n",
      "dtypes: float64(1), object(12)\n",
      "memory usage: 1.1+ MB\n"
     ]
    }
   ],
   "source": [
    "# Get info about each column: data types, non-null counts\n",
    "df.info()"
   ]
  },
  {
   "cell_type": "markdown",
   "id": "120d7e87",
   "metadata": {},
   "source": [
    "---\n",
    "\n",
    "## **Data Cleaning**\n",
    "\n",
    "After inspecting the dataset using `df.info()`, the following issues have been identified:\n",
    "\n",
    "- **Missing Values:** Several columns contain missing values. For example, `Rating`, `Type`, `Content Rating`, `Current Ver`, and `Android Ver`.\n",
    "- **Incorrect Data Types:** Many columns that should be numeric are currently stored as object types (strings), such as:\n",
    "  - `Reviews` (should be int)\n",
    "  - `Size` (should be float or int, but has 'M', 'k', and 'Varies with device')\n",
    "  - `Installs` (should be int, but has commas and '+')\n",
    "  - `Price` (should be float, but has '$' symbol)\n",
    "- **Potential Duplicates or Anomalies** may also exist in the data.\n",
    "\n",
    "In the next steps, I will:\n",
    "1. Handle missing values.\n",
    "2. Convert data types to appropriate formats.\n",
    "3. Clean inconsistent text data (like symbols in `Price` and `Installs`).\n",
    "4. Prepare the dataset for analysis.\n"
   ]
  },
  {
   "cell_type": "code",
   "execution_count": 9,
   "id": "4c405bb9",
   "metadata": {},
   "outputs": [
    {
     "data": {
      "application/vnd.microsoft.datawrangler.viewer.v0+json": {
       "columns": [
        {
         "name": "index",
         "rawType": "object",
         "type": "string"
        },
        {
         "name": "0",
         "rawType": "int64",
         "type": "integer"
        }
       ],
       "ref": "fb64f538-4795-4a09-ae62-941f34dcb04a",
       "rows": [
        [
         "App",
         "0"
        ],
        [
         "Category",
         "0"
        ],
        [
         "Rating",
         "1474"
        ],
        [
         "Reviews",
         "0"
        ],
        [
         "Size",
         "0"
        ],
        [
         "Installs",
         "0"
        ],
        [
         "Type",
         "1"
        ],
        [
         "Price",
         "0"
        ],
        [
         "Content Rating",
         "1"
        ],
        [
         "Genres",
         "0"
        ],
        [
         "Last Updated",
         "0"
        ],
        [
         "Current Ver",
         "8"
        ],
        [
         "Android Ver",
         "3"
        ]
       ],
       "shape": {
        "columns": 1,
        "rows": 13
       }
      },
      "text/plain": [
       "App                  0\n",
       "Category             0\n",
       "Rating            1474\n",
       "Reviews              0\n",
       "Size                 0\n",
       "Installs             0\n",
       "Type                 1\n",
       "Price                0\n",
       "Content Rating       1\n",
       "Genres               0\n",
       "Last Updated         0\n",
       "Current Ver          8\n",
       "Android Ver          3\n",
       "dtype: int64"
      ]
     },
     "execution_count": 9,
     "metadata": {},
     "output_type": "execute_result"
    }
   ],
   "source": [
    "# Check for missing values\n",
    "df.isnull().sum()"
   ]
  },
  {
   "cell_type": "code",
   "execution_count": null,
   "id": "5cfe11ab",
   "metadata": {},
   "outputs": [
    {
     "name": "stdout",
     "output_type": "stream",
     "text": [
      "Dataset Shape after removing duplicates: (10358, 13)\n"
     ]
    }
   ],
   "source": [
    "# Remove duplicate rows if any\n",
    "df.drop_duplicates(inplace=True)\n",
    "\n",
    "# Data shape after removing duplicates\n",
    "print(\"Dataset Shape after removing duplicates:\", df.shape)"
   ]
  },
  {
   "cell_type": "markdown",
   "id": "3a90a58a",
   "metadata": {},
   "source": [
    "### **Cleaning the 'Reviews', 'Installs', and 'Price' Columns**\n",
    "\n",
    "These three columns are essential for numeric analysis but were stored as strings due to extra symbols and formatting. Here's how each was cleaned:\n",
    "\n",
    "- **Reviews:** This column represents the total number of user reviews for each app. Although it contains numeric values, it was stored as a string. It was converted to a numeric type using `pd.to_numeric()`.\n",
    "\n",
    "- **Installs:** This column included characters like commas (`,`) and plus signs (`+`) (e.g., `1,000+`, `5,000,000+`). These were removed using string replacement, and the column was then converted to a numeric format. It is important to note that the values represent **minimum installs** since the original data used a `+` sign.\n",
    "\n",
    "- **Price:** The price column contained dollar signs (e.g., `$0.99`, `$4.99`) which made the values non-numeric. The `$` symbol was stripped out, and the column was converted to float. Free apps are now recorded as `0.0`, making price-based analysis easier.\n",
    "\n",
    "All three columns are now in a clean, numeric format suitable for further analysis and visualization.\n"
   ]
  },
  {
   "cell_type": "code",
   "execution_count": 13,
   "id": "38ff4071",
   "metadata": {},
   "outputs": [],
   "source": [
    "# Convert 'Reviews' to numeric\n",
    "df['Reviews'] = pd.to_numeric(df['Reviews'], errors='coerce')\n",
    "\n",
    "# Clean 'Installs' column: remove ',' and '+' then convert to int\n",
    "# Note: The '+' sign indicates a lower bound. Values are treated as minimum installs.\n",
    "df['Installs'] = df['Installs'].str.replace(',', '').str.replace('+', '')\n",
    "df['Installs'] = pd.to_numeric(df['Installs'], errors='coerce')\n",
    "\n",
    "# Clean 'Price' column: remove '$' and convert to float\n",
    "df['Price'] = df['Price'].str.replace('$', '')\n",
    "df['Price'] = pd.to_numeric(df['Price'], errors='coerce')\n"
   ]
  },
  {
   "cell_type": "markdown",
   "id": "c1de8367",
   "metadata": {},
   "source": [
    "### **Cleaning the 'Size' Column**\n",
    "\n",
    "The `Size` column contains inconsistent values such as `19M`, `512k`, and `Varies with device`. These formats are not directly suitable for analysis.\n",
    "\n",
    "To fix this:\n",
    "- All instances of `\"Varies with device\"` were replaced with NaN.\n",
    "- Sizes ending in `M` (megabytes) were converted to float values.\n",
    "- Sizes ending in `k` (kilobytes) were converted to megabytes by dividing by 1,000.\n",
    "- The final `Size` column is now numeric and standardized in **megabytes**.\n"
   ]
  },
  {
   "cell_type": "code",
   "execution_count": null,
   "id": "6edf026a",
   "metadata": {},
   "outputs": [],
   "source": [
    "# Replace 'Varies with device' with NaN\n",
    "df['Size'] = df['Size'].replace('Varies with device', np.nan)\n",
    "\n",
    "# Remove M and k, convert to float, convert k to MB\n",
    "def convert_size(size_str):\n",
    "    if isinstance(size_str, str):\n",
    "        if size_str.endswith('M'):\n",
    "            return float(size_str.replace('M', ''))\n",
    "        elif size_str.endswith('k'):\n",
    "            return float(size_str.replace('k', '')) * 0.001\n",
    "    return np.nan\n",
    "\n",
    "# Apply conversion\n",
    "df['Size'] = df['Size'].apply(convert_size)"
   ]
  },
  {
   "cell_type": "code",
   "execution_count": 15,
   "id": "b86a57f9",
   "metadata": {},
   "outputs": [
    {
     "name": "stdout",
     "output_type": "stream",
     "text": [
      "<class 'pandas.core.frame.DataFrame'>\n",
      "Index: 10358 entries, 0 to 10840\n",
      "Data columns (total 13 columns):\n",
      " #   Column          Non-Null Count  Dtype  \n",
      "---  ------          --------------  -----  \n",
      " 0   App             10358 non-null  object \n",
      " 1   Category        10358 non-null  object \n",
      " 2   Rating          8893 non-null   float64\n",
      " 3   Reviews         10357 non-null  float64\n",
      " 4   Size            8831 non-null   float64\n",
      " 5   Installs        10357 non-null  float64\n",
      " 6   Type            10357 non-null  object \n",
      " 7   Price           10357 non-null  float64\n",
      " 8   Content Rating  10357 non-null  object \n",
      " 9   Genres          10358 non-null  object \n",
      " 10  Last Updated    10358 non-null  object \n",
      " 11  Current Ver     10350 non-null  object \n",
      " 12  Android Ver     10355 non-null  object \n",
      "dtypes: float64(5), object(8)\n",
      "memory usage: 1.1+ MB\n"
     ]
    }
   ],
   "source": [
    "# after cleaning check the info of the dataframe\n",
    "df.info()"
   ]
  },
  {
   "cell_type": "markdown",
   "id": "990c32c5",
   "metadata": {},
   "source": [
    "### **Handling Missing Values**\n",
    "\n",
    "After cleaning the dataset, we need to handle missing values to avoid errors during analysis or model building. Missing values can exist due to incomplete entries or non-standard formats in the original data.\n",
    "\n",
    "We will:\n",
    "- Check how many missing values exist in each column.\n",
    "- Decide whether to fill or drop them based on the importance of each column.\n"
   ]
  },
  {
   "cell_type": "code",
   "execution_count": 17,
   "id": "052aa215",
   "metadata": {},
   "outputs": [
    {
     "data": {
      "application/vnd.microsoft.datawrangler.viewer.v0+json": {
       "columns": [
        {
         "name": "index",
         "rawType": "object",
         "type": "string"
        },
        {
         "name": "0",
         "rawType": "int64",
         "type": "integer"
        }
       ],
       "ref": "bc1e6575-adea-4962-81c3-89aed269ed04",
       "rows": [
        [
         "App",
         "0"
        ],
        [
         "Category",
         "0"
        ],
        [
         "Rating",
         "1465"
        ],
        [
         "Reviews",
         "1"
        ],
        [
         "Size",
         "1527"
        ],
        [
         "Installs",
         "1"
        ],
        [
         "Type",
         "1"
        ],
        [
         "Price",
         "1"
        ],
        [
         "Content Rating",
         "1"
        ],
        [
         "Genres",
         "0"
        ],
        [
         "Last Updated",
         "0"
        ],
        [
         "Current Ver",
         "8"
        ],
        [
         "Android Ver",
         "3"
        ]
       ],
       "shape": {
        "columns": 1,
        "rows": 13
       }
      },
      "text/plain": [
       "App                  0\n",
       "Category             0\n",
       "Rating            1465\n",
       "Reviews              1\n",
       "Size              1527\n",
       "Installs             1\n",
       "Type                 1\n",
       "Price                1\n",
       "Content Rating       1\n",
       "Genres               0\n",
       "Last Updated         0\n",
       "Current Ver          8\n",
       "Android Ver          3\n",
       "dtype: int64"
      ]
     },
     "execution_count": 17,
     "metadata": {},
     "output_type": "execute_result"
    }
   ],
   "source": [
    "# Check number of missing values in each column\n",
    "df.isnull().sum()"
   ]
  },
  {
   "cell_type": "markdown",
   "id": "7674348a",
   "metadata": {},
   "source": [
    "### **Handling Missing Values (Final Actions)**\n",
    "\n",
    "Based on the number of missing values and importance of columns:\n",
    "\n",
    "- `Rating` was filled with mean value.\n",
    "- `Size` was filled with median value.\n",
    "- Rows with missing `Reviews`, `Installs`, and `Price` were dropped (only 1 row each).\n",
    "- `Type` was filled with 'Free' (most common).\n",
    "- `Content Rating` was filled with mode value.\n",
    "- Rows with missing `Current Ver` and `Android Ver` were dropped (very few).\n",
    "\n",
    "After these steps, the dataset is now free of missing values and ready for analysis.\n"
   ]
  },
  {
   "cell_type": "code",
   "execution_count": 22,
   "id": "d9e54a87",
   "metadata": {},
   "outputs": [
    {
     "data": {
      "application/vnd.microsoft.datawrangler.viewer.v0+json": {
       "columns": [
        {
         "name": "index",
         "rawType": "object",
         "type": "string"
        },
        {
         "name": "0",
         "rawType": "int64",
         "type": "integer"
        }
       ],
       "ref": "61c62ce3-fe1d-4cc9-9fb8-21437469f320",
       "rows": [
        [
         "App",
         "0"
        ],
        [
         "Category",
         "0"
        ],
        [
         "Rating",
         "0"
        ],
        [
         "Reviews",
         "0"
        ],
        [
         "Size",
         "0"
        ],
        [
         "Installs",
         "0"
        ],
        [
         "Type",
         "0"
        ],
        [
         "Price",
         "0"
        ],
        [
         "Content Rating",
         "0"
        ],
        [
         "Genres",
         "0"
        ],
        [
         "Last Updated",
         "0"
        ],
        [
         "Current Ver",
         "0"
        ],
        [
         "Android Ver",
         "0"
        ]
       ],
       "shape": {
        "columns": 1,
        "rows": 13
       }
      },
      "text/plain": [
       "App               0\n",
       "Category          0\n",
       "Rating            0\n",
       "Reviews           0\n",
       "Size              0\n",
       "Installs          0\n",
       "Type              0\n",
       "Price             0\n",
       "Content Rating    0\n",
       "Genres            0\n",
       "Last Updated      0\n",
       "Current Ver       0\n",
       "Android Ver       0\n",
       "dtype: int64"
      ]
     },
     "execution_count": 22,
     "metadata": {},
     "output_type": "execute_result"
    }
   ],
   "source": [
    "# Fill missing 'Rating' with mean (important column, 1465 missing)\n",
    "df['Rating'] = df['Rating'].fillna(df['Rating'].mean())  # filling numeric missing with average\n",
    "\n",
    "# Fill missing 'Size' with median (more stable than mean for skewed data)\n",
    "df['Size'] = df['Size'].fillna(df['Size'].median())\n",
    "\n",
    "# Drop rows where 'Reviews', 'Installs', or 'Price' is missing (only 1 row each, safe to drop)\n",
    "df.dropna(subset=['Reviews', 'Installs', 'Price'], inplace=True)\n",
    "\n",
    "# Fill missing 'Type' with 'Free' (most common value)\n",
    "df['Type'] = df['Type'].fillna('Free')\n",
    "\n",
    "# Fill missing 'Content Rating' with mode (most frequent value)\n",
    "df['Content Rating'] = df['Content Rating'].fillna(df['Content Rating'].mode()[0])\n",
    "\n",
    "# Drop rows where 'Current Ver' or 'Android Ver' is missing (only 8 and 3 rows)\n",
    "df.dropna(subset=['Current Ver', 'Android Ver'], inplace=True)\n",
    "\n",
    "# Final check to confirm no missing values remain\n",
    "df.isnull().sum()\n"
   ]
  },
  {
   "cell_type": "markdown",
   "id": "137601db",
   "metadata": {},
   "source": [
    "### **Final Dataset Shape After Cleaning**\n",
    "\n",
    "The original dataset contained **10,841 rows**.\n",
    "\n",
    "- After removing duplicate rows, the dataset was reduced to **10,358 rows**.\n",
    "- After handling missing values through a combination of filling (mean, median, mode) and dropping incomplete rows, the final dataset now contains **10,347 rows**.\n",
    "\n",
    "A total of **494 rows** were affected during the cleaning process:\n",
    "- **483** duplicate rows were removed.\n",
    "- **11** rows were dropped due to missing values in key columns.\n",
    "\n",
    "The dataset is now fully cleaned, consistent, and ready for exploratory data analysis (EDA).\n"
   ]
  },
  {
   "cell_type": "markdown",
   "id": "b6cc1d24",
   "metadata": {},
   "source": [
    "---\n",
    "\n",
    "## **Exploratory Data Analysis (EDA) – Section Start**"
   ]
  },
  {
   "cell_type": "markdown",
   "id": "6093bce9",
   "metadata": {},
   "source": [
    "### **Dataset Summary**\n",
    "\n",
    "We begin EDA by examining the general statistical summary of all numerical columns using `describe()`. This helps identify the data ranges, distributions, and potential outliers.\n"
   ]
  },
  {
   "cell_type": "code",
   "execution_count": 23,
   "id": "0b0aa0f9",
   "metadata": {},
   "outputs": [
    {
     "data": {
      "application/vnd.microsoft.datawrangler.viewer.v0+json": {
       "columns": [
        {
         "name": "index",
         "rawType": "object",
         "type": "string"
        },
        {
         "name": "Rating",
         "rawType": "float64",
         "type": "float"
        },
        {
         "name": "Reviews",
         "rawType": "float64",
         "type": "float"
        },
        {
         "name": "Size",
         "rawType": "float64",
         "type": "float"
        },
        {
         "name": "Installs",
         "rawType": "float64",
         "type": "float"
        },
        {
         "name": "Price",
         "rawType": "float64",
         "type": "float"
        }
       ],
       "ref": "92fa850f-f514-4a90-aa06-c2ada3c1fa45",
       "rows": [
        [
         "count",
         "10347.0",
         "10347.0",
         "10347.0",
         "10347.0",
         "10347.0"
        ],
        [
         "mean",
         "4.1881822126098225",
         "406294.4999516768",
         "20.081533826229826",
         "14171289.979414323",
         "1.0314612931284428"
        ],
        [
         "std",
         "0.4841379883009883",
         "2698051.631052878",
         "21.02386274455024",
         "80277140.87032336",
         "16.286467750576588"
        ],
        [
         "min",
         "1.0",
         "0.0",
         "0.0085",
         "0.0",
         "0.0"
        ],
        [
         "25%",
         "4.1",
         "32.0",
         "5.7",
         "1000.0",
         "0.0"
        ],
        [
         "50%",
         "4.2",
         "1688.0",
         "13.0",
         "100000.0",
         "0.0"
        ],
        [
         "75%",
         "4.5",
         "46578.5",
         "26.0",
         "1000000.0",
         "0.0"
        ],
        [
         "max",
         "5.0",
         "78158306.0",
         "100.0",
         "1000000000.0",
         "400.0"
        ]
       ],
       "shape": {
        "columns": 5,
        "rows": 8
       }
      },
      "text/html": [
       "<div>\n",
       "<style scoped>\n",
       "    .dataframe tbody tr th:only-of-type {\n",
       "        vertical-align: middle;\n",
       "    }\n",
       "\n",
       "    .dataframe tbody tr th {\n",
       "        vertical-align: top;\n",
       "    }\n",
       "\n",
       "    .dataframe thead th {\n",
       "        text-align: right;\n",
       "    }\n",
       "</style>\n",
       "<table border=\"1\" class=\"dataframe\">\n",
       "  <thead>\n",
       "    <tr style=\"text-align: right;\">\n",
       "      <th></th>\n",
       "      <th>Rating</th>\n",
       "      <th>Reviews</th>\n",
       "      <th>Size</th>\n",
       "      <th>Installs</th>\n",
       "      <th>Price</th>\n",
       "    </tr>\n",
       "  </thead>\n",
       "  <tbody>\n",
       "    <tr>\n",
       "      <th>count</th>\n",
       "      <td>10347.000000</td>\n",
       "      <td>1.034700e+04</td>\n",
       "      <td>10347.000000</td>\n",
       "      <td>1.034700e+04</td>\n",
       "      <td>10347.000000</td>\n",
       "    </tr>\n",
       "    <tr>\n",
       "      <th>mean</th>\n",
       "      <td>4.188182</td>\n",
       "      <td>4.062945e+05</td>\n",
       "      <td>20.081534</td>\n",
       "      <td>1.417129e+07</td>\n",
       "      <td>1.031461</td>\n",
       "    </tr>\n",
       "    <tr>\n",
       "      <th>std</th>\n",
       "      <td>0.484138</td>\n",
       "      <td>2.698052e+06</td>\n",
       "      <td>21.023863</td>\n",
       "      <td>8.027714e+07</td>\n",
       "      <td>16.286468</td>\n",
       "    </tr>\n",
       "    <tr>\n",
       "      <th>min</th>\n",
       "      <td>1.000000</td>\n",
       "      <td>0.000000e+00</td>\n",
       "      <td>0.008500</td>\n",
       "      <td>0.000000e+00</td>\n",
       "      <td>0.000000</td>\n",
       "    </tr>\n",
       "    <tr>\n",
       "      <th>25%</th>\n",
       "      <td>4.100000</td>\n",
       "      <td>3.200000e+01</td>\n",
       "      <td>5.700000</td>\n",
       "      <td>1.000000e+03</td>\n",
       "      <td>0.000000</td>\n",
       "    </tr>\n",
       "    <tr>\n",
       "      <th>50%</th>\n",
       "      <td>4.200000</td>\n",
       "      <td>1.688000e+03</td>\n",
       "      <td>13.000000</td>\n",
       "      <td>1.000000e+05</td>\n",
       "      <td>0.000000</td>\n",
       "    </tr>\n",
       "    <tr>\n",
       "      <th>75%</th>\n",
       "      <td>4.500000</td>\n",
       "      <td>4.657850e+04</td>\n",
       "      <td>26.000000</td>\n",
       "      <td>1.000000e+06</td>\n",
       "      <td>0.000000</td>\n",
       "    </tr>\n",
       "    <tr>\n",
       "      <th>max</th>\n",
       "      <td>5.000000</td>\n",
       "      <td>7.815831e+07</td>\n",
       "      <td>100.000000</td>\n",
       "      <td>1.000000e+09</td>\n",
       "      <td>400.000000</td>\n",
       "    </tr>\n",
       "  </tbody>\n",
       "</table>\n",
       "</div>"
      ],
      "text/plain": [
       "             Rating       Reviews          Size      Installs         Price\n",
       "count  10347.000000  1.034700e+04  10347.000000  1.034700e+04  10347.000000\n",
       "mean       4.188182  4.062945e+05     20.081534  1.417129e+07      1.031461\n",
       "std        0.484138  2.698052e+06     21.023863  8.027714e+07     16.286468\n",
       "min        1.000000  0.000000e+00      0.008500  0.000000e+00      0.000000\n",
       "25%        4.100000  3.200000e+01      5.700000  1.000000e+03      0.000000\n",
       "50%        4.200000  1.688000e+03     13.000000  1.000000e+05      0.000000\n",
       "75%        4.500000  4.657850e+04     26.000000  1.000000e+06      0.000000\n",
       "max        5.000000  7.815831e+07    100.000000  1.000000e+09    400.000000"
      ]
     },
     "execution_count": 23,
     "metadata": {},
     "output_type": "execute_result"
    }
   ],
   "source": [
    "df.describe()"
   ]
  },
  {
   "cell_type": "markdown",
   "id": "d3e04729",
   "metadata": {},
   "source": [
    "### **Unique Values Per Column**\n",
    "\n",
    "Checking how many unique values exist in each column can help spot categorical data, duplicates, anomalies, and more.\n"
   ]
  },
  {
   "cell_type": "code",
   "execution_count": 24,
   "id": "818af891",
   "metadata": {},
   "outputs": [
    {
     "name": "stdout",
     "output_type": "stream",
     "text": [
      "App: 9649 unique values\n",
      "Category: 33 unique values\n",
      "Rating: 40 unique values\n",
      "Reviews: 5999 unique values\n",
      "Size: 455 unique values\n",
      "Installs: 20 unique values\n",
      "Type: 2 unique values\n",
      "Price: 92 unique values\n",
      "Content Rating: 6 unique values\n",
      "Genres: 119 unique values\n",
      "Last Updated: 1376 unique values\n",
      "Current Ver: 2831 unique values\n",
      "Android Ver: 33 unique values\n"
     ]
    }
   ],
   "source": [
    "for col in df.columns:\n",
    "    print(f\"{col}: {df[col].nunique()} unique values\")\n"
   ]
  },
  {
   "cell_type": "markdown",
   "id": "ba9eec71",
   "metadata": {},
   "source": [
    "### **Data Types and Structure**\n",
    "\n",
    "Reviewing the types of each column ensures the cleaning was successful and helps plan grouping or plotting accordingly.\n"
   ]
  },
  {
   "cell_type": "code",
   "execution_count": 25,
   "id": "49d1f266",
   "metadata": {},
   "outputs": [
    {
     "data": {
      "application/vnd.microsoft.datawrangler.viewer.v0+json": {
       "columns": [
        {
         "name": "index",
         "rawType": "object",
         "type": "string"
        },
        {
         "name": "0",
         "rawType": "object",
         "type": "unknown"
        }
       ],
       "ref": "e5cd94ba-28de-42b7-8ed0-899889e3eb5e",
       "rows": [
        [
         "App",
         "object"
        ],
        [
         "Category",
         "object"
        ],
        [
         "Rating",
         "float64"
        ],
        [
         "Reviews",
         "float64"
        ],
        [
         "Size",
         "float64"
        ],
        [
         "Installs",
         "float64"
        ],
        [
         "Type",
         "object"
        ],
        [
         "Price",
         "float64"
        ],
        [
         "Content Rating",
         "object"
        ],
        [
         "Genres",
         "object"
        ],
        [
         "Last Updated",
         "object"
        ],
        [
         "Current Ver",
         "object"
        ],
        [
         "Android Ver",
         "object"
        ]
       ],
       "shape": {
        "columns": 1,
        "rows": 13
       }
      },
      "text/plain": [
       "App                object\n",
       "Category           object\n",
       "Rating            float64\n",
       "Reviews           float64\n",
       "Size              float64\n",
       "Installs          float64\n",
       "Type               object\n",
       "Price             float64\n",
       "Content Rating     object\n",
       "Genres             object\n",
       "Last Updated       object\n",
       "Current Ver        object\n",
       "Android Ver        object\n",
       "dtype: object"
      ]
     },
     "execution_count": 25,
     "metadata": {},
     "output_type": "execute_result"
    }
   ],
   "source": [
    "df.dtypes"
   ]
  },
  {
   "cell_type": "markdown",
   "id": "fc5b917b",
   "metadata": {},
   "source": [
    "### **Correlation Between Numerical Columns**\n",
    "\n",
    "We use a heatmap to visualize how numerical columns like `Rating`, `Reviews`, `Size`, `Installs`, and `Price` are related.\n"
   ]
  },
  {
   "cell_type": "code",
   "execution_count": 26,
   "id": "fd6738a6",
   "metadata": {},
   "outputs": [
    {
     "data": {
      "image/png": "[encoded data removed]",
      "text/plain": [
       "<Figure size 1000x600 with 2 Axes>"
      ]
     },
     "metadata": {},
     "output_type": "display_data"
    }
   ],
   "source": [
    "plt.figure(figsize=(10, 6))\n",
    "sns.heatmap(df.corr(numeric_only=True), annot=True, cmap='coolwarm', linewidths=0.5)\n",
    "plt.title('Correlation Between Numerical Features')\n",
    "plt.show()"
   ]
  },
  {
   "cell_type": "markdown",
   "id": "f58639fb",
   "metadata": {},
   "source": [
    "### **Checking for Zero or Outlier Values**\n",
    "\n",
    "Sometimes zero values (e.g., zero reviews, size, or installs) are either errors or special cases. Let's investigate how many apps have unusual values.\n"
   ]
  },
  {
   "cell_type": "code",
   "execution_count": 27,
   "id": "9617441a",
   "metadata": {},
   "outputs": [
    {
     "name": "stdout",
     "output_type": "stream",
     "text": [
      "Apps with 0 Reviews: 592\n",
      "Apps with 0 Installs: 15\n",
      "Apps with 0 Size: 0\n",
      "Paid Apps with 0 Price: 0\n"
     ]
    }
   ],
   "source": [
    "print(\"Apps with 0 Reviews:\", df[df['Reviews'] == 0].shape[0])\n",
    "print(\"Apps with 0 Installs:\", df[df['Installs'] == 0].shape[0])\n",
    "print(\"Apps with 0 Size:\", df[df['Size'] == 0].shape[0])\n",
    "print(\"Paid Apps with 0 Price:\", df[(df['Type'] == 'Paid') & (df['Price'] == 0)].shape[0])"
   ]
  },
  {
   "cell_type": "markdown",
   "id": "f716b71c",
   "metadata": {},
   "source": [
    "### **Average Rating by App Category**\n"
   ]
  },
  {
   "cell_type": "code",
   "execution_count": 28,
   "id": "1b242cc8",
   "metadata": {},
   "outputs": [
    {
     "data": {
      "application/vnd.microsoft.datawrangler.viewer.v0+json": {
       "columns": [
        {
         "name": "Category",
         "rawType": "object",
         "type": "string"
        },
        {
         "name": "Rating",
         "rawType": "float64",
         "type": "float"
        }
       ],
       "ref": "baa5ee66-9992-42c2-ad1b-c53fed4bd811",
       "rows": [
        [
         "EDUCATION",
         "4.374534941051302"
        ],
        [
         "ART_AND_DESIGN",
         "4.3682597970313735"
        ],
        [
         "EVENTS",
         "4.362520381198696"
        ],
        [
         "BOOKS_AND_REFERENCE",
         "4.311599133217481"
        ],
        [
         "PERSONALIZATION",
         "4.30410441000053"
        ],
        [
         "PARENTING",
         "4.281590389444882"
        ],
        [
         "GAME",
         "4.2774384387363575"
        ],
        [
         "BEAUTY",
         "4.260093692516268"
        ],
        [
         "HEALTH_AND_FITNESS",
         "4.251110662789048"
        ],
        [
         "SOCIAL",
         "4.2465125861431945"
        ],
        [
         "SHOPPING",
         "4.245401479494306"
        ],
        [
         "WEATHER",
         "4.2393511750815245"
        ],
        [
         "SPORTS",
         "4.218576216192319"
        ],
        [
         "PRODUCTIVITY",
         "4.199598502645843"
        ],
        [
         "FAMILY",
         "4.191065949008893"
        ],
        [
         "AUTO_AND_VEHICLES",
         "4.190288329882724"
        ],
        [
         "MEDICAL",
         "4.184292861977806"
        ],
        [
         "PHOTOGRAPHY",
         "4.183266341801389"
        ],
        [
         "LIBRARIES_AND_DEMO",
         "4.182033889683164"
        ],
        [
         "HOUSE_AND_HOME",
         "4.168431350500393"
        ],
        [
         "FOOD_AND_DRINK",
         "4.167836790806833"
        ],
        [
         "COMMUNICATION",
         "4.1576038192991485"
        ],
        [
         "COMICS",
         "4.156318077888977"
        ],
        [
         "NEWS_AND_MAGAZINES",
         "4.140064836490396"
        ],
        [
         "ENTERTAINMENT",
         "4.136036036036036"
        ],
        [
         "FINANCE",
         "4.134862001324388"
        ],
        [
         "BUSINESS",
         "4.1345624048175145"
        ],
        [
         "LIFESTYLE",
         "4.113106913923624"
        ],
        [
         "TRAVEL_AND_LOCAL",
         "4.107026813389946"
        ],
        [
         "VIDEO_PLAYERS",
         "4.074532200285939"
        ],
        [
         "TOOLS",
         "4.065482250131134"
        ],
        [
         "MAPS_AND_NAVIGATION",
         "4.064701097640151"
        ],
        [
         "DATING",
         "4.01282176763655"
        ]
       ],
       "shape": {
        "columns": 1,
        "rows": 33
       }
      },
      "text/plain": [
       "Category\n",
       "EDUCATION              4.374535\n",
       "ART_AND_DESIGN         4.368260\n",
       "EVENTS                 4.362520\n",
       "BOOKS_AND_REFERENCE    4.311599\n",
       "PERSONALIZATION        4.304104\n",
       "PARENTING              4.281590\n",
       "GAME                   4.277438\n",
       "BEAUTY                 4.260094\n",
       "HEALTH_AND_FITNESS     4.251111\n",
       "SOCIAL                 4.246513\n",
       "SHOPPING               4.245401\n",
       "WEATHER                4.239351\n",
       "SPORTS                 4.218576\n",
       "PRODUCTIVITY           4.199599\n",
       "FAMILY                 4.191066\n",
       "AUTO_AND_VEHICLES      4.190288\n",
       "MEDICAL                4.184293\n",
       "PHOTOGRAPHY            4.183266\n",
       "LIBRARIES_AND_DEMO     4.182034\n",
       "HOUSE_AND_HOME         4.168431\n",
       "FOOD_AND_DRINK         4.167837\n",
       "COMMUNICATION          4.157604\n",
       "COMICS                 4.156318\n",
       "NEWS_AND_MAGAZINES     4.140065\n",
       "ENTERTAINMENT          4.136036\n",
       "FINANCE                4.134862\n",
       "BUSINESS               4.134562\n",
       "LIFESTYLE              4.113107\n",
       "TRAVEL_AND_LOCAL       4.107027\n",
       "VIDEO_PLAYERS          4.074532\n",
       "TOOLS                  4.065482\n",
       "MAPS_AND_NAVIGATION    4.064701\n",
       "DATING                 4.012822\n",
       "Name: Rating, dtype: float64"
      ]
     },
     "execution_count": 28,
     "metadata": {},
     "output_type": "execute_result"
    }
   ],
   "source": [
    "df.groupby('Category')['Rating'].mean().sort_values(ascending=False)"
   ]
  },
  {
   "cell_type": "markdown",
   "id": "aa0738fd",
   "metadata": {},
   "source": [
    "### **Total Installs by Category**"
   ]
  },
  {
   "cell_type": "code",
   "execution_count": 29,
   "id": "7a61b7ba",
   "metadata": {},
   "outputs": [
    {
     "data": {
      "application/vnd.microsoft.datawrangler.viewer.v0+json": {
       "columns": [
        {
         "name": "Category",
         "rawType": "object",
         "type": "string"
        },
        {
         "name": "Installs",
         "rawType": "float64",
         "type": "float"
        }
       ],
       "ref": "937dd61b-f468-4024-8dcc-ffb8d74ed6fa",
       "rows": [
        [
         "GAME",
         "31544024415.0"
        ],
        [
         "COMMUNICATION",
         "24152276251.0"
        ],
        [
         "SOCIAL",
         "12513867902.0"
        ],
        [
         "PRODUCTIVITY",
         "12463091369.0"
        ],
        [
         "TOOLS",
         "11452271905.0"
        ],
        [
         "FAMILY",
         "10041632405.0"
        ],
        [
         "PHOTOGRAPHY",
         "9721247655.0"
        ],
        [
         "TRAVEL_AND_LOCAL",
         "6361887146.0"
        ],
        [
         "VIDEO_PLAYERS",
         "6222002720.0"
        ],
        [
         "NEWS_AND_MAGAZINES",
         "5393217760.0"
        ],
        [
         "SHOPPING",
         "2573348785.0"
        ],
        [
         "ENTERTAINMENT",
         "2455660000.0"
        ],
        [
         "PERSONALIZATION",
         "2074483782.0"
        ],
        [
         "BOOKS_AND_REFERENCE",
         "1916468576.0"
        ],
        [
         "SPORTS",
         "1528574498.0"
        ],
        [
         "HEALTH_AND_FITNESS",
         "1361022512.0"
        ],
        [
         "BUSINESS",
         "863664865.0"
        ],
        [
         "FINANCE",
         "770348734.0"
        ],
        [
         "MAPS_AND_NAVIGATION",
         "724281890.0"
        ],
        [
         "LIFESTYLE",
         "534823539.0"
        ],
        [
         "EDUCATION",
         "533952000.0"
        ],
        [
         "WEATHER",
         "426100520.0"
        ],
        [
         "FOOD_AND_DRINK",
         "257898751.0"
        ],
        [
         "DATING",
         "206536107.0"
        ],
        [
         "HOUSE_AND_HOME",
         "125212461.0"
        ],
        [
         "ART_AND_DESIGN",
         "124333100.0"
        ],
        [
         "LIBRARIES_AND_DEMO",
         "61995910.0"
        ],
        [
         "COMICS",
         "56086150.0"
        ],
        [
         "AUTO_AND_VEHICLES",
         "53130211.0"
        ],
        [
         "MEDICAL",
         "42204177.0"
        ],
        [
         "PARENTING",
         "31521110.0"
        ],
        [
         "BEAUTY",
         "27197050.0"
        ],
        [
         "EVENTS",
         "15973161.0"
        ]
       ],
       "shape": {
        "columns": 1,
        "rows": 33
       }
      },
      "text/plain": [
       "Category\n",
       "GAME                   3.154402e+10\n",
       "COMMUNICATION          2.415228e+10\n",
       "SOCIAL                 1.251387e+10\n",
       "PRODUCTIVITY           1.246309e+10\n",
       "TOOLS                  1.145227e+10\n",
       "FAMILY                 1.004163e+10\n",
       "PHOTOGRAPHY            9.721248e+09\n",
       "TRAVEL_AND_LOCAL       6.361887e+09\n",
       "VIDEO_PLAYERS          6.222003e+09\n",
       "NEWS_AND_MAGAZINES     5.393218e+09\n",
       "SHOPPING               2.573349e+09\n",
       "ENTERTAINMENT          2.455660e+09\n",
       "PERSONALIZATION        2.074484e+09\n",
       "BOOKS_AND_REFERENCE    1.916469e+09\n",
       "SPORTS                 1.528574e+09\n",
       "HEALTH_AND_FITNESS     1.361023e+09\n",
       "BUSINESS               8.636649e+08\n",
       "FINANCE                7.703487e+08\n",
       "MAPS_AND_NAVIGATION    7.242819e+08\n",
       "LIFESTYLE              5.348235e+08\n",
       "EDUCATION              5.339520e+08\n",
       "WEATHER                4.261005e+08\n",
       "FOOD_AND_DRINK         2.578988e+08\n",
       "DATING                 2.065361e+08\n",
       "HOUSE_AND_HOME         1.252125e+08\n",
       "ART_AND_DESIGN         1.243331e+08\n",
       "LIBRARIES_AND_DEMO     6.199591e+07\n",
       "COMICS                 5.608615e+07\n",
       "AUTO_AND_VEHICLES      5.313021e+07\n",
       "MEDICAL                4.220418e+07\n",
       "PARENTING              3.152111e+07\n",
       "BEAUTY                 2.719705e+07\n",
       "EVENTS                 1.597316e+07\n",
       "Name: Installs, dtype: float64"
      ]
     },
     "execution_count": 29,
     "metadata": {},
     "output_type": "execute_result"
    }
   ],
   "source": [
    "df.groupby('Category')['Installs'].sum().sort_values(ascending=False)"
   ]
  },
  {
   "cell_type": "markdown",
   "id": "d0f0a94b",
   "metadata": {},
   "source": [
    "### **Average Reviews and Price by Category**"
   ]
  },
  {
   "cell_type": "code",
   "execution_count": 30,
   "id": "1704e5dd",
   "metadata": {},
   "outputs": [
    {
     "data": {
      "application/vnd.microsoft.datawrangler.viewer.v0+json": {
       "columns": [
        {
         "name": "Category",
         "rawType": "object",
         "type": "string"
        },
        {
         "name": "Reviews",
         "rawType": "float64",
         "type": "float"
        },
        {
         "name": "Price",
         "rawType": "float64",
         "type": "float"
        }
       ],
       "ref": "9f3f8e0e-c0a6-440a-bec1-cda1f25ccd33",
       "rows": [
        [
         "SOCIAL",
         "1905631.532142857",
         "0.05703571428571429"
        ],
        [
         "COMMUNICATION",
         "1642823.912568306",
         "0.22715846994535518"
        ],
        [
         "GAME",
         "1262744.5584299732",
         "0.25628902765388045"
        ],
        [
         "PHOTOGRAPHY",
         "634464.0062111801",
         "0.37959627329192547"
        ],
        [
         "VIDEO_PLAYERS",
         "630743.9314285715",
         "0.05977142857142858"
        ],
        [
         "ENTERTAINMENT",
         "428565.009009009",
         "0.0718918918918919"
        ],
        [
         "SHOPPING",
         "423799.83035714284",
         "0.024464285714285716"
        ],
        [
         "TOOLS",
         "324828.81450653984",
         "0.31659928656361475"
        ],
        [
         "PRODUCTIVITY",
         "251976.65356265358",
         "0.6165356265356265"
        ],
        [
         "TRAVEL_AND_LOCAL",
         "234452.15189873418",
         "0.2107594936708861"
        ],
        [
         "MAPS_AND_NAVIGATION",
         "223790.17518248176",
         "0.1967153284671533"
        ],
        [
         "FAMILY",
         "204521.51855670102",
         "1.2473350515463917"
        ],
        [
         "PERSONALIZATION",
         "194799.8549222798",
         "0.3885492227979274"
        ],
        [
         "SPORTS",
         "186104.5811965812",
         "0.2849002849002849"
        ],
        [
         "EDUCATION",
         "178196.15384615384",
         "0.13815384615384615"
        ],
        [
         "WEATHER",
         "178106.5243902439",
         "0.3953658536585366"
        ],
        [
         "NEWS_AND_MAGAZINES",
         "144870.73106060605",
         "0.015075757575757577"
        ],
        [
         "HEALTH_AND_FITNESS",
         "100801.2614379085",
         "0.21029411764705885"
        ],
        [
         "BOOKS_AND_REFERENCE",
         "95516.2401746725",
         "0.5230131004366813"
        ],
        [
         "FOOD_AND_DRINK",
         "61867.54838709677",
         "0.06838709677419355"
        ],
        [
         "COMICS",
         "56387.933333333334",
         "0.0"
        ],
        [
         "FINANCE",
         "47221.919444444444",
         "8.05786111111111"
        ],
        [
         "HOUSE_AND_HOME",
         "34934.65",
         "0.0"
        ],
        [
         "LIFESTYLE",
         "34371.51474530831",
         "6.32941018766756"
        ],
        [
         "BUSINESS",
         "28941.852459016394",
         "0.4105152224824356"
        ],
        [
         "DATING",
         "28292.841836734693",
         "0.16035714285714286"
        ],
        [
         "ART_AND_DESIGN",
         "26787.265625",
         "0.09328125"
        ],
        [
         "PARENTING",
         "15972.183333333332",
         "0.15966666666666668"
        ],
        [
         "AUTO_AND_VEHICLES",
         "13690.188235294117",
         "0.1584705882352941"
        ],
        [
         "LIBRARIES_AND_DEMO",
         "12106.82142857143",
         "0.011785714285714285"
        ],
        [
         "BEAUTY",
         "7476.226415094339",
         "0.0"
        ],
        [
         "MEDICAL",
         "3423.424019607843",
         "2.5016911764705885"
        ],
        [
         "EVENTS",
         "2515.90625",
         "1.71859375"
        ]
       ],
       "shape": {
        "columns": 2,
        "rows": 33
       }
      },
      "text/html": [
       "<div>\n",
       "<style scoped>\n",
       "    .dataframe tbody tr th:only-of-type {\n",
       "        vertical-align: middle;\n",
       "    }\n",
       "\n",
       "    .dataframe tbody tr th {\n",
       "        vertical-align: top;\n",
       "    }\n",
       "\n",
       "    .dataframe thead th {\n",
       "        text-align: right;\n",
       "    }\n",
       "</style>\n",
       "<table border=\"1\" class=\"dataframe\">\n",
       "  <thead>\n",
       "    <tr style=\"text-align: right;\">\n",
       "      <th></th>\n",
       "      <th>Reviews</th>\n",
       "      <th>Price</th>\n",
       "    </tr>\n",
       "    <tr>\n",
       "      <th>Category</th>\n",
       "      <th></th>\n",
       "      <th></th>\n",
       "    </tr>\n",
       "  </thead>\n",
       "  <tbody>\n",
       "    <tr>\n",
       "      <th>SOCIAL</th>\n",
       "      <td>1.905632e+06</td>\n",
       "      <td>0.057036</td>\n",
       "    </tr>\n",
       "    <tr>\n",
       "      <th>COMMUNICATION</th>\n",
       "      <td>1.642824e+06</td>\n",
       "      <td>0.227158</td>\n",
       "    </tr>\n",
       "    <tr>\n",
       "      <th>GAME</th>\n",
       "      <td>1.262745e+06</td>\n",
       "      <td>0.256289</td>\n",
       "    </tr>\n",
       "    <tr>\n",
       "      <th>PHOTOGRAPHY</th>\n",
       "      <td>6.344640e+05</td>\n",
       "      <td>0.379596</td>\n",
       "    </tr>\n",
       "    <tr>\n",
       "      <th>VIDEO_PLAYERS</th>\n",
       "      <td>6.307439e+05</td>\n",
       "      <td>0.059771</td>\n",
       "    </tr>\n",
       "    <tr>\n",
       "      <th>ENTERTAINMENT</th>\n",
       "      <td>4.285650e+05</td>\n",
       "      <td>0.071892</td>\n",
       "    </tr>\n",
       "    <tr>\n",
       "      <th>SHOPPING</th>\n",
       "      <td>4.237998e+05</td>\n",
       "      <td>0.024464</td>\n",
       "    </tr>\n",
       "    <tr>\n",
       "      <th>TOOLS</th>\n",
       "      <td>3.248288e+05</td>\n",
       "      <td>0.316599</td>\n",
       "    </tr>\n",
       "    <tr>\n",
       "      <th>PRODUCTIVITY</th>\n",
       "      <td>2.519767e+05</td>\n",
       "      <td>0.616536</td>\n",
       "    </tr>\n",
       "    <tr>\n",
       "      <th>TRAVEL_AND_LOCAL</th>\n",
       "      <td>2.344522e+05</td>\n",
       "      <td>0.210759</td>\n",
       "    </tr>\n",
       "    <tr>\n",
       "      <th>MAPS_AND_NAVIGATION</th>\n",
       "      <td>2.237902e+05</td>\n",
       "      <td>0.196715</td>\n",
       "    </tr>\n",
       "    <tr>\n",
       "      <th>FAMILY</th>\n",
       "      <td>2.045215e+05</td>\n",
       "      <td>1.247335</td>\n",
       "    </tr>\n",
       "    <tr>\n",
       "      <th>PERSONALIZATION</th>\n",
       "      <td>1.947999e+05</td>\n",
       "      <td>0.388549</td>\n",
       "    </tr>\n",
       "    <tr>\n",
       "      <th>SPORTS</th>\n",
       "      <td>1.861046e+05</td>\n",
       "      <td>0.284900</td>\n",
       "    </tr>\n",
       "    <tr>\n",
       "      <th>EDUCATION</th>\n",
       "      <td>1.781962e+05</td>\n",
       "      <td>0.138154</td>\n",
       "    </tr>\n",
       "    <tr>\n",
       "      <th>WEATHER</th>\n",
       "      <td>1.781065e+05</td>\n",
       "      <td>0.395366</td>\n",
       "    </tr>\n",
       "    <tr>\n",
       "      <th>NEWS_AND_MAGAZINES</th>\n",
       "      <td>1.448707e+05</td>\n",
       "      <td>0.015076</td>\n",
       "    </tr>\n",
       "    <tr>\n",
       "      <th>HEALTH_AND_FITNESS</th>\n",
       "      <td>1.008013e+05</td>\n",
       "      <td>0.210294</td>\n",
       "    </tr>\n",
       "    <tr>\n",
       "      <th>BOOKS_AND_REFERENCE</th>\n",
       "      <td>9.551624e+04</td>\n",
       "      <td>0.523013</td>\n",
       "    </tr>\n",
       "    <tr>\n",
       "      <th>FOOD_AND_DRINK</th>\n",
       "      <td>6.186755e+04</td>\n",
       "      <td>0.068387</td>\n",
       "    </tr>\n",
       "    <tr>\n",
       "      <th>COMICS</th>\n",
       "      <td>5.638793e+04</td>\n",
       "      <td>0.000000</td>\n",
       "    </tr>\n",
       "    <tr>\n",
       "      <th>FINANCE</th>\n",
       "      <td>4.722192e+04</td>\n",
       "      <td>8.057861</td>\n",
       "    </tr>\n",
       "    <tr>\n",
       "      <th>HOUSE_AND_HOME</th>\n",
       "      <td>3.493465e+04</td>\n",
       "      <td>0.000000</td>\n",
       "    </tr>\n",
       "    <tr>\n",
       "      <th>LIFESTYLE</th>\n",
       "      <td>3.437151e+04</td>\n",
       "      <td>6.329410</td>\n",
       "    </tr>\n",
       "    <tr>\n",
       "      <th>BUSINESS</th>\n",
       "      <td>2.894185e+04</td>\n",
       "      <td>0.410515</td>\n",
       "    </tr>\n",
       "    <tr>\n",
       "      <th>DATING</th>\n",
       "      <td>2.829284e+04</td>\n",
       "      <td>0.160357</td>\n",
       "    </tr>\n",
       "    <tr>\n",
       "      <th>ART_AND_DESIGN</th>\n",
       "      <td>2.678727e+04</td>\n",
       "      <td>0.093281</td>\n",
       "    </tr>\n",
       "    <tr>\n",
       "      <th>PARENTING</th>\n",
       "      <td>1.597218e+04</td>\n",
       "      <td>0.159667</td>\n",
       "    </tr>\n",
       "    <tr>\n",
       "      <th>AUTO_AND_VEHICLES</th>\n",
       "      <td>1.369019e+04</td>\n",
       "      <td>0.158471</td>\n",
       "    </tr>\n",
       "    <tr>\n",
       "      <th>LIBRARIES_AND_DEMO</th>\n",
       "      <td>1.210682e+04</td>\n",
       "      <td>0.011786</td>\n",
       "    </tr>\n",
       "    <tr>\n",
       "      <th>BEAUTY</th>\n",
       "      <td>7.476226e+03</td>\n",
       "      <td>0.000000</td>\n",
       "    </tr>\n",
       "    <tr>\n",
       "      <th>MEDICAL</th>\n",
       "      <td>3.423424e+03</td>\n",
       "      <td>2.501691</td>\n",
       "    </tr>\n",
       "    <tr>\n",
       "      <th>EVENTS</th>\n",
       "      <td>2.515906e+03</td>\n",
       "      <td>1.718594</td>\n",
       "    </tr>\n",
       "  </tbody>\n",
       "</table>\n",
       "</div>"
      ],
      "text/plain": [
       "                          Reviews     Price\n",
       "Category                                   \n",
       "SOCIAL               1.905632e+06  0.057036\n",
       "COMMUNICATION        1.642824e+06  0.227158\n",
       "GAME                 1.262745e+06  0.256289\n",
       "PHOTOGRAPHY          6.344640e+05  0.379596\n",
       "VIDEO_PLAYERS        6.307439e+05  0.059771\n",
       "ENTERTAINMENT        4.285650e+05  0.071892\n",
       "SHOPPING             4.237998e+05  0.024464\n",
       "TOOLS                3.248288e+05  0.316599\n",
       "PRODUCTIVITY         2.519767e+05  0.616536\n",
       "TRAVEL_AND_LOCAL     2.344522e+05  0.210759\n",
       "MAPS_AND_NAVIGATION  2.237902e+05  0.196715\n",
       "FAMILY               2.045215e+05  1.247335\n",
       "PERSONALIZATION      1.947999e+05  0.388549\n",
       "SPORTS               1.861046e+05  0.284900\n",
       "EDUCATION            1.781962e+05  0.138154\n",
       "WEATHER              1.781065e+05  0.395366\n",
       "NEWS_AND_MAGAZINES   1.448707e+05  0.015076\n",
       "HEALTH_AND_FITNESS   1.008013e+05  0.210294\n",
       "BOOKS_AND_REFERENCE  9.551624e+04  0.523013\n",
       "FOOD_AND_DRINK       6.186755e+04  0.068387\n",
       "COMICS               5.638793e+04  0.000000\n",
       "FINANCE              4.722192e+04  8.057861\n",
       "HOUSE_AND_HOME       3.493465e+04  0.000000\n",
       "LIFESTYLE            3.437151e+04  6.329410\n",
       "BUSINESS             2.894185e+04  0.410515\n",
       "DATING               2.829284e+04  0.160357\n",
       "ART_AND_DESIGN       2.678727e+04  0.093281\n",
       "PARENTING            1.597218e+04  0.159667\n",
       "AUTO_AND_VEHICLES    1.369019e+04  0.158471\n",
       "LIBRARIES_AND_DEMO   1.210682e+04  0.011786\n",
       "BEAUTY               7.476226e+03  0.000000\n",
       "MEDICAL              3.423424e+03  2.501691\n",
       "EVENTS               2.515906e+03  1.718594"
      ]
     },
     "execution_count": 30,
     "metadata": {},
     "output_type": "execute_result"
    }
   ],
   "source": [
    "df.groupby('Category')[['Reviews', 'Price']].mean().sort_values(by='Reviews', ascending=False)"
   ]
  },
  {
   "cell_type": "markdown",
   "id": "a5bc239d",
   "metadata": {},
   "source": [
    "### **App Type and Content Rating Distribution**"
   ]
  },
  {
   "cell_type": "code",
   "execution_count": 31,
   "id": "42b31873",
   "metadata": {},
   "outputs": [
    {
     "data": {
      "application/vnd.microsoft.datawrangler.viewer.v0+json": {
       "columns": [
        {
         "name": "Content Rating",
         "rawType": "object",
         "type": "string"
        },
        {
         "name": "count",
         "rawType": "int64",
         "type": "integer"
        }
       ],
       "ref": "d58a4d11-4ee2-4fe2-a767-fb22588a2e2f",
       "rows": [
        [
         "Everyone",
         "8372"
        ],
        [
         "Teen",
         "1146"
        ],
        [
         "Mature 17+",
         "447"
        ],
        [
         "Everyone 10+",
         "377"
        ],
        [
         "Adults only 18+",
         "3"
        ],
        [
         "Unrated",
         "2"
        ]
       ],
       "shape": {
        "columns": 1,
        "rows": 6
       }
      },
      "text/plain": [
       "Content Rating\n",
       "Everyone           8372\n",
       "Teen               1146\n",
       "Mature 17+          447\n",
       "Everyone 10+        377\n",
       "Adults only 18+       3\n",
       "Unrated               2\n",
       "Name: count, dtype: int64"
      ]
     },
     "execution_count": 31,
     "metadata": {},
     "output_type": "execute_result"
    }
   ],
   "source": [
    "df['Type'].value_counts()\n",
    "df['Content Rating'].value_counts()"
   ]
  },
  {
   "cell_type": "markdown",
   "id": "bd4e684e",
   "metadata": {},
   "source": [
    "### **Top 10 Most Installed Apps**"
   ]
  },
  {
   "cell_type": "code",
   "execution_count": 32,
   "id": "d1cb355b",
   "metadata": {},
   "outputs": [
    {
     "data": {
      "application/vnd.microsoft.datawrangler.viewer.v0+json": {
       "columns": [
        {
         "name": "index",
         "rawType": "int64",
         "type": "integer"
        },
        {
         "name": "App",
         "rawType": "object",
         "type": "string"
        },
        {
         "name": "Category",
         "rawType": "object",
         "type": "string"
        },
        {
         "name": "Rating",
         "rawType": "float64",
         "type": "float"
        },
        {
         "name": "Reviews",
         "rawType": "float64",
         "type": "float"
        },
        {
         "name": "Size",
         "rawType": "float64",
         "type": "float"
        },
        {
         "name": "Installs",
         "rawType": "float64",
         "type": "float"
        },
        {
         "name": "Type",
         "rawType": "object",
         "type": "string"
        },
        {
         "name": "Price",
         "rawType": "float64",
         "type": "float"
        },
        {
         "name": "Content Rating",
         "rawType": "object",
         "type": "string"
        },
        {
         "name": "Genres",
         "rawType": "object",
         "type": "string"
        },
        {
         "name": "Last Updated",
         "rawType": "object",
         "type": "string"
        },
        {
         "name": "Current Ver",
         "rawType": "object",
         "type": "string"
        },
        {
         "name": "Android Ver",
         "rawType": "object",
         "type": "string"
        }
       ],
       "ref": "7810be4a-761f-4faf-9465-f2a22ec21b5e",
       "rows": [
        [
         "2604",
         "Instagram",
         "SOCIAL",
         "4.5",
         "66577446.0",
         "13.0",
         "1000000000.0",
         "Free",
         "0.0",
         "Teen",
         "Social",
         "July 31, 2018",
         "Varies with device",
         "Varies with device"
        ],
        [
         "3909",
         "Instagram",
         "SOCIAL",
         "4.5",
         "66509917.0",
         "13.0",
         "1000000000.0",
         "Free",
         "0.0",
         "Teen",
         "Social",
         "July 31, 2018",
         "Varies with device",
         "Varies with device"
        ],
        [
         "3232",
         "Google Street View",
         "TRAVEL_AND_LOCAL",
         "4.2",
         "2129707.0",
         "13.0",
         "1000000000.0",
         "Free",
         "0.0",
         "Everyone",
         "Travel & Local",
         "August 6, 2018",
         "Varies with device",
         "Varies with device"
        ],
        [
         "4153",
         "Hangouts",
         "COMMUNICATION",
         "4.0",
         "3419464.0",
         "13.0",
         "1000000000.0",
         "Free",
         "0.0",
         "Everyone",
         "Communication",
         "July 21, 2018",
         "Varies with device",
         "Varies with device"
        ],
        [
         "3816",
         "Google News",
         "NEWS_AND_MAGAZINES",
         "3.9",
         "877643.0",
         "13.0",
         "1000000000.0",
         "Free",
         "0.0",
         "Teen",
         "News & Magazines",
         "August 1, 2018",
         "5.2.0",
         "4.4 and up"
        ],
        [
         "2554",
         "Google+",
         "SOCIAL",
         "4.2",
         "4831125.0",
         "13.0",
         "1000000000.0",
         "Free",
         "0.0",
         "Teen",
         "Social",
         "July 26, 2018",
         "Varies with device",
         "Varies with device"
        ],
        [
         "4170",
         "Google Drive",
         "PRODUCTIVITY",
         "4.4",
         "2728941.0",
         "13.0",
         "1000000000.0",
         "Free",
         "0.0",
         "Everyone",
         "Productivity",
         "July 30, 2018",
         "Varies with device",
         "Varies with device"
        ],
        [
         "2545",
         "Instagram",
         "SOCIAL",
         "4.5",
         "66577313.0",
         "13.0",
         "1000000000.0",
         "Free",
         "0.0",
         "Teen",
         "Social",
         "July 31, 2018",
         "Varies with device",
         "Varies with device"
        ],
        [
         "3117",
         "Maps - Navigate & Explore",
         "TRAVEL_AND_LOCAL",
         "4.3",
         "9235155.0",
         "13.0",
         "1000000000.0",
         "Free",
         "0.0",
         "Everyone",
         "Travel & Local",
         "July 31, 2018",
         "Varies with device",
         "Varies with device"
        ],
        [
         "3454",
         "Google Drive",
         "PRODUCTIVITY",
         "4.4",
         "2731171.0",
         "13.0",
         "1000000000.0",
         "Free",
         "0.0",
         "Everyone",
         "Productivity",
         "August 6, 2018",
         "Varies with device",
         "Varies with device"
        ]
       ],
       "shape": {
        "columns": 13,
        "rows": 10
       }
      },
      "text/html": [
       "<div>\n",
       "<style scoped>\n",
       "    .dataframe tbody tr th:only-of-type {\n",
       "        vertical-align: middle;\n",
       "    }\n",
       "\n",
       "    .dataframe tbody tr th {\n",
       "        vertical-align: top;\n",
       "    }\n",
       "\n",
       "    .dataframe thead th {\n",
       "        text-align: right;\n",
       "    }\n",
       "</style>\n",
       "<table border=\"1\" class=\"dataframe\">\n",
       "  <thead>\n",
       "    <tr style=\"text-align: right;\">\n",
       "      <th></th>\n",
       "      <th>App</th>\n",
       "      <th>Category</th>\n",
       "      <th>Rating</th>\n",
       "      <th>Reviews</th>\n",
       "      <th>Size</th>\n",
       "      <th>Installs</th>\n",
       "      <th>Type</th>\n",
       "      <th>Price</th>\n",
       "      <th>Content Rating</th>\n",
       "      <th>Genres</th>\n",
       "      <th>Last Updated</th>\n",
       "      <th>Current Ver</th>\n",
       "      <th>Android Ver</th>\n",
       "    </tr>\n",
       "  </thead>\n",
       "  <tbody>\n",
       "    <tr>\n",
       "      <th>2604</th>\n",
       "      <td>Instagram</td>\n",
       "      <td>SOCIAL</td>\n",
       "      <td>4.5</td>\n",
       "      <td>66577446.0</td>\n",
       "      <td>13.0</td>\n",
       "      <td>1.000000e+09</td>\n",
       "      <td>Free</td>\n",
       "      <td>0.0</td>\n",
       "      <td>Teen</td>\n",
       "      <td>Social</td>\n",
       "      <td>July 31, 2018</td>\n",
       "      <td>Varies with device</td>\n",
       "      <td>Varies with device</td>\n",
       "    </tr>\n",
       "    <tr>\n",
       "      <th>3909</th>\n",
       "      <td>Instagram</td>\n",
       "      <td>SOCIAL</td>\n",
       "      <td>4.5</td>\n",
       "      <td>66509917.0</td>\n",
       "      <td>13.0</td>\n",
       "      <td>1.000000e+09</td>\n",
       "      <td>Free</td>\n",
       "      <td>0.0</td>\n",
       "      <td>Teen</td>\n",
       "      <td>Social</td>\n",
       "      <td>July 31, 2018</td>\n",
       "      <td>Varies with device</td>\n",
       "      <td>Varies with device</td>\n",
       "    </tr>\n",
       "    <tr>\n",
       "      <th>3232</th>\n",
       "      <td>Google Street View</td>\n",
       "      <td>TRAVEL_AND_LOCAL</td>\n",
       "      <td>4.2</td>\n",
       "      <td>2129707.0</td>\n",
       "      <td>13.0</td>\n",
       "      <td>1.000000e+09</td>\n",
       "      <td>Free</td>\n",
       "      <td>0.0</td>\n",
       "      <td>Everyone</td>\n",
       "      <td>Travel &amp; Local</td>\n",
       "      <td>August 6, 2018</td>\n",
       "      <td>Varies with device</td>\n",
       "      <td>Varies with device</td>\n",
       "    </tr>\n",
       "    <tr>\n",
       "      <th>4153</th>\n",
       "      <td>Hangouts</td>\n",
       "      <td>COMMUNICATION</td>\n",
       "      <td>4.0</td>\n",
       "      <td>3419464.0</td>\n",
       "      <td>13.0</td>\n",
       "      <td>1.000000e+09</td>\n",
       "      <td>Free</td>\n",
       "      <td>0.0</td>\n",
       "      <td>Everyone</td>\n",
       "      <td>Communication</td>\n",
       "      <td>July 21, 2018</td>\n",
       "      <td>Varies with device</td>\n",
       "      <td>Varies with device</td>\n",
       "    </tr>\n",
       "    <tr>\n",
       "      <th>3816</th>\n",
       "      <td>Google News</td>\n",
       "      <td>NEWS_AND_MAGAZINES</td>\n",
       "      <td>3.9</td>\n",
       "      <td>877643.0</td>\n",
       "      <td>13.0</td>\n",
       "      <td>1.000000e+09</td>\n",
       "      <td>Free</td>\n",
       "      <td>0.0</td>\n",
       "      <td>Teen</td>\n",
       "      <td>News &amp; Magazines</td>\n",
       "      <td>August 1, 2018</td>\n",
       "      <td>5.2.0</td>\n",
       "      <td>4.4 and up</td>\n",
       "    </tr>\n",
       "    <tr>\n",
       "      <th>2554</th>\n",
       "      <td>Google+</td>\n",
       "      <td>SOCIAL</td>\n",
       "      <td>4.2</td>\n",
       "      <td>4831125.0</td>\n",
       "      <td>13.0</td>\n",
       "      <td>1.000000e+09</td>\n",
       "      <td>Free</td>\n",
       "      <td>0.0</td>\n",
       "      <td>Teen</td>\n",
       "      <td>Social</td>\n",
       "      <td>July 26, 2018</td>\n",
       "      <td>Varies with device</td>\n",
       "      <td>Varies with device</td>\n",
       "    </tr>\n",
       "    <tr>\n",
       "      <th>4170</th>\n",
       "      <td>Google Drive</td>\n",
       "      <td>PRODUCTIVITY</td>\n",
       "      <td>4.4</td>\n",
       "      <td>2728941.0</td>\n",
       "      <td>13.0</td>\n",
       "      <td>1.000000e+09</td>\n",
       "      <td>Free</td>\n",
       "      <td>0.0</td>\n",
       "      <td>Everyone</td>\n",
       "      <td>Productivity</td>\n",
       "      <td>July 30, 2018</td>\n",
       "      <td>Varies with device</td>\n",
       "      <td>Varies with device</td>\n",
       "    </tr>\n",
       "    <tr>\n",
       "      <th>2545</th>\n",
       "      <td>Instagram</td>\n",
       "      <td>SOCIAL</td>\n",
       "      <td>4.5</td>\n",
       "      <td>66577313.0</td>\n",
       "      <td>13.0</td>\n",
       "      <td>1.000000e+09</td>\n",
       "      <td>Free</td>\n",
       "      <td>0.0</td>\n",
       "      <td>Teen</td>\n",
       "      <td>Social</td>\n",
       "      <td>July 31, 2018</td>\n",
       "      <td>Varies with device</td>\n",
       "      <td>Varies with device</td>\n",
       "    </tr>\n",
       "    <tr>\n",
       "      <th>3117</th>\n",
       "      <td>Maps - Navigate &amp; Explore</td>\n",
       "      <td>TRAVEL_AND_LOCAL</td>\n",
       "      <td>4.3</td>\n",
       "      <td>9235155.0</td>\n",
       "      <td>13.0</td>\n",
       "      <td>1.000000e+09</td>\n",
       "      <td>Free</td>\n",
       "      <td>0.0</td>\n",
       "      <td>Everyone</td>\n",
       "      <td>Travel &amp; Local</td>\n",
       "      <td>July 31, 2018</td>\n",
       "      <td>Varies with device</td>\n",
       "      <td>Varies with device</td>\n",
       "    </tr>\n",
       "    <tr>\n",
       "      <th>3454</th>\n",
       "      <td>Google Drive</td>\n",
       "      <td>PRODUCTIVITY</td>\n",
       "      <td>4.4</td>\n",
       "      <td>2731171.0</td>\n",
       "      <td>13.0</td>\n",
       "      <td>1.000000e+09</td>\n",
       "      <td>Free</td>\n",
       "      <td>0.0</td>\n",
       "      <td>Everyone</td>\n",
       "      <td>Productivity</td>\n",
       "      <td>August 6, 2018</td>\n",
       "      <td>Varies with device</td>\n",
       "      <td>Varies with device</td>\n",
       "    </tr>\n",
       "  </tbody>\n",
       "</table>\n",
       "</div>"
      ],
      "text/plain": [
       "                            App            Category  Rating     Reviews  Size  \\\n",
       "2604                  Instagram              SOCIAL     4.5  66577446.0  13.0   \n",
       "3909                  Instagram              SOCIAL     4.5  66509917.0  13.0   \n",
       "3232         Google Street View    TRAVEL_AND_LOCAL     4.2   2129707.0  13.0   \n",
       "4153                   Hangouts       COMMUNICATION     4.0   3419464.0  13.0   \n",
       "3816                Google News  NEWS_AND_MAGAZINES     3.9    877643.0  13.0   \n",
       "2554                    Google+              SOCIAL     4.2   4831125.0  13.0   \n",
       "4170               Google Drive        PRODUCTIVITY     4.4   2728941.0  13.0   \n",
       "2545                  Instagram              SOCIAL     4.5  66577313.0  13.0   \n",
       "3117  Maps - Navigate & Explore    TRAVEL_AND_LOCAL     4.3   9235155.0  13.0   \n",
       "3454               Google Drive        PRODUCTIVITY     4.4   2731171.0  13.0   \n",
       "\n",
       "          Installs  Type  Price Content Rating            Genres  \\\n",
       "2604  1.000000e+09  Free    0.0           Teen            Social   \n",
       "3909  1.000000e+09  Free    0.0           Teen            Social   \n",
       "3232  1.000000e+09  Free    0.0       Everyone    Travel & Local   \n",
       "4153  1.000000e+09  Free    0.0       Everyone     Communication   \n",
       "3816  1.000000e+09  Free    0.0           Teen  News & Magazines   \n",
       "2554  1.000000e+09  Free    0.0           Teen            Social   \n",
       "4170  1.000000e+09  Free    0.0       Everyone      Productivity   \n",
       "2545  1.000000e+09  Free    0.0           Teen            Social   \n",
       "3117  1.000000e+09  Free    0.0       Everyone    Travel & Local   \n",
       "3454  1.000000e+09  Free    0.0       Everyone      Productivity   \n",
       "\n",
       "        Last Updated         Current Ver         Android Ver  \n",
       "2604   July 31, 2018  Varies with device  Varies with device  \n",
       "3909   July 31, 2018  Varies with device  Varies with device  \n",
       "3232  August 6, 2018  Varies with device  Varies with device  \n",
       "4153   July 21, 2018  Varies with device  Varies with device  \n",
       "3816  August 1, 2018               5.2.0          4.4 and up  \n",
       "2554   July 26, 2018  Varies with device  Varies with device  \n",
       "4170   July 30, 2018  Varies with device  Varies with device  \n",
       "2545   July 31, 2018  Varies with device  Varies with device  \n",
       "3117   July 31, 2018  Varies with device  Varies with device  \n",
       "3454  August 6, 2018  Varies with device  Varies with device  "
      ]
     },
     "execution_count": 32,
     "metadata": {},
     "output_type": "execute_result"
    }
   ],
   "source": [
    "\n",
    "df.sort_values(by='Installs', ascending=False).head(10)"
   ]
  },
  {
   "cell_type": "markdown",
   "id": "71cb5bf2",
   "metadata": {},
   "source": [
    "### **Handling Repetition in Top Installed Apps**\n",
    "\n",
    "While displaying the top 10 apps based on install count, we noticed that \"Instagram\" appeared more than once. All columns were identical except the number of reviews.\n",
    "\n",
    "This indicates a possible duplicate entry with slightly different review counts. To ensure clarity in our top apps list, we removed repeated app names by keeping only the first (highest installs) entry for each app.\n",
    "\n",
    "Note: The main dataset was not altered. This was done only for display purposes."
   ]
  },
  {
   "cell_type": "code",
   "execution_count": 33,
   "id": "014bd8e2",
   "metadata": {},
   "outputs": [
    {
     "data": {
      "application/vnd.microsoft.datawrangler.viewer.v0+json": {
       "columns": [
        {
         "name": "index",
         "rawType": "int64",
         "type": "integer"
        },
        {
         "name": "App",
         "rawType": "object",
         "type": "string"
        },
        {
         "name": "Category",
         "rawType": "object",
         "type": "string"
        },
        {
         "name": "Rating",
         "rawType": "float64",
         "type": "float"
        },
        {
         "name": "Reviews",
         "rawType": "float64",
         "type": "float"
        },
        {
         "name": "Size",
         "rawType": "float64",
         "type": "float"
        },
        {
         "name": "Installs",
         "rawType": "float64",
         "type": "float"
        },
        {
         "name": "Type",
         "rawType": "object",
         "type": "string"
        },
        {
         "name": "Price",
         "rawType": "float64",
         "type": "float"
        },
        {
         "name": "Content Rating",
         "rawType": "object",
         "type": "string"
        },
        {
         "name": "Genres",
         "rawType": "object",
         "type": "string"
        },
        {
         "name": "Last Updated",
         "rawType": "object",
         "type": "string"
        },
        {
         "name": "Current Ver",
         "rawType": "object",
         "type": "string"
        },
        {
         "name": "Android Ver",
         "rawType": "object",
         "type": "string"
        }
       ],
       "ref": "84cb8930-81a9-46f9-b3d6-6384c1ecf3aa",
       "rows": [
        [
         "2604",
         "Instagram",
         "SOCIAL",
         "4.5",
         "66577446.0",
         "13.0",
         "1000000000.0",
         "Free",
         "0.0",
         "Teen",
         "Social",
         "July 31, 2018",
         "Varies with device",
         "Varies with device"
        ],
        [
         "3232",
         "Google Street View",
         "TRAVEL_AND_LOCAL",
         "4.2",
         "2129707.0",
         "13.0",
         "1000000000.0",
         "Free",
         "0.0",
         "Everyone",
         "Travel & Local",
         "August 6, 2018",
         "Varies with device",
         "Varies with device"
        ],
        [
         "4153",
         "Hangouts",
         "COMMUNICATION",
         "4.0",
         "3419464.0",
         "13.0",
         "1000000000.0",
         "Free",
         "0.0",
         "Everyone",
         "Communication",
         "July 21, 2018",
         "Varies with device",
         "Varies with device"
        ],
        [
         "3816",
         "Google News",
         "NEWS_AND_MAGAZINES",
         "3.9",
         "877643.0",
         "13.0",
         "1000000000.0",
         "Free",
         "0.0",
         "Teen",
         "News & Magazines",
         "August 1, 2018",
         "5.2.0",
         "4.4 and up"
        ],
        [
         "2554",
         "Google+",
         "SOCIAL",
         "4.2",
         "4831125.0",
         "13.0",
         "1000000000.0",
         "Free",
         "0.0",
         "Teen",
         "Social",
         "July 26, 2018",
         "Varies with device",
         "Varies with device"
        ],
        [
         "4170",
         "Google Drive",
         "PRODUCTIVITY",
         "4.4",
         "2728941.0",
         "13.0",
         "1000000000.0",
         "Free",
         "0.0",
         "Everyone",
         "Productivity",
         "July 30, 2018",
         "Varies with device",
         "Varies with device"
        ],
        [
         "3117",
         "Maps - Navigate & Explore",
         "TRAVEL_AND_LOCAL",
         "4.3",
         "9235155.0",
         "13.0",
         "1000000000.0",
         "Free",
         "0.0",
         "Everyone",
         "Travel & Local",
         "July 31, 2018",
         "Varies with device",
         "Varies with device"
        ],
        [
         "2544",
         "Facebook",
         "SOCIAL",
         "4.1",
         "78158306.0",
         "13.0",
         "1000000000.0",
         "Free",
         "0.0",
         "Teen",
         "Social",
         "August 3, 2018",
         "Varies with device",
         "Varies with device"
        ],
        [
         "411",
         "Google Chrome: Fast & Secure",
         "COMMUNICATION",
         "4.3",
         "9643041.0",
         "13.0",
         "1000000000.0",
         "Free",
         "0.0",
         "Everyone",
         "Communication",
         "August 1, 2018",
         "Varies with device",
         "Varies with device"
        ],
        [
         "1700",
         "Subway Surfers",
         "GAME",
         "4.5",
         "27723193.0",
         "76.0",
         "1000000000.0",
         "Free",
         "0.0",
         "Everyone 10+",
         "Arcade",
         "July 12, 2018",
         "1.90.0",
         "4.1 and up"
        ]
       ],
       "shape": {
        "columns": 13,
        "rows": 10
       }
      },
      "text/html": [
       "<div>\n",
       "<style scoped>\n",
       "    .dataframe tbody tr th:only-of-type {\n",
       "        vertical-align: middle;\n",
       "    }\n",
       "\n",
       "    .dataframe tbody tr th {\n",
       "        vertical-align: top;\n",
       "    }\n",
       "\n",
       "    .dataframe thead th {\n",
       "        text-align: right;\n",
       "    }\n",
       "</style>\n",
       "<table border=\"1\" class=\"dataframe\">\n",
       "  <thead>\n",
       "    <tr style=\"text-align: right;\">\n",
       "      <th></th>\n",
       "      <th>App</th>\n",
       "      <th>Category</th>\n",
       "      <th>Rating</th>\n",
       "      <th>Reviews</th>\n",
       "      <th>Size</th>\n",
       "      <th>Installs</th>\n",
       "      <th>Type</th>\n",
       "      <th>Price</th>\n",
       "      <th>Content Rating</th>\n",
       "      <th>Genres</th>\n",
       "      <th>Last Updated</th>\n",
       "      <th>Current Ver</th>\n",
       "      <th>Android Ver</th>\n",
       "    </tr>\n",
       "  </thead>\n",
       "  <tbody>\n",
       "    <tr>\n",
       "      <th>2604</th>\n",
       "      <td>Instagram</td>\n",
       "      <td>SOCIAL</td>\n",
       "      <td>4.5</td>\n",
       "      <td>66577446.0</td>\n",
       "      <td>13.0</td>\n",
       "      <td>1.000000e+09</td>\n",
       "      <td>Free</td>\n",
       "      <td>0.0</td>\n",
       "      <td>Teen</td>\n",
       "      <td>Social</td>\n",
       "      <td>July 31, 2018</td>\n",
       "      <td>Varies with device</td>\n",
       "      <td>Varies with device</td>\n",
       "    </tr>\n",
       "    <tr>\n",
       "      <th>3232</th>\n",
       "      <td>Google Street View</td>\n",
       "      <td>TRAVEL_AND_LOCAL</td>\n",
       "      <td>4.2</td>\n",
       "      <td>2129707.0</td>\n",
       "      <td>13.0</td>\n",
       "      <td>1.000000e+09</td>\n",
       "      <td>Free</td>\n",
       "      <td>0.0</td>\n",
       "      <td>Everyone</td>\n",
       "      <td>Travel &amp; Local</td>\n",
       "      <td>August 6, 2018</td>\n",
       "      <td>Varies with device</td>\n",
       "      <td>Varies with device</td>\n",
       "    </tr>\n",
       "    <tr>\n",
       "      <th>4153</th>\n",
       "      <td>Hangouts</td>\n",
       "      <td>COMMUNICATION</td>\n",
       "      <td>4.0</td>\n",
       "      <td>3419464.0</td>\n",
       "      <td>13.0</td>\n",
       "      <td>1.000000e+09</td>\n",
       "      <td>Free</td>\n",
       "      <td>0.0</td>\n",
       "      <td>Everyone</td>\n",
       "      <td>Communication</td>\n",
       "      <td>July 21, 2018</td>\n",
       "      <td>Varies with device</td>\n",
       "      <td>Varies with device</td>\n",
       "    </tr>\n",
       "    <tr>\n",
       "      <th>3816</th>\n",
       "      <td>Google News</td>\n",
       "      <td>NEWS_AND_MAGAZINES</td>\n",
       "      <td>3.9</td>\n",
       "      <td>877643.0</td>\n",
       "      <td>13.0</td>\n",
       "      <td>1.000000e+09</td>\n",
       "      <td>Free</td>\n",
       "      <td>0.0</td>\n",
       "      <td>Teen</td>\n",
       "      <td>News &amp; Magazines</td>\n",
       "      <td>August 1, 2018</td>\n",
       "      <td>5.2.0</td>\n",
       "      <td>4.4 and up</td>\n",
       "    </tr>\n",
       "    <tr>\n",
       "      <th>2554</th>\n",
       "      <td>Google+</td>\n",
       "      <td>SOCIAL</td>\n",
       "      <td>4.2</td>\n",
       "      <td>4831125.0</td>\n",
       "      <td>13.0</td>\n",
       "      <td>1.000000e+09</td>\n",
       "      <td>Free</td>\n",
       "      <td>0.0</td>\n",
       "      <td>Teen</td>\n",
       "      <td>Social</td>\n",
       "      <td>July 26, 2018</td>\n",
       "      <td>Varies with device</td>\n",
       "      <td>Varies with device</td>\n",
       "    </tr>\n",
       "    <tr>\n",
       "      <th>4170</th>\n",
       "      <td>Google Drive</td>\n",
       "      <td>PRODUCTIVITY</td>\n",
       "      <td>4.4</td>\n",
       "      <td>2728941.0</td>\n",
       "      <td>13.0</td>\n",
       "      <td>1.000000e+09</td>\n",
       "      <td>Free</td>\n",
       "      <td>0.0</td>\n",
       "      <td>Everyone</td>\n",
       "      <td>Productivity</td>\n",
       "      <td>July 30, 2018</td>\n",
       "      <td>Varies with device</td>\n",
       "      <td>Varies with device</td>\n",
       "    </tr>\n",
       "    <tr>\n",
       "      <th>3117</th>\n",
       "      <td>Maps - Navigate &amp; Explore</td>\n",
       "      <td>TRAVEL_AND_LOCAL</td>\n",
       "      <td>4.3</td>\n",
       "      <td>9235155.0</td>\n",
       "      <td>13.0</td>\n",
       "      <td>1.000000e+09</td>\n",
       "      <td>Free</td>\n",
       "      <td>0.0</td>\n",
       "      <td>Everyone</td>\n",
       "      <td>Travel &amp; Local</td>\n",
       "      <td>July 31, 2018</td>\n",
       "      <td>Varies with device</td>\n",
       "      <td>Varies with device</td>\n",
       "    </tr>\n",
       "    <tr>\n",
       "      <th>2544</th>\n",
       "      <td>Facebook</td>\n",
       "      <td>SOCIAL</td>\n",
       "      <td>4.1</td>\n",
       "      <td>78158306.0</td>\n",
       "      <td>13.0</td>\n",
       "      <td>1.000000e+09</td>\n",
       "      <td>Free</td>\n",
       "      <td>0.0</td>\n",
       "      <td>Teen</td>\n",
       "      <td>Social</td>\n",
       "      <td>August 3, 2018</td>\n",
       "      <td>Varies with device</td>\n",
       "      <td>Varies with device</td>\n",
       "    </tr>\n",
       "    <tr>\n",
       "      <th>411</th>\n",
       "      <td>Google Chrome: Fast &amp; Secure</td>\n",
       "      <td>COMMUNICATION</td>\n",
       "      <td>4.3</td>\n",
       "      <td>9643041.0</td>\n",
       "      <td>13.0</td>\n",
       "      <td>1.000000e+09</td>\n",
       "      <td>Free</td>\n",
       "      <td>0.0</td>\n",
       "      <td>Everyone</td>\n",
       "      <td>Communication</td>\n",
       "      <td>August 1, 2018</td>\n",
       "      <td>Varies with device</td>\n",
       "      <td>Varies with device</td>\n",
       "    </tr>\n",
       "    <tr>\n",
       "      <th>1700</th>\n",
       "      <td>Subway Surfers</td>\n",
       "      <td>GAME</td>\n",
       "      <td>4.5</td>\n",
       "      <td>27723193.0</td>\n",
       "      <td>76.0</td>\n",
       "      <td>1.000000e+09</td>\n",
       "      <td>Free</td>\n",
       "      <td>0.0</td>\n",
       "      <td>Everyone 10+</td>\n",
       "      <td>Arcade</td>\n",
       "      <td>July 12, 2018</td>\n",
       "      <td>1.90.0</td>\n",
       "      <td>4.1 and up</td>\n",
       "    </tr>\n",
       "  </tbody>\n",
       "</table>\n",
       "</div>"
      ],
      "text/plain": [
       "                               App            Category  Rating     Reviews  \\\n",
       "2604                     Instagram              SOCIAL     4.5  66577446.0   \n",
       "3232            Google Street View    TRAVEL_AND_LOCAL     4.2   2129707.0   \n",
       "4153                      Hangouts       COMMUNICATION     4.0   3419464.0   \n",
       "3816                   Google News  NEWS_AND_MAGAZINES     3.9    877643.0   \n",
       "2554                       Google+              SOCIAL     4.2   4831125.0   \n",
       "4170                  Google Drive        PRODUCTIVITY     4.4   2728941.0   \n",
       "3117     Maps - Navigate & Explore    TRAVEL_AND_LOCAL     4.3   9235155.0   \n",
       "2544                      Facebook              SOCIAL     4.1  78158306.0   \n",
       "411   Google Chrome: Fast & Secure       COMMUNICATION     4.3   9643041.0   \n",
       "1700                Subway Surfers                GAME     4.5  27723193.0   \n",
       "\n",
       "      Size      Installs  Type  Price Content Rating            Genres  \\\n",
       "2604  13.0  1.000000e+09  Free    0.0           Teen            Social   \n",
       "3232  13.0  1.000000e+09  Free    0.0       Everyone    Travel & Local   \n",
       "4153  13.0  1.000000e+09  Free    0.0       Everyone     Communication   \n",
       "3816  13.0  1.000000e+09  Free    0.0           Teen  News & Magazines   \n",
       "2554  13.0  1.000000e+09  Free    0.0           Teen            Social   \n",
       "4170  13.0  1.000000e+09  Free    0.0       Everyone      Productivity   \n",
       "3117  13.0  1.000000e+09  Free    0.0       Everyone    Travel & Local   \n",
       "2544  13.0  1.000000e+09  Free    0.0           Teen            Social   \n",
       "411   13.0  1.000000e+09  Free    0.0       Everyone     Communication   \n",
       "1700  76.0  1.000000e+09  Free    0.0   Everyone 10+            Arcade   \n",
       "\n",
       "        Last Updated         Current Ver         Android Ver  \n",
       "2604   July 31, 2018  Varies with device  Varies with device  \n",
       "3232  August 6, 2018  Varies with device  Varies with device  \n",
       "4153   July 21, 2018  Varies with device  Varies with device  \n",
       "3816  August 1, 2018               5.2.0          4.4 and up  \n",
       "2554   July 26, 2018  Varies with device  Varies with device  \n",
       "4170   July 30, 2018  Varies with device  Varies with device  \n",
       "3117   July 31, 2018  Varies with device  Varies with device  \n",
       "2544  August 3, 2018  Varies with device  Varies with device  \n",
       "411   August 1, 2018  Varies with device  Varies with device  \n",
       "1700   July 12, 2018              1.90.0          4.1 and up  "
      ]
     },
     "execution_count": 33,
     "metadata": {},
     "output_type": "execute_result"
    }
   ],
   "source": [
    "# Sorting the dataset in descending order by number of installs\n",
    "top_installed = df.sort_values(by='Installs', ascending=False)\n",
    "\n",
    "# Removing duplicate app names to avoid repetition (e.g., Instagram appearing twice)\n",
    "top_installed_unique = top_installed.drop_duplicates(subset='App', keep='first')\n",
    "\n",
    "# Selecting the top 10 most installed apps with unique names\n",
    "top_10_installed = top_installed_unique.head(10)\n",
    "\n",
    "# Displaying all columns for the top 10 installed apps\n",
    "top_10_installed\n"
   ]
  },
  {
   "cell_type": "markdown",
   "id": "d1c99e35",
   "metadata": {},
   "source": [
    "### **Top 10 Most Reviewed Apps**"
   ]
  },
  {
   "cell_type": "code",
   "execution_count": 34,
   "id": "e66aa04e",
   "metadata": {},
   "outputs": [
    {
     "data": {
      "application/vnd.microsoft.datawrangler.viewer.v0+json": {
       "columns": [
        {
         "name": "index",
         "rawType": "int64",
         "type": "integer"
        },
        {
         "name": "App",
         "rawType": "object",
         "type": "string"
        },
        {
         "name": "Category",
         "rawType": "object",
         "type": "string"
        },
        {
         "name": "Rating",
         "rawType": "float64",
         "type": "float"
        },
        {
         "name": "Reviews",
         "rawType": "float64",
         "type": "float"
        },
        {
         "name": "Size",
         "rawType": "float64",
         "type": "float"
        },
        {
         "name": "Installs",
         "rawType": "float64",
         "type": "float"
        },
        {
         "name": "Type",
         "rawType": "object",
         "type": "string"
        },
        {
         "name": "Price",
         "rawType": "float64",
         "type": "float"
        },
        {
         "name": "Content Rating",
         "rawType": "object",
         "type": "string"
        },
        {
         "name": "Genres",
         "rawType": "object",
         "type": "string"
        },
        {
         "name": "Last Updated",
         "rawType": "object",
         "type": "string"
        },
        {
         "name": "Current Ver",
         "rawType": "object",
         "type": "string"
        },
        {
         "name": "Android Ver",
         "rawType": "object",
         "type": "string"
        }
       ],
       "ref": "58e4ec9e-60d5-449c-9ba2-653c092b96dc",
       "rows": [
        [
         "2544",
         "Facebook",
         "SOCIAL",
         "4.1",
         "78158306.0",
         "13.0",
         "1000000000.0",
         "Free",
         "0.0",
         "Teen",
         "Social",
         "August 3, 2018",
         "Varies with device",
         "Varies with device"
        ],
        [
         "3943",
         "Facebook",
         "SOCIAL",
         "4.1",
         "78128208.0",
         "13.0",
         "1000000000.0",
         "Free",
         "0.0",
         "Teen",
         "Social",
         "August 3, 2018",
         "Varies with device",
         "Varies with device"
        ],
        [
         "336",
         "WhatsApp Messenger",
         "COMMUNICATION",
         "4.4",
         "69119316.0",
         "13.0",
         "1000000000.0",
         "Free",
         "0.0",
         "Everyone",
         "Communication",
         "August 3, 2018",
         "Varies with device",
         "Varies with device"
        ],
        [
         "3904",
         "WhatsApp Messenger",
         "COMMUNICATION",
         "4.4",
         "69109672.0",
         "13.0",
         "1000000000.0",
         "Free",
         "0.0",
         "Everyone",
         "Communication",
         "August 3, 2018",
         "Varies with device",
         "Varies with device"
        ],
        [
         "2604",
         "Instagram",
         "SOCIAL",
         "4.5",
         "66577446.0",
         "13.0",
         "1000000000.0",
         "Free",
         "0.0",
         "Teen",
         "Social",
         "July 31, 2018",
         "Varies with device",
         "Varies with device"
        ],
        [
         "2545",
         "Instagram",
         "SOCIAL",
         "4.5",
         "66577313.0",
         "13.0",
         "1000000000.0",
         "Free",
         "0.0",
         "Teen",
         "Social",
         "July 31, 2018",
         "Varies with device",
         "Varies with device"
        ],
        [
         "3909",
         "Instagram",
         "SOCIAL",
         "4.5",
         "66509917.0",
         "13.0",
         "1000000000.0",
         "Free",
         "0.0",
         "Teen",
         "Social",
         "July 31, 2018",
         "Varies with device",
         "Varies with device"
        ],
        [
         "382",
         "Messenger – Text and Video Chat for Free",
         "COMMUNICATION",
         "4.0",
         "56646578.0",
         "13.0",
         "1000000000.0",
         "Free",
         "0.0",
         "Everyone",
         "Communication",
         "August 1, 2018",
         "Varies with device",
         "Varies with device"
        ],
        [
         "335",
         "Messenger – Text and Video Chat for Free",
         "COMMUNICATION",
         "4.0",
         "56642847.0",
         "13.0",
         "1000000000.0",
         "Free",
         "0.0",
         "Everyone",
         "Communication",
         "August 1, 2018",
         "Varies with device",
         "Varies with device"
        ],
        [
         "1879",
         "Clash of Clans",
         "GAME",
         "4.6",
         "44893888.0",
         "98.0",
         "100000000.0",
         "Free",
         "0.0",
         "Everyone 10+",
         "Strategy",
         "July 15, 2018",
         "10.322.16",
         "4.1 and up"
        ]
       ],
       "shape": {
        "columns": 13,
        "rows": 10
       }
      },
      "text/html": [
       "<div>\n",
       "<style scoped>\n",
       "    .dataframe tbody tr th:only-of-type {\n",
       "        vertical-align: middle;\n",
       "    }\n",
       "\n",
       "    .dataframe tbody tr th {\n",
       "        vertical-align: top;\n",
       "    }\n",
       "\n",
       "    .dataframe thead th {\n",
       "        text-align: right;\n",
       "    }\n",
       "</style>\n",
       "<table border=\"1\" class=\"dataframe\">\n",
       "  <thead>\n",
       "    <tr style=\"text-align: right;\">\n",
       "      <th></th>\n",
       "      <th>App</th>\n",
       "      <th>Category</th>\n",
       "      <th>Rating</th>\n",
       "      <th>Reviews</th>\n",
       "      <th>Size</th>\n",
       "      <th>Installs</th>\n",
       "      <th>Type</th>\n",
       "      <th>Price</th>\n",
       "      <th>Content Rating</th>\n",
       "      <th>Genres</th>\n",
       "      <th>Last Updated</th>\n",
       "      <th>Current Ver</th>\n",
       "      <th>Android Ver</th>\n",
       "    </tr>\n",
       "  </thead>\n",
       "  <tbody>\n",
       "    <tr>\n",
       "      <th>2544</th>\n",
       "      <td>Facebook</td>\n",
       "      <td>SOCIAL</td>\n",
       "      <td>4.1</td>\n",
       "      <td>78158306.0</td>\n",
       "      <td>13.0</td>\n",
       "      <td>1.000000e+09</td>\n",
       "      <td>Free</td>\n",
       "      <td>0.0</td>\n",
       "      <td>Teen</td>\n",
       "      <td>Social</td>\n",
       "      <td>August 3, 2018</td>\n",
       "      <td>Varies with device</td>\n",
       "      <td>Varies with device</td>\n",
       "    </tr>\n",
       "    <tr>\n",
       "      <th>3943</th>\n",
       "      <td>Facebook</td>\n",
       "      <td>SOCIAL</td>\n",
       "      <td>4.1</td>\n",
       "      <td>78128208.0</td>\n",
       "      <td>13.0</td>\n",
       "      <td>1.000000e+09</td>\n",
       "      <td>Free</td>\n",
       "      <td>0.0</td>\n",
       "      <td>Teen</td>\n",
       "      <td>Social</td>\n",
       "      <td>August 3, 2018</td>\n",
       "      <td>Varies with device</td>\n",
       "      <td>Varies with device</td>\n",
       "    </tr>\n",
       "    <tr>\n",
       "      <th>336</th>\n",
       "      <td>WhatsApp Messenger</td>\n",
       "      <td>COMMUNICATION</td>\n",
       "      <td>4.4</td>\n",
       "      <td>69119316.0</td>\n",
       "      <td>13.0</td>\n",
       "      <td>1.000000e+09</td>\n",
       "      <td>Free</td>\n",
       "      <td>0.0</td>\n",
       "      <td>Everyone</td>\n",
       "      <td>Communication</td>\n",
       "      <td>August 3, 2018</td>\n",
       "      <td>Varies with device</td>\n",
       "      <td>Varies with device</td>\n",
       "    </tr>\n",
       "    <tr>\n",
       "      <th>3904</th>\n",
       "      <td>WhatsApp Messenger</td>\n",
       "      <td>COMMUNICATION</td>\n",
       "      <td>4.4</td>\n",
       "      <td>69109672.0</td>\n",
       "      <td>13.0</td>\n",
       "      <td>1.000000e+09</td>\n",
       "      <td>Free</td>\n",
       "      <td>0.0</td>\n",
       "      <td>Everyone</td>\n",
       "      <td>Communication</td>\n",
       "      <td>August 3, 2018</td>\n",
       "      <td>Varies with device</td>\n",
       "      <td>Varies with device</td>\n",
       "    </tr>\n",
       "    <tr>\n",
       "      <th>2604</th>\n",
       "      <td>Instagram</td>\n",
       "      <td>SOCIAL</td>\n",
       "      <td>4.5</td>\n",
       "      <td>66577446.0</td>\n",
       "      <td>13.0</td>\n",
       "      <td>1.000000e+09</td>\n",
       "      <td>Free</td>\n",
       "      <td>0.0</td>\n",
       "      <td>Teen</td>\n",
       "      <td>Social</td>\n",
       "      <td>July 31, 2018</td>\n",
       "      <td>Varies with device</td>\n",
       "      <td>Varies with device</td>\n",
       "    </tr>\n",
       "    <tr>\n",
       "      <th>2545</th>\n",
       "      <td>Instagram</td>\n",
       "      <td>SOCIAL</td>\n",
       "      <td>4.5</td>\n",
       "      <td>66577313.0</td>\n",
       "      <td>13.0</td>\n",
       "      <td>1.000000e+09</td>\n",
       "      <td>Free</td>\n",
       "      <td>0.0</td>\n",
       "      <td>Teen</td>\n",
       "      <td>Social</td>\n",
       "      <td>July 31, 2018</td>\n",
       "      <td>Varies with device</td>\n",
       "      <td>Varies with device</td>\n",
       "    </tr>\n",
       "    <tr>\n",
       "      <th>3909</th>\n",
       "      <td>Instagram</td>\n",
       "      <td>SOCIAL</td>\n",
       "      <td>4.5</td>\n",
       "      <td>66509917.0</td>\n",
       "      <td>13.0</td>\n",
       "      <td>1.000000e+09</td>\n",
       "      <td>Free</td>\n",
       "      <td>0.0</td>\n",
       "      <td>Teen</td>\n",
       "      <td>Social</td>\n",
       "      <td>July 31, 2018</td>\n",
       "      <td>Varies with device</td>\n",
       "      <td>Varies with device</td>\n",
       "    </tr>\n",
       "    <tr>\n",
       "      <th>382</th>\n",
       "      <td>Messenger – Text and Video Chat for Free</td>\n",
       "      <td>COMMUNICATION</td>\n",
       "      <td>4.0</td>\n",
       "      <td>56646578.0</td>\n",
       "      <td>13.0</td>\n",
       "      <td>1.000000e+09</td>\n",
       "      <td>Free</td>\n",
       "      <td>0.0</td>\n",
       "      <td>Everyone</td>\n",
       "      <td>Communication</td>\n",
       "      <td>August 1, 2018</td>\n",
       "      <td>Varies with device</td>\n",
       "      <td>Varies with device</td>\n",
       "    </tr>\n",
       "    <tr>\n",
       "      <th>335</th>\n",
       "      <td>Messenger – Text and Video Chat for Free</td>\n",
       "      <td>COMMUNICATION</td>\n",
       "      <td>4.0</td>\n",
       "      <td>56642847.0</td>\n",
       "      <td>13.0</td>\n",
       "      <td>1.000000e+09</td>\n",
       "      <td>Free</td>\n",
       "      <td>0.0</td>\n",
       "      <td>Everyone</td>\n",
       "      <td>Communication</td>\n",
       "      <td>August 1, 2018</td>\n",
       "      <td>Varies with device</td>\n",
       "      <td>Varies with device</td>\n",
       "    </tr>\n",
       "    <tr>\n",
       "      <th>1879</th>\n",
       "      <td>Clash of Clans</td>\n",
       "      <td>GAME</td>\n",
       "      <td>4.6</td>\n",
       "      <td>44893888.0</td>\n",
       "      <td>98.0</td>\n",
       "      <td>1.000000e+08</td>\n",
       "      <td>Free</td>\n",
       "      <td>0.0</td>\n",
       "      <td>Everyone 10+</td>\n",
       "      <td>Strategy</td>\n",
       "      <td>July 15, 2018</td>\n",
       "      <td>10.322.16</td>\n",
       "      <td>4.1 and up</td>\n",
       "    </tr>\n",
       "  </tbody>\n",
       "</table>\n",
       "</div>"
      ],
      "text/plain": [
       "                                           App       Category  Rating  \\\n",
       "2544                                  Facebook         SOCIAL     4.1   \n",
       "3943                                  Facebook         SOCIAL     4.1   \n",
       "336                         WhatsApp Messenger  COMMUNICATION     4.4   \n",
       "3904                        WhatsApp Messenger  COMMUNICATION     4.4   \n",
       "2604                                 Instagram         SOCIAL     4.5   \n",
       "2545                                 Instagram         SOCIAL     4.5   \n",
       "3909                                 Instagram         SOCIAL     4.5   \n",
       "382   Messenger – Text and Video Chat for Free  COMMUNICATION     4.0   \n",
       "335   Messenger – Text and Video Chat for Free  COMMUNICATION     4.0   \n",
       "1879                            Clash of Clans           GAME     4.6   \n",
       "\n",
       "         Reviews  Size      Installs  Type  Price Content Rating  \\\n",
       "2544  78158306.0  13.0  1.000000e+09  Free    0.0           Teen   \n",
       "3943  78128208.0  13.0  1.000000e+09  Free    0.0           Teen   \n",
       "336   69119316.0  13.0  1.000000e+09  Free    0.0       Everyone   \n",
       "3904  69109672.0  13.0  1.000000e+09  Free    0.0       Everyone   \n",
       "2604  66577446.0  13.0  1.000000e+09  Free    0.0           Teen   \n",
       "2545  66577313.0  13.0  1.000000e+09  Free    0.0           Teen   \n",
       "3909  66509917.0  13.0  1.000000e+09  Free    0.0           Teen   \n",
       "382   56646578.0  13.0  1.000000e+09  Free    0.0       Everyone   \n",
       "335   56642847.0  13.0  1.000000e+09  Free    0.0       Everyone   \n",
       "1879  44893888.0  98.0  1.000000e+08  Free    0.0   Everyone 10+   \n",
       "\n",
       "             Genres    Last Updated         Current Ver         Android Ver  \n",
       "2544         Social  August 3, 2018  Varies with device  Varies with device  \n",
       "3943         Social  August 3, 2018  Varies with device  Varies with device  \n",
       "336   Communication  August 3, 2018  Varies with device  Varies with device  \n",
       "3904  Communication  August 3, 2018  Varies with device  Varies with device  \n",
       "2604         Social   July 31, 2018  Varies with device  Varies with device  \n",
       "2545         Social   July 31, 2018  Varies with device  Varies with device  \n",
       "3909         Social   July 31, 2018  Varies with device  Varies with device  \n",
       "382   Communication  August 1, 2018  Varies with device  Varies with device  \n",
       "335   Communication  August 1, 2018  Varies with device  Varies with device  \n",
       "1879       Strategy   July 15, 2018           10.322.16          4.1 and up  "
      ]
     },
     "execution_count": 34,
     "metadata": {},
     "output_type": "execute_result"
    }
   ],
   "source": [
    "df.sort_values(by='Reviews', ascending=False).head(10)"
   ]
  },
  {
   "cell_type": "markdown",
   "id": "d686953b",
   "metadata": {},
   "source": [
    "### **Top 10 Most Reviewed Apps (Unique App Names)**\n",
    "\n",
    "While selecting the top apps based on the number of reviews, we noticed that some apps (like Instagram, Facebook, Whatsapp Messenger, and Messenger) appeared more than once due to slightly different review counts. \n",
    "\n",
    "To keep the results clean and meaningful, we removed repeated app names from the top list and kept only the entry with the highest number of reviews.\n",
    "\n",
    "The original dataset was not modified. This adjustment was made only for display purposes.\n"
   ]
  },
  {
   "cell_type": "code",
   "execution_count": 36,
   "id": "51d57b6d",
   "metadata": {},
   "outputs": [
    {
     "data": {
      "application/vnd.microsoft.datawrangler.viewer.v0+json": {
       "columns": [
        {
         "name": "index",
         "rawType": "int64",
         "type": "integer"
        },
        {
         "name": "App",
         "rawType": "object",
         "type": "string"
        },
        {
         "name": "Category",
         "rawType": "object",
         "type": "string"
        },
        {
         "name": "Rating",
         "rawType": "float64",
         "type": "float"
        },
        {
         "name": "Reviews",
         "rawType": "float64",
         "type": "float"
        },
        {
         "name": "Size",
         "rawType": "float64",
         "type": "float"
        },
        {
         "name": "Installs",
         "rawType": "float64",
         "type": "float"
        },
        {
         "name": "Type",
         "rawType": "object",
         "type": "string"
        },
        {
         "name": "Price",
         "rawType": "float64",
         "type": "float"
        },
        {
         "name": "Content Rating",
         "rawType": "object",
         "type": "string"
        },
        {
         "name": "Genres",
         "rawType": "object",
         "type": "string"
        },
        {
         "name": "Last Updated",
         "rawType": "object",
         "type": "string"
        },
        {
         "name": "Current Ver",
         "rawType": "object",
         "type": "string"
        },
        {
         "name": "Android Ver",
         "rawType": "object",
         "type": "string"
        }
       ],
       "ref": "637c9070-7aad-408a-b9e6-784de58b0812",
       "rows": [
        [
         "2544",
         "Facebook",
         "SOCIAL",
         "4.1",
         "78158306.0",
         "13.0",
         "1000000000.0",
         "Free",
         "0.0",
         "Teen",
         "Social",
         "August 3, 2018",
         "Varies with device",
         "Varies with device"
        ],
        [
         "336",
         "WhatsApp Messenger",
         "COMMUNICATION",
         "4.4",
         "69119316.0",
         "13.0",
         "1000000000.0",
         "Free",
         "0.0",
         "Everyone",
         "Communication",
         "August 3, 2018",
         "Varies with device",
         "Varies with device"
        ],
        [
         "2604",
         "Instagram",
         "SOCIAL",
         "4.5",
         "66577446.0",
         "13.0",
         "1000000000.0",
         "Free",
         "0.0",
         "Teen",
         "Social",
         "July 31, 2018",
         "Varies with device",
         "Varies with device"
        ],
        [
         "382",
         "Messenger – Text and Video Chat for Free",
         "COMMUNICATION",
         "4.0",
         "56646578.0",
         "13.0",
         "1000000000.0",
         "Free",
         "0.0",
         "Everyone",
         "Communication",
         "August 1, 2018",
         "Varies with device",
         "Varies with device"
        ],
        [
         "1879",
         "Clash of Clans",
         "GAME",
         "4.6",
         "44893888.0",
         "98.0",
         "100000000.0",
         "Free",
         "0.0",
         "Everyone 10+",
         "Strategy",
         "July 15, 2018",
         "10.322.16",
         "4.1 and up"
        ],
        [
         "4005",
         "Clean Master- Space Cleaner & Antivirus",
         "TOOLS",
         "4.7",
         "42916526.0",
         "13.0",
         "500000000.0",
         "Free",
         "0.0",
         "Everyone",
         "Tools",
         "August 3, 2018",
         "Varies with device",
         "Varies with device"
        ],
        [
         "1872",
         "Subway Surfers",
         "GAME",
         "4.5",
         "27725352.0",
         "76.0",
         "1000000000.0",
         "Free",
         "0.0",
         "Everyone 10+",
         "Arcade",
         "July 12, 2018",
         "1.90.0",
         "4.1 and up"
        ],
        [
         "3665",
         "YouTube",
         "VIDEO_PLAYERS",
         "4.3",
         "25655305.0",
         "13.0",
         "1000000000.0",
         "Free",
         "0.0",
         "Teen",
         "Video Players & Editors",
         "August 2, 2018",
         "Varies with device",
         "Varies with device"
        ],
        [
         "7536",
         "Security Master - Antivirus, VPN, AppLock, Booster",
         "TOOLS",
         "4.7",
         "24900999.0",
         "13.0",
         "500000000.0",
         "Free",
         "0.0",
         "Everyone",
         "Tools",
         "August 4, 2018",
         "4.6.6",
         "Varies with device"
        ],
        [
         "1878",
         "Clash Royale",
         "GAME",
         "4.6",
         "23136735.0",
         "97.0",
         "100000000.0",
         "Free",
         "0.0",
         "Everyone 10+",
         "Strategy",
         "June 27, 2018",
         "2.3.2",
         "4.1 and up"
        ]
       ],
       "shape": {
        "columns": 13,
        "rows": 10
       }
      },
      "text/html": [
       "<div>\n",
       "<style scoped>\n",
       "    .dataframe tbody tr th:only-of-type {\n",
       "        vertical-align: middle;\n",
       "    }\n",
       "\n",
       "    .dataframe tbody tr th {\n",
       "        vertical-align: top;\n",
       "    }\n",
       "\n",
       "    .dataframe thead th {\n",
       "        text-align: right;\n",
       "    }\n",
       "</style>\n",
       "<table border=\"1\" class=\"dataframe\">\n",
       "  <thead>\n",
       "    <tr style=\"text-align: right;\">\n",
       "      <th></th>\n",
       "      <th>App</th>\n",
       "      <th>Category</th>\n",
       "      <th>Rating</th>\n",
       "      <th>Reviews</th>\n",
       "      <th>Size</th>\n",
       "      <th>Installs</th>\n",
       "      <th>Type</th>\n",
       "      <th>Price</th>\n",
       "      <th>Content Rating</th>\n",
       "      <th>Genres</th>\n",
       "      <th>Last Updated</th>\n",
       "      <th>Current Ver</th>\n",
       "      <th>Android Ver</th>\n",
       "    </tr>\n",
       "  </thead>\n",
       "  <tbody>\n",
       "    <tr>\n",
       "      <th>2544</th>\n",
       "      <td>Facebook</td>\n",
       "      <td>SOCIAL</td>\n",
       "      <td>4.1</td>\n",
       "      <td>78158306.0</td>\n",
       "      <td>13.0</td>\n",
       "      <td>1.000000e+09</td>\n",
       "      <td>Free</td>\n",
       "      <td>0.0</td>\n",
       "      <td>Teen</td>\n",
       "      <td>Social</td>\n",
       "      <td>August 3, 2018</td>\n",
       "      <td>Varies with device</td>\n",
       "      <td>Varies with device</td>\n",
       "    </tr>\n",
       "    <tr>\n",
       "      <th>336</th>\n",
       "      <td>WhatsApp Messenger</td>\n",
       "      <td>COMMUNICATION</td>\n",
       "      <td>4.4</td>\n",
       "      <td>69119316.0</td>\n",
       "      <td>13.0</td>\n",
       "      <td>1.000000e+09</td>\n",
       "      <td>Free</td>\n",
       "      <td>0.0</td>\n",
       "      <td>Everyone</td>\n",
       "      <td>Communication</td>\n",
       "      <td>August 3, 2018</td>\n",
       "      <td>Varies with device</td>\n",
       "      <td>Varies with device</td>\n",
       "    </tr>\n",
       "    <tr>\n",
       "      <th>2604</th>\n",
       "      <td>Instagram</td>\n",
       "      <td>SOCIAL</td>\n",
       "      <td>4.5</td>\n",
       "      <td>66577446.0</td>\n",
       "      <td>13.0</td>\n",
       "      <td>1.000000e+09</td>\n",
       "      <td>Free</td>\n",
       "      <td>0.0</td>\n",
       "      <td>Teen</td>\n",
       "      <td>Social</td>\n",
       "      <td>July 31, 2018</td>\n",
       "      <td>Varies with device</td>\n",
       "      <td>Varies with device</td>\n",
       "    </tr>\n",
       "    <tr>\n",
       "      <th>382</th>\n",
       "      <td>Messenger – Text and Video Chat for Free</td>\n",
       "      <td>COMMUNICATION</td>\n",
       "      <td>4.0</td>\n",
       "      <td>56646578.0</td>\n",
       "      <td>13.0</td>\n",
       "      <td>1.000000e+09</td>\n",
       "      <td>Free</td>\n",
       "      <td>0.0</td>\n",
       "      <td>Everyone</td>\n",
       "      <td>Communication</td>\n",
       "      <td>August 1, 2018</td>\n",
       "      <td>Varies with device</td>\n",
       "      <td>Varies with device</td>\n",
       "    </tr>\n",
       "    <tr>\n",
       "      <th>1879</th>\n",
       "      <td>Clash of Clans</td>\n",
       "      <td>GAME</td>\n",
       "      <td>4.6</td>\n",
       "      <td>44893888.0</td>\n",
       "      <td>98.0</td>\n",
       "      <td>1.000000e+08</td>\n",
       "      <td>Free</td>\n",
       "      <td>0.0</td>\n",
       "      <td>Everyone 10+</td>\n",
       "      <td>Strategy</td>\n",
       "      <td>July 15, 2018</td>\n",
       "      <td>10.322.16</td>\n",
       "      <td>4.1 and up</td>\n",
       "    </tr>\n",
       "    <tr>\n",
       "      <th>4005</th>\n",
       "      <td>Clean Master- Space Cleaner &amp; Antivirus</td>\n",
       "      <td>TOOLS</td>\n",
       "      <td>4.7</td>\n",
       "      <td>42916526.0</td>\n",
       "      <td>13.0</td>\n",
       "      <td>5.000000e+08</td>\n",
       "      <td>Free</td>\n",
       "      <td>0.0</td>\n",
       "      <td>Everyone</td>\n",
       "      <td>Tools</td>\n",
       "      <td>August 3, 2018</td>\n",
       "      <td>Varies with device</td>\n",
       "      <td>Varies with device</td>\n",
       "    </tr>\n",
       "    <tr>\n",
       "      <th>1872</th>\n",
       "      <td>Subway Surfers</td>\n",
       "      <td>GAME</td>\n",
       "      <td>4.5</td>\n",
       "      <td>27725352.0</td>\n",
       "      <td>76.0</td>\n",
       "      <td>1.000000e+09</td>\n",
       "      <td>Free</td>\n",
       "      <td>0.0</td>\n",
       "      <td>Everyone 10+</td>\n",
       "      <td>Arcade</td>\n",
       "      <td>July 12, 2018</td>\n",
       "      <td>1.90.0</td>\n",
       "      <td>4.1 and up</td>\n",
       "    </tr>\n",
       "    <tr>\n",
       "      <th>3665</th>\n",
       "      <td>YouTube</td>\n",
       "      <td>VIDEO_PLAYERS</td>\n",
       "      <td>4.3</td>\n",
       "      <td>25655305.0</td>\n",
       "      <td>13.0</td>\n",
       "      <td>1.000000e+09</td>\n",
       "      <td>Free</td>\n",
       "      <td>0.0</td>\n",
       "      <td>Teen</td>\n",
       "      <td>Video Players &amp; Editors</td>\n",
       "      <td>August 2, 2018</td>\n",
       "      <td>Varies with device</td>\n",
       "      <td>Varies with device</td>\n",
       "    </tr>\n",
       "    <tr>\n",
       "      <th>7536</th>\n",
       "      <td>Security Master - Antivirus, VPN, AppLock, Boo...</td>\n",
       "      <td>TOOLS</td>\n",
       "      <td>4.7</td>\n",
       "      <td>24900999.0</td>\n",
       "      <td>13.0</td>\n",
       "      <td>5.000000e+08</td>\n",
       "      <td>Free</td>\n",
       "      <td>0.0</td>\n",
       "      <td>Everyone</td>\n",
       "      <td>Tools</td>\n",
       "      <td>August 4, 2018</td>\n",
       "      <td>4.6.6</td>\n",
       "      <td>Varies with device</td>\n",
       "    </tr>\n",
       "    <tr>\n",
       "      <th>1878</th>\n",
       "      <td>Clash Royale</td>\n",
       "      <td>GAME</td>\n",
       "      <td>4.6</td>\n",
       "      <td>23136735.0</td>\n",
       "      <td>97.0</td>\n",
       "      <td>1.000000e+08</td>\n",
       "      <td>Free</td>\n",
       "      <td>0.0</td>\n",
       "      <td>Everyone 10+</td>\n",
       "      <td>Strategy</td>\n",
       "      <td>June 27, 2018</td>\n",
       "      <td>2.3.2</td>\n",
       "      <td>4.1 and up</td>\n",
       "    </tr>\n",
       "  </tbody>\n",
       "</table>\n",
       "</div>"
      ],
      "text/plain": [
       "                                                    App       Category  \\\n",
       "2544                                           Facebook         SOCIAL   \n",
       "336                                  WhatsApp Messenger  COMMUNICATION   \n",
       "2604                                          Instagram         SOCIAL   \n",
       "382            Messenger – Text and Video Chat for Free  COMMUNICATION   \n",
       "1879                                     Clash of Clans           GAME   \n",
       "4005            Clean Master- Space Cleaner & Antivirus          TOOLS   \n",
       "1872                                     Subway Surfers           GAME   \n",
       "3665                                            YouTube  VIDEO_PLAYERS   \n",
       "7536  Security Master - Antivirus, VPN, AppLock, Boo...          TOOLS   \n",
       "1878                                       Clash Royale           GAME   \n",
       "\n",
       "      Rating     Reviews  Size      Installs  Type  Price Content Rating  \\\n",
       "2544     4.1  78158306.0  13.0  1.000000e+09  Free    0.0           Teen   \n",
       "336      4.4  69119316.0  13.0  1.000000e+09  Free    0.0       Everyone   \n",
       "2604     4.5  66577446.0  13.0  1.000000e+09  Free    0.0           Teen   \n",
       "382      4.0  56646578.0  13.0  1.000000e+09  Free    0.0       Everyone   \n",
       "1879     4.6  44893888.0  98.0  1.000000e+08  Free    0.0   Everyone 10+   \n",
       "4005     4.7  42916526.0  13.0  5.000000e+08  Free    0.0       Everyone   \n",
       "1872     4.5  27725352.0  76.0  1.000000e+09  Free    0.0   Everyone 10+   \n",
       "3665     4.3  25655305.0  13.0  1.000000e+09  Free    0.0           Teen   \n",
       "7536     4.7  24900999.0  13.0  5.000000e+08  Free    0.0       Everyone   \n",
       "1878     4.6  23136735.0  97.0  1.000000e+08  Free    0.0   Everyone 10+   \n",
       "\n",
       "                       Genres    Last Updated         Current Ver  \\\n",
       "2544                   Social  August 3, 2018  Varies with device   \n",
       "336             Communication  August 3, 2018  Varies with device   \n",
       "2604                   Social   July 31, 2018  Varies with device   \n",
       "382             Communication  August 1, 2018  Varies with device   \n",
       "1879                 Strategy   July 15, 2018           10.322.16   \n",
       "4005                    Tools  August 3, 2018  Varies with device   \n",
       "1872                   Arcade   July 12, 2018              1.90.0   \n",
       "3665  Video Players & Editors  August 2, 2018  Varies with device   \n",
       "7536                    Tools  August 4, 2018               4.6.6   \n",
       "1878                 Strategy   June 27, 2018               2.3.2   \n",
       "\n",
       "             Android Ver  \n",
       "2544  Varies with device  \n",
       "336   Varies with device  \n",
       "2604  Varies with device  \n",
       "382   Varies with device  \n",
       "1879          4.1 and up  \n",
       "4005  Varies with device  \n",
       "1872          4.1 and up  \n",
       "3665  Varies with device  \n",
       "7536  Varies with device  \n",
       "1878          4.1 and up  "
      ]
     },
     "execution_count": 36,
     "metadata": {},
     "output_type": "execute_result"
    }
   ],
   "source": [
    "# Sort the dataset in descending order by number of reviews\n",
    "top_reviewed = df.sort_values(by='Reviews', ascending=False)\n",
    "\n",
    "# Remove duplicate app names to avoid repetition in the top list\n",
    "top_reviewed_unique = top_reviewed.drop_duplicates(subset='App', keep='first')\n",
    "\n",
    "# Select the top 10 most reviewed apps with unique names\n",
    "top_10_reviewed = top_reviewed_unique.head(10)\n",
    "\n",
    "# Display all columns for the top 10 reviewed apps\n",
    "top_10_reviewed\n"
   ]
  },
  {
   "cell_type": "markdown",
   "id": "40b05a5e",
   "metadata": {},
   "source": [
    "### **Top 10 Highest Rated Apps (min 1000 reviews)**\n"
   ]
  },
  {
   "cell_type": "code",
   "execution_count": 37,
   "id": "0ab04583",
   "metadata": {},
   "outputs": [
    {
     "data": {
      "application/vnd.microsoft.datawrangler.viewer.v0+json": {
       "columns": [
        {
         "name": "index",
         "rawType": "int64",
         "type": "integer"
        },
        {
         "name": "App",
         "rawType": "object",
         "type": "string"
        },
        {
         "name": "Category",
         "rawType": "object",
         "type": "string"
        },
        {
         "name": "Rating",
         "rawType": "float64",
         "type": "float"
        },
        {
         "name": "Reviews",
         "rawType": "float64",
         "type": "float"
        },
        {
         "name": "Size",
         "rawType": "float64",
         "type": "float"
        },
        {
         "name": "Installs",
         "rawType": "float64",
         "type": "float"
        },
        {
         "name": "Type",
         "rawType": "object",
         "type": "string"
        },
        {
         "name": "Price",
         "rawType": "float64",
         "type": "float"
        },
        {
         "name": "Content Rating",
         "rawType": "object",
         "type": "string"
        },
        {
         "name": "Genres",
         "rawType": "object",
         "type": "string"
        },
        {
         "name": "Last Updated",
         "rawType": "object",
         "type": "string"
        },
        {
         "name": "Current Ver",
         "rawType": "object",
         "type": "string"
        },
        {
         "name": "Android Ver",
         "rawType": "object",
         "type": "string"
        }
       ],
       "ref": "18e52903-f3ac-4941-aa92-eedfcc085873",
       "rows": [
        [
         "4854",
         "Six Pack in 30 Days - Abs Workout",
         "HEALTH_AND_FITNESS",
         "4.9",
         "272172.0",
         "13.0",
         "10000000.0",
         "Free",
         "0.0",
         "Everyone",
         "Health & Fitness",
         "June 21, 2018",
         "1.0.2",
         "4.2 and up"
        ],
        [
         "712",
         "Learn Japanese, Korean, Chinese Offline & Free",
         "EDUCATION",
         "4.9",
         "133136.0",
         "26.0",
         "1000000.0",
         "Free",
         "0.0",
         "Everyone",
         "Education;Education",
         "July 20, 2018",
         "2.16.11.10",
         "4.2 and up"
        ],
        [
         "4975",
         "Solitaire: Decked Out Ad Free",
         "GAME",
         "4.9",
         "37302.0",
         "35.0",
         "500000.0",
         "Free",
         "0.0",
         "Everyone",
         "Card",
         "May 8, 2017",
         "1.3.3",
         "4.1 and up"
        ],
        [
         "4332",
         "EXO-L Amino for EXO Fans",
         "SOCIAL",
         "4.9",
         "5677.0",
         "67.0",
         "50000.0",
         "Free",
         "0.0",
         "Teen",
         "Social",
         "July 13, 2018",
         "1.8.19106",
         "4.0.3 and up"
        ],
        [
         "3933",
         "Hungry Hearts Diner: A Tale of Star-Crossed Souls",
         "FAMILY",
         "4.9",
         "46253.0",
         "56.0",
         "500000.0",
         "Free",
         "0.0",
         "Everyone 10+",
         "Simulation",
         "February 7, 2018",
         "1.0.1",
         "4.0 and up"
        ],
        [
         "6052",
         "Be My Eyes - Helping the blind",
         "LIFESTYLE",
         "4.9",
         "8418.0",
         "21.0",
         "500000.0",
         "Free",
         "0.0",
         "Everyone",
         "Lifestyle",
         "July 11, 2018",
         "1.2.9",
         "4.4 and up"
        ],
        [
         "6690",
         "Br Shafi",
         "FAMILY",
         "4.9",
         "1288.0",
         "26.0",
         "10000.0",
         "Free",
         "0.0",
         "Everyone",
         "Education",
         "July 11, 2018",
         "1.0",
         "4.1 and up"
        ],
        [
         "7000",
         "PixPanda - Color by Number Pixel Art Coloring Book",
         "FAMILY",
         "4.9",
         "55723.0",
         "14.0",
         "1000000.0",
         "Free",
         "0.0",
         "Everyone",
         "Entertainment",
         "June 4, 2018",
         "3.3",
         "4.0.3 and up"
        ],
        [
         "2344",
         "Period Tracker",
         "MEDICAL",
         "4.9",
         "100082.0",
         "3.7",
         "1000000.0",
         "Free",
         "0.0",
         "Everyone",
         "Medical",
         "July 9, 2018",
         "1.2.2",
         "4.1 and up"
        ],
        [
         "1258",
         "Lose Belly Fat in 30 Days - Flat Stomach",
         "HEALTH_AND_FITNESS",
         "4.9",
         "38098.0",
         "11.0",
         "5000000.0",
         "Free",
         "0.0",
         "Everyone",
         "Health & Fitness",
         "June 21, 2018",
         "1.0.4",
         "4.2 and up"
        ]
       ],
       "shape": {
        "columns": 13,
        "rows": 10
       }
      },
      "text/html": [
       "<div>\n",
       "<style scoped>\n",
       "    .dataframe tbody tr th:only-of-type {\n",
       "        vertical-align: middle;\n",
       "    }\n",
       "\n",
       "    .dataframe tbody tr th {\n",
       "        vertical-align: top;\n",
       "    }\n",
       "\n",
       "    .dataframe thead th {\n",
       "        text-align: right;\n",
       "    }\n",
       "</style>\n",
       "<table border=\"1\" class=\"dataframe\">\n",
       "  <thead>\n",
       "    <tr style=\"text-align: right;\">\n",
       "      <th></th>\n",
       "      <th>App</th>\n",
       "      <th>Category</th>\n",
       "      <th>Rating</th>\n",
       "      <th>Reviews</th>\n",
       "      <th>Size</th>\n",
       "      <th>Installs</th>\n",
       "      <th>Type</th>\n",
       "      <th>Price</th>\n",
       "      <th>Content Rating</th>\n",
       "      <th>Genres</th>\n",
       "      <th>Last Updated</th>\n",
       "      <th>Current Ver</th>\n",
       "      <th>Android Ver</th>\n",
       "    </tr>\n",
       "  </thead>\n",
       "  <tbody>\n",
       "    <tr>\n",
       "      <th>4854</th>\n",
       "      <td>Six Pack in 30 Days - Abs Workout</td>\n",
       "      <td>HEALTH_AND_FITNESS</td>\n",
       "      <td>4.9</td>\n",
       "      <td>272172.0</td>\n",
       "      <td>13.0</td>\n",
       "      <td>10000000.0</td>\n",
       "      <td>Free</td>\n",
       "      <td>0.0</td>\n",
       "      <td>Everyone</td>\n",
       "      <td>Health &amp; Fitness</td>\n",
       "      <td>June 21, 2018</td>\n",
       "      <td>1.0.2</td>\n",
       "      <td>4.2 and up</td>\n",
       "    </tr>\n",
       "    <tr>\n",
       "      <th>712</th>\n",
       "      <td>Learn Japanese, Korean, Chinese Offline &amp; Free</td>\n",
       "      <td>EDUCATION</td>\n",
       "      <td>4.9</td>\n",
       "      <td>133136.0</td>\n",
       "      <td>26.0</td>\n",
       "      <td>1000000.0</td>\n",
       "      <td>Free</td>\n",
       "      <td>0.0</td>\n",
       "      <td>Everyone</td>\n",
       "      <td>Education;Education</td>\n",
       "      <td>July 20, 2018</td>\n",
       "      <td>2.16.11.10</td>\n",
       "      <td>4.2 and up</td>\n",
       "    </tr>\n",
       "    <tr>\n",
       "      <th>4975</th>\n",
       "      <td>Solitaire: Decked Out Ad Free</td>\n",
       "      <td>GAME</td>\n",
       "      <td>4.9</td>\n",
       "      <td>37302.0</td>\n",
       "      <td>35.0</td>\n",
       "      <td>500000.0</td>\n",
       "      <td>Free</td>\n",
       "      <td>0.0</td>\n",
       "      <td>Everyone</td>\n",
       "      <td>Card</td>\n",
       "      <td>May 8, 2017</td>\n",
       "      <td>1.3.3</td>\n",
       "      <td>4.1 and up</td>\n",
       "    </tr>\n",
       "    <tr>\n",
       "      <th>4332</th>\n",
       "      <td>EXO-L Amino for EXO Fans</td>\n",
       "      <td>SOCIAL</td>\n",
       "      <td>4.9</td>\n",
       "      <td>5677.0</td>\n",
       "      <td>67.0</td>\n",
       "      <td>50000.0</td>\n",
       "      <td>Free</td>\n",
       "      <td>0.0</td>\n",
       "      <td>Teen</td>\n",
       "      <td>Social</td>\n",
       "      <td>July 13, 2018</td>\n",
       "      <td>1.8.19106</td>\n",
       "      <td>4.0.3 and up</td>\n",
       "    </tr>\n",
       "    <tr>\n",
       "      <th>3933</th>\n",
       "      <td>Hungry Hearts Diner: A Tale of Star-Crossed Souls</td>\n",
       "      <td>FAMILY</td>\n",
       "      <td>4.9</td>\n",
       "      <td>46253.0</td>\n",
       "      <td>56.0</td>\n",
       "      <td>500000.0</td>\n",
       "      <td>Free</td>\n",
       "      <td>0.0</td>\n",
       "      <td>Everyone 10+</td>\n",
       "      <td>Simulation</td>\n",
       "      <td>February 7, 2018</td>\n",
       "      <td>1.0.1</td>\n",
       "      <td>4.0 and up</td>\n",
       "    </tr>\n",
       "    <tr>\n",
       "      <th>6052</th>\n",
       "      <td>Be My Eyes - Helping the blind</td>\n",
       "      <td>LIFESTYLE</td>\n",
       "      <td>4.9</td>\n",
       "      <td>8418.0</td>\n",
       "      <td>21.0</td>\n",
       "      <td>500000.0</td>\n",
       "      <td>Free</td>\n",
       "      <td>0.0</td>\n",
       "      <td>Everyone</td>\n",
       "      <td>Lifestyle</td>\n",
       "      <td>July 11, 2018</td>\n",
       "      <td>1.2.9</td>\n",
       "      <td>4.4 and up</td>\n",
       "    </tr>\n",
       "    <tr>\n",
       "      <th>6690</th>\n",
       "      <td>Br Shafi</td>\n",
       "      <td>FAMILY</td>\n",
       "      <td>4.9</td>\n",
       "      <td>1288.0</td>\n",
       "      <td>26.0</td>\n",
       "      <td>10000.0</td>\n",
       "      <td>Free</td>\n",
       "      <td>0.0</td>\n",
       "      <td>Everyone</td>\n",
       "      <td>Education</td>\n",
       "      <td>July 11, 2018</td>\n",
       "      <td>1.0</td>\n",
       "      <td>4.1 and up</td>\n",
       "    </tr>\n",
       "    <tr>\n",
       "      <th>7000</th>\n",
       "      <td>PixPanda - Color by Number Pixel Art Coloring ...</td>\n",
       "      <td>FAMILY</td>\n",
       "      <td>4.9</td>\n",
       "      <td>55723.0</td>\n",
       "      <td>14.0</td>\n",
       "      <td>1000000.0</td>\n",
       "      <td>Free</td>\n",
       "      <td>0.0</td>\n",
       "      <td>Everyone</td>\n",
       "      <td>Entertainment</td>\n",
       "      <td>June 4, 2018</td>\n",
       "      <td>3.3</td>\n",
       "      <td>4.0.3 and up</td>\n",
       "    </tr>\n",
       "    <tr>\n",
       "      <th>2344</th>\n",
       "      <td>Period Tracker</td>\n",
       "      <td>MEDICAL</td>\n",
       "      <td>4.9</td>\n",
       "      <td>100082.0</td>\n",
       "      <td>3.7</td>\n",
       "      <td>1000000.0</td>\n",
       "      <td>Free</td>\n",
       "      <td>0.0</td>\n",
       "      <td>Everyone</td>\n",
       "      <td>Medical</td>\n",
       "      <td>July 9, 2018</td>\n",
       "      <td>1.2.2</td>\n",
       "      <td>4.1 and up</td>\n",
       "    </tr>\n",
       "    <tr>\n",
       "      <th>1258</th>\n",
       "      <td>Lose Belly Fat in 30 Days - Flat Stomach</td>\n",
       "      <td>HEALTH_AND_FITNESS</td>\n",
       "      <td>4.9</td>\n",
       "      <td>38098.0</td>\n",
       "      <td>11.0</td>\n",
       "      <td>5000000.0</td>\n",
       "      <td>Free</td>\n",
       "      <td>0.0</td>\n",
       "      <td>Everyone</td>\n",
       "      <td>Health &amp; Fitness</td>\n",
       "      <td>June 21, 2018</td>\n",
       "      <td>1.0.4</td>\n",
       "      <td>4.2 and up</td>\n",
       "    </tr>\n",
       "  </tbody>\n",
       "</table>\n",
       "</div>"
      ],
      "text/plain": [
       "                                                    App            Category  \\\n",
       "4854                  Six Pack in 30 Days - Abs Workout  HEALTH_AND_FITNESS   \n",
       "712      Learn Japanese, Korean, Chinese Offline & Free           EDUCATION   \n",
       "4975                      Solitaire: Decked Out Ad Free                GAME   \n",
       "4332                           EXO-L Amino for EXO Fans              SOCIAL   \n",
       "3933  Hungry Hearts Diner: A Tale of Star-Crossed Souls              FAMILY   \n",
       "6052                     Be My Eyes - Helping the blind           LIFESTYLE   \n",
       "6690                                           Br Shafi              FAMILY   \n",
       "7000  PixPanda - Color by Number Pixel Art Coloring ...              FAMILY   \n",
       "2344                                     Period Tracker             MEDICAL   \n",
       "1258           Lose Belly Fat in 30 Days - Flat Stomach  HEALTH_AND_FITNESS   \n",
       "\n",
       "      Rating   Reviews  Size    Installs  Type  Price Content Rating  \\\n",
       "4854     4.9  272172.0  13.0  10000000.0  Free    0.0       Everyone   \n",
       "712      4.9  133136.0  26.0   1000000.0  Free    0.0       Everyone   \n",
       "4975     4.9   37302.0  35.0    500000.0  Free    0.0       Everyone   \n",
       "4332     4.9    5677.0  67.0     50000.0  Free    0.0           Teen   \n",
       "3933     4.9   46253.0  56.0    500000.0  Free    0.0   Everyone 10+   \n",
       "6052     4.9    8418.0  21.0    500000.0  Free    0.0       Everyone   \n",
       "6690     4.9    1288.0  26.0     10000.0  Free    0.0       Everyone   \n",
       "7000     4.9   55723.0  14.0   1000000.0  Free    0.0       Everyone   \n",
       "2344     4.9  100082.0   3.7   1000000.0  Free    0.0       Everyone   \n",
       "1258     4.9   38098.0  11.0   5000000.0  Free    0.0       Everyone   \n",
       "\n",
       "                   Genres      Last Updated Current Ver   Android Ver  \n",
       "4854     Health & Fitness     June 21, 2018       1.0.2    4.2 and up  \n",
       "712   Education;Education     July 20, 2018  2.16.11.10    4.2 and up  \n",
       "4975                 Card       May 8, 2017       1.3.3    4.1 and up  \n",
       "4332               Social     July 13, 2018   1.8.19106  4.0.3 and up  \n",
       "3933           Simulation  February 7, 2018       1.0.1    4.0 and up  \n",
       "6052            Lifestyle     July 11, 2018       1.2.9    4.4 and up  \n",
       "6690            Education     July 11, 2018         1.0    4.1 and up  \n",
       "7000        Entertainment      June 4, 2018         3.3  4.0.3 and up  \n",
       "2344              Medical      July 9, 2018       1.2.2    4.1 and up  \n",
       "1258     Health & Fitness     June 21, 2018       1.0.4    4.2 and up  "
      ]
     },
     "execution_count": 37,
     "metadata": {},
     "output_type": "execute_result"
    }
   ],
   "source": [
    "df[df['Reviews'] > 1000].sort_values(by='Rating', ascending=False).head(10)"
   ]
  },
  {
   "cell_type": "markdown",
   "id": "924a76be",
   "metadata": {},
   "source": [
    "### **Outlier Detection Using Boxplot**\n",
    "\n",
    "Outliers are extreme values that differ significantly from other observations. They can heavily influence statistical analysis and visualizations.\n",
    "\n",
    "To visually identify potential outliers, we use a boxplot for key numerical columns such as:\n",
    "\n",
    "- Rating\n",
    "- Reviews\n",
    "- Installs\n",
    "- Price\n",
    "- Size\n",
    "\n",
    "This helps us quickly spot unusually high or low values that may need further investigation or handling.\n"
   ]
  },
  {
   "cell_type": "code",
   "execution_count": 38,
   "id": "c37a7b7f",
   "metadata": {},
   "outputs": [
    {
     "data": {
      "image/png": "[encoded data removed]",
      "text/plain": [
       "<Figure size 1000x500 with 1 Axes>"
      ]
     },
     "metadata": {},
     "output_type": "display_data"
    }
   ],
   "source": [
    "plt.figure(figsize=(10, 5))\n",
    "sns.boxplot(data=df[['Rating', 'Reviews', 'Installs', 'Price', 'Size']])\n",
    "plt.title(\"Boxplot to Detect Outliers\")\n",
    "plt.show()"
   ]
  },
  {
   "cell_type": "markdown",
   "id": "27f8b70d",
   "metadata": {},
   "source": [
    "### **Distribution of App Ratings**\n",
    "\n",
    "Understanding how app ratings are distributed helps assess overall quality perception by users.\n"
   ]
  },
  {
   "cell_type": "code",
   "execution_count": 39,
   "id": "1acc9a27",
   "metadata": {},
   "outputs": [
    {
     "data": {
      "image/png": "[encoded data removed]",
      "text/plain": [
       "<Figure size 800x500 with 1 Axes>"
      ]
     },
     "metadata": {},
     "output_type": "display_data"
    }
   ],
   "source": [
    "plt.figure(figsize=(8, 5))\n",
    "sns.histplot(df['Rating'], bins=40, kde=True, color='skyblue')\n",
    "plt.title('Distribution of App Ratings')\n",
    "plt.xlabel('Rating')\n",
    "plt.ylabel('Number of Apps')\n",
    "plt.show()\n"
   ]
  },
  {
   "cell_type": "markdown",
   "id": "1b83ec25",
   "metadata": {},
   "source": [
    "### **Number of Apps per Category**\n",
    "\n",
    "Visualizing the number of apps in each category gives an idea of market saturation.\n"
   ]
  },
  {
   "cell_type": "code",
   "execution_count": 40,
   "id": "ecc04a5d",
   "metadata": {},
   "outputs": [
    {
     "data": {
      "image/png": "[encoded data removed]",
      "text/plain": [
       "<Figure size 1200x600 with 1 Axes>"
      ]
     },
     "metadata": {},
     "output_type": "display_data"
    }
   ],
   "source": [
    "plt.figure(figsize=(12, 6))\n",
    "df['Category'].value_counts().plot(kind='bar', color='coral')\n",
    "plt.title('Number of Apps per Category')\n",
    "plt.xlabel('Category')\n",
    "plt.ylabel('Number of Apps')\n",
    "plt.xticks(rotation=45, ha='right')\n",
    "plt.tight_layout()\n",
    "plt.show()\n"
   ]
  },
  {
   "cell_type": "markdown",
   "id": "16c9bf0f",
   "metadata": {},
   "source": [
    "### **Relation Between Reviews and Rating**\n",
    "\n",
    "This scatter plot helps us see whether highly-rated apps also get more user reviews.\n"
   ]
  },
  {
   "cell_type": "code",
   "execution_count": 41,
   "id": "604e9469",
   "metadata": {},
   "outputs": [
    {
     "data": {
      "image/png": "[encoded data removed]",
      "text/plain": [
       "<Figure size 800x500 with 1 Axes>"
      ]
     },
     "metadata": {},
     "output_type": "display_data"
    }
   ],
   "source": [
    "plt.figure(figsize=(8, 5))\n",
    "sns.scatterplot(x='Rating', y='Reviews', data=df, alpha=0.6)\n",
    "plt.title('Rating vs Reviews')\n",
    "plt.xlabel('Rating')\n",
    "plt.ylabel('Number of Reviews')\n",
    "plt.yscale('log')  # reviews are highly skewed\n",
    "plt.show()\n"
   ]
  },
  {
   "cell_type": "markdown",
   "id": "c6a5795d",
   "metadata": {},
   "source": [
    "### **Average Rating per Category**\n"
   ]
  },
  {
   "cell_type": "code",
   "execution_count": 42,
   "id": "552cc28d",
   "metadata": {},
   "outputs": [
    {
     "data": {
      "image/png": "[encoded data removed]",
      "text/plain": [
       "<Figure size 1000x600 with 1 Axes>"
      ]
     },
     "metadata": {},
     "output_type": "display_data"
    }
   ],
   "source": [
    "plt.figure(figsize=(10, 6))\n",
    "avg_rating = df.groupby('Category')['Rating'].mean().sort_values()\n",
    "avg_rating.plot(kind='barh', color='mediumseagreen')\n",
    "plt.title('Average Rating by Category')\n",
    "plt.xlabel('Average Rating')\n",
    "plt.ylabel('Category')\n",
    "plt.show()\n"
   ]
  },
  {
   "cell_type": "markdown",
   "id": "4b0bf687",
   "metadata": {},
   "source": [
    "### **App Installs by Type**\n",
    "\n",
    "Do free apps get more installs than paid ones? Let’s check visually.\n"
   ]
  },
  {
   "cell_type": "code",
   "execution_count": 43,
   "id": "9a0f4e57",
   "metadata": {},
   "outputs": [
    {
     "data": {
      "image/png": "[encoded data removed]",
      "text/plain": [
       "<Figure size 800x500 with 1 Axes>"
      ]
     },
     "metadata": {},
     "output_type": "display_data"
    }
   ],
   "source": [
    "plt.figure(figsize=(8, 5))\n",
    "sns.boxplot(x='Type', y='Installs', data=df)\n",
    "plt.yscale('log')  # installs are skewed\n",
    "plt.title('Installs by App Type')\n",
    "plt.show()\n"
   ]
  },
  {
   "cell_type": "markdown",
   "id": "5e806d45",
   "metadata": {},
   "source": [
    "### **App Distribution by Content Rating**\n"
   ]
  },
  {
   "cell_type": "code",
   "execution_count": 45,
   "id": "569967c5",
   "metadata": {},
   "outputs": [
    {
     "data": {
      "image/png": "[encoded data removed]",
      "text/plain": [
       "<Figure size 600x600 with 1 Axes>"
      ]
     },
     "metadata": {},
     "output_type": "display_data"
    }
   ],
   "source": [
    "plt.figure(figsize=(6, 6))\n",
    "df['Content Rating'].value_counts().plot(kind='pie', autopct='%1.1f%%', startangle=140, colors=sns.color_palette('pastel'))\n",
    "plt.title('Distribution by Content Rating')\n",
    "plt.ylabel('')\n",
    "plt.show()"
   ]
  }
 ],
 "metadata": {
  "kernelspec": {
   "display_name": "python_eda",
   "language": "python",
   "name": "python3"
  },
  "language_info": {
   "codemirror_mode": {
    "name": "ipython",
    "version": 3
   },
   "file_extension": ".py",
   "mimetype": "text/x-python",
   "name": "python",
   "nbconvert_exporter": "python",
   "pygments_lexer": "ipython3",
   "version": "3.13.2"
  }
 },
 "nbformat": 4,
 "nbformat_minor": 5
}
