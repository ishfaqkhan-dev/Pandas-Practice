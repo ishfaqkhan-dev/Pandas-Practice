{
 "cells": [
  {
   "cell_type": "markdown",
   "id": "71a63513",
   "metadata": {},
   "source": [
    "# **Pandas Day 5**"
   ]
  },
  {
   "cell_type": "markdown",
   "id": "334e9bd7",
   "metadata": {},
   "source": [
    "# **Population of Pakistan Dataset**\n",
    "\n",
    "Author Name : Muhammad Ishfaq Khan\\\n",
    "Email : ishfaqkhanniaxii@gmail.com"
   ]
  },
  {
   "cell_type": "markdown",
   "id": "fb2e1e04",
   "metadata": {},
   "source": [
    "Data Download Link : [Population of Pakistan](https://www.kaggle.com/datasets/mabdullahsajid/population-of-pakistan-dataset)"
   ]
  },
  {
   "cell_type": "markdown",
   "id": "51709c7a",
   "metadata": {},
   "source": [
    "### **About Dataset**\n",
    "\n",
    "`Description`\\\n",
    "This dataset contains demographic information from the Pakistan Population Census conducted in 2017. It provides detailed population data at various administrative levels within Pakistan, including provinces, divisions, districts, and sub-divisions. The dataset also includes information on urban and rural populations, gender distribution, transgender individuals, sex ratios, population figures from the 1998 census, and annual growth rates.\n",
    "\n",
    "`Features`\\\n",
    "Province: The administrative provinces or regions of Pakistan where the census data was collected.\n",
    "\n",
    "Division: The divisions within each province. Divisions are the second level of administrative divisions in Pakistan.\n",
    "\n",
    "District: Districts within each division, representing larger administrative units.\n",
    "\n",
    "Sub-Division: Sub-divisions or tehsils within each district, providing more localized data.\n",
    "\n",
    "Area: The land area (in square kilometers) of each sub-division.\n",
    "\n",
    "Urban Population 2017: The population of urban areas within each sub-division for the year 2017.\n",
    "\n",
    "Rural Population 2017: The population of rural areas within each sub-division for the year 2017.\n",
    "\n",
    "Male Population 2017: The male population within each sub-division for the year 2017.\n",
    "\n",
    "Female Population 2017: The female population within each sub-division for the year 2017.\n",
    "\n",
    "Transgender Population 2017: The population of transgender individuals within each sub-division for the year 2017.\n",
    "\n",
    "Sex Ratio 2017: The sex ratio, calculated as the number of females per 1000 males, within each sub-division for the year 2017.\n",
    "\n",
    "Population in 1998: The total population of each sub-division as recorded in the 1998 census.\n",
    "\n",
    "Annual Growth Rate: The annual growth rate of the population in each sub-division, calculated as the percentage increase from 1998 to 2017.\n",
    "\n",
    "`Data Source`\\\n",
    "The data in this dataset was collected from official Pakistan Population Census reports and may include data from various government sources. It is essential to provide proper attribution and reference the original sources when using this dataset for analysis or research.\n",
    "\n",
    "`Data Usage`\\\n",
    "Researchers and analysts can use this dataset to explore demographic trends, population growth, urbanization rates, gender distribution, and more within Pakistan at different administrative levels. Ensure compliance with ethical and legal guidelines when using this data for research or public sharing."
   ]
  },
  {
   "cell_type": "code",
   "execution_count": null,
   "id": "0096a230",
   "metadata": {},
   "outputs": [],
   "source": [
    "# import libraries\n",
    "\n",
    "import pandas as pd  \n",
    "import seaborn as sns  \n",
    "import matplotlib.pyplot as plt  \n",
    "import numpy as np  "
   ]
  },
  {
   "cell_type": "code",
   "execution_count": null,
   "id": "0f79188b",
   "metadata": {},
   "outputs": [],
   "source": [
    "# import own dataset \n",
    "\n",
    "df = pd.read_csv('../python_datasets/population_of_pakistan.csv')\n",
    "print(df.head())"
   ]
  },
  {
   "cell_type": "code",
   "execution_count": null,
   "id": "b5cf3324",
   "metadata": {},
   "outputs": [],
   "source": [
    "# Explore the data (Composition)\n",
    "\n",
    "# df.info()\n",
    "df.head()\n",
    "\n",
    "# pd.set_option('display.max_columns', None)  # Show all columns in the DataFrame\n",
    "# print(df.head())"
   ]
  },
  {
   "cell_type": "code",
   "execution_count": null,
   "id": "4e5dfeb8",
   "metadata": {},
   "outputs": [],
   "source": [
    "df.columns # columns name of the all dataframe\n",
    "df.dtypes # check the datatypes of the all the columns in the dataframe\n",
    "df.describe() # check the summary of dataframe\n",
    "\n",
    "# take the transpose of the summary of tha dataframe\n",
    "\n",
    "df.describe().T"
   ]
  },
  {
   "cell_type": "code",
   "execution_count": null,
   "id": "24dc26c3",
   "metadata": {},
   "outputs": [],
   "source": [
    "# check the missing values in the dataframe and handled these missing values\n",
    "\n",
    "df.isnull().sum() \n",
    "# there is no missing values in that dataframe so that dataframe is good for analysis\n",
    "# if any missing values in the that dataframe, first we handled that missing values and then perform analysis on it "
   ]
  },
  {
   "cell_type": "code",
   "execution_count": null,
   "id": "de855b75",
   "metadata": {},
   "outputs": [],
   "source": [
    "print(df['AREA (sq.km)'].dtype)"
   ]
  },
  {
   "cell_type": "code",
   "execution_count": null,
   "id": "fc20600e",
   "metadata": {},
   "outputs": [],
   "source": [
    "# make the barplot for visualtization \n",
    "\n",
    "# do plots ko kabhe bhe ak cell mai na chlo issues atai hai\n",
    "\n",
    "# sns.boxplot(df, y='AREA (sq.km)') \n",
    "sns.boxplot(df, x='PROVINCE', y='AREA (sq.km)')\n"
   ]
  },
  {
   "cell_type": "code",
   "execution_count": null,
   "id": "0d38bbfd",
   "metadata": {},
   "outputs": [],
   "source": [
    "# make the histplot for visualization\n",
    "\n",
    "# do plots ko kabhe bhe ak cell mai na chlo issues atai hai\n",
    "\n",
    "# sns.histplot(df, x='AREA (sq.km)')\n",
    "sns.histplot(df, x='PROVINCE', y='FEMALE (RURAL)')"
   ]
  },
  {
   "cell_type": "code",
   "execution_count": 71,
   "id": "8fdf84b1",
   "metadata": {},
   "outputs": [
    {
     "data": {
      "text/plain": [
       "Index(['PROVINCE', 'DIVISION', 'DISTRICT', 'SUB DIVISION', 'AREA (sq.km)',\n",
       "       'ALL SEXES (RURAL)', 'MALE (RURAL)', 'FEMALE (RURAL)',\n",
       "       'TRANSGENDER (RURAL)', 'SEX RATIO (RURAL)',\n",
       "       'AVG HOUSEHOLD SIZE (RURAL)', 'POPULATION 1998 (RURAL)',\n",
       "       'ANNUAL GROWTH RATE (RURAL)', 'ALL SEXES (URBAN)', 'MALE (URBAN)',\n",
       "       'FEMALE (URBAN)', 'TRANSGENDER (URBAN)', 'SEX RATIO (URBAN)',\n",
       "       'AVG HOUSEHOLD SIZE (URBAN)', 'POPULATION 1998 (URBAN)',\n",
       "       'ANNUAL GROWTH RATE (URBAN)'],\n",
       "      dtype='object')"
      ]
     },
     "execution_count": 71,
     "metadata": {},
     "output_type": "execute_result"
    }
   ],
   "source": [
    "df.columns # names of all the column of dataframes"
   ]
  },
  {
   "cell_type": "code",
   "execution_count": null,
   "id": "b9675565",
   "metadata": {},
   "outputs": [],
   "source": [
    "# if hard to make the plot then using groupby function to handle this\n",
    "\n",
    "df['PROVINCE'].unique() # values of columns \n",
    "df['PROVINCE'].nunique() # no of values of columns "
   ]
  },
  {
   "cell_type": "code",
   "execution_count": null,
   "id": "126c74df",
   "metadata": {},
   "outputs": [],
   "source": [
    "# using groupby function to handle data in groups\n",
    "\n",
    "df.groupby('DIVISION').size()\n",
    "df.groupby(['PROVINCE', 'DIVISION']).size()\n",
    "df.groupby('DIVISION')['FEMALE (RURAL)'].mean()\n",
    "df.groupby(['PROVINCE', 'DIVISION'])['FEMALE (RURAL)'].mean()"
   ]
  },
  {
   "cell_type": "code",
   "execution_count": 73,
   "id": "581e4e55",
   "metadata": {},
   "outputs": [
    {
     "name": "stdout",
     "output_type": "stream",
     "text": [
      "Female Rural Population :  63879631\n",
      "Female Urban Population :  35902873\n",
      "Difference btw urban and rural female population :  27976758\n"
     ]
    }
   ],
   "source": [
    "# check the sum \n",
    "\n",
    "f_rural = df['FEMALE (RURAL)'].sum()\n",
    "f_urban = df['FEMALE (URBAN)'].sum()\n",
    "print('Female Rural Population : ', f_rural)\n",
    "print('Female Urban Population : ', f_urban)\n",
    "print('Difference btw urban and rural female population : ', f_rural - f_urban)"
   ]
  },
  {
   "cell_type": "markdown",
   "id": "1757fb44",
   "metadata": {},
   "source": [
    "### **Assignment No 1 : Precentage Calculate**"
   ]
  },
  {
   "cell_type": "code",
   "execution_count": 76,
   "id": "2c33fa17",
   "metadata": {},
   "outputs": [
    {
     "name": "stdout",
     "output_type": "stream",
     "text": [
      "Population Urban 2017 :  74375943\n",
      "Population Urban 1998 :  42316331\n",
      "The total population increased in Urban areas form 1998 to 2017 :  32059612\n",
      "The total precentage of population ncreased in Urban areas form 1998 to 2017 :  75.76179513294761\n"
     ]
    }
   ],
   "source": [
    "pop_urban_2017 = df['ALL SEXES (URBAN)'].sum()\n",
    "pop_urban_1998 = df['POPULATION 1998 (URBAN)'].sum()\n",
    "\n",
    "print('Population Urban 2017 : ', pop_urban_2017)\n",
    "print('Population Urban 1998 : ', pop_urban_1998)\n",
    "\n",
    "print('The total population increased in Urban areas form 1998 to 2017 : ', pop_urban_2017 - pop_urban_1998)\n",
    "print('The total precentage of population ncreased in Urban areas form 1998 to 2017 : ', (pop_urban_2017 - pop_urban_1998)/pop_urban_1998 * 100)"
   ]
  },
  {
   "cell_type": "markdown",
   "id": "ef51c4e8",
   "metadata": {},
   "source": [
    "### **Assignment No 2: How to combine 3 columns in one column**"
   ]
  },
  {
   "cell_type": "code",
   "execution_count": 77,
   "id": "eaca05ab",
   "metadata": {},
   "outputs": [
    {
     "name": "stdout",
     "output_type": "stream",
     "text": [
      "      A      B   C       Combined\n",
      "0  John  Smith  NY  John Smith NY\n",
      "1  Jane    Doe  LA    Jane Doe LA\n",
      "2   Doe  Brown  SF   Doe Brown SF\n"
     ]
    }
   ],
   "source": [
    "import pandas as pd\n",
    "\n",
    "# Sample data\n",
    "df = pd.DataFrame({\n",
    "    'A': ['John', 'Jane', 'Doe'],\n",
    "    'B': ['Smith', 'Doe', 'Brown'],\n",
    "    'C': ['NY', 'LA', 'SF']\n",
    "})\n",
    "\n",
    "# Combine columns A, B, C into one column with space separator\n",
    "df['Combined'] = df['A'] + ' ' + df['B'] + ' ' + df['C']\n",
    "\n",
    "print(df)\n"
   ]
  },
  {
   "cell_type": "code",
   "execution_count": 78,
   "id": "21accd0b",
   "metadata": {},
   "outputs": [
    {
     "name": "stdout",
     "output_type": "stream",
     "text": [
      "   A  B  C  Sum\n",
      "0  1  4  7   12\n",
      "1  2  5  8   15\n",
      "2  3  6  9   18\n"
     ]
    }
   ],
   "source": [
    "# Combine columns using aggregate function\n",
    "\n",
    "df = pd.DataFrame({\n",
    "    'A': [1, 2, 3],\n",
    "    'B': [4, 5, 6],\n",
    "    'C': [7, 8, 9]\n",
    "})\n",
    "\n",
    "# Sum across columns A, B, C for each row\n",
    "df['Sum'] = df[['A', 'B', 'C']].agg('sum', axis=1)\n",
    "\n",
    "print(df)\n"
   ]
  },
  {
   "cell_type": "code",
   "execution_count": 79,
   "id": "33551737",
   "metadata": {},
   "outputs": [
    {
     "name": "stdout",
     "output_type": "stream",
     "text": [
      "   ID  Name City\n",
      "0   1  John   NY\n",
      "1   2  Jane   LA\n"
     ]
    }
   ],
   "source": [
    "# 3. Combine DataFrames using merge\n",
    "\n",
    "df1 = pd.DataFrame({\n",
    "    'ID': [1, 2, 3],\n",
    "    'Name': ['John', 'Jane', 'Doe']\n",
    "})\n",
    "\n",
    "df2 = pd.DataFrame({\n",
    "    'ID': [1, 2, 4],\n",
    "    'City': ['NY', 'LA', 'SF']\n",
    "})\n",
    "\n",
    "# Merge on 'ID' column\n",
    "merged_df = pd.merge(df1, df2, on='ID', how='inner')\n",
    "\n",
    "print(merged_df)\n"
   ]
  },
  {
   "cell_type": "code",
   "execution_count": 80,
   "id": "ad694cea",
   "metadata": {},
   "outputs": [
    {
     "name": "stdout",
     "output_type": "stream",
     "text": [
      "   A  B\n",
      "0  1  x\n",
      "1  2  y\n",
      "0  3  z\n",
      "1  4  w\n"
     ]
    }
   ],
   "source": [
    "# combined 2 dataframe using concat function \n",
    "\n",
    "import pandas as pd\n",
    "\n",
    "# Sample DataFrames\n",
    "df1 = pd.DataFrame({\n",
    "    'A': [1, 2],\n",
    "    'B': ['x', 'y']\n",
    "})\n",
    "\n",
    "df2 = pd.DataFrame({\n",
    "    'A': [3, 4],\n",
    "    'B': ['z', 'w']\n",
    "})\n",
    "\n",
    "# Concatenate vertically (rows-wise)\n",
    "df_concat = pd.concat([df1, df2])\n",
    "\n",
    "print(df_concat)\n"
   ]
  },
  {
   "cell_type": "code",
   "execution_count": 81,
   "id": "8e66c278",
   "metadata": {},
   "outputs": [
    {
     "name": "stdout",
     "output_type": "stream",
     "text": [
      "   A  B\n",
      "0  1  x\n",
      "1  2  y\n",
      "2  3  z\n",
      "3  4  w\n"
     ]
    }
   ],
   "source": [
    "# Notice karo ke index repeat ho raha hai. Agar chaho to ignore_index=True use kar sakte hain:\n",
    "\n",
    "df_concat = pd.concat([df1, df2], ignore_index=True)\n",
    "print(df_concat)\n"
   ]
  },
  {
   "cell_type": "code",
   "execution_count": 82,
   "id": "389cd1e1",
   "metadata": {},
   "outputs": [
    {
     "name": "stdout",
     "output_type": "stream",
     "text": [
      "   A  B  A  B\n",
      "0  1  x  3  z\n",
      "1  2  y  4  w\n"
     ]
    }
   ],
   "source": [
    "# Horizontal concatenation (columns-wise):\n",
    "\n",
    "df_concat_cols = pd.concat([df1, df2], axis=1)\n",
    "print(df_concat_cols)\n"
   ]
  },
  {
   "cell_type": "code",
   "execution_count": null,
   "id": "844a8e73",
   "metadata": {},
   "outputs": [],
   "source": []
  }
 ],
 "metadata": {
  "kernelspec": {
   "display_name": "python_eda",
   "language": "python",
   "name": "python3"
  },
  "language_info": {
   "codemirror_mode": {
    "name": "ipython",
    "version": 3
   },
   "file_extension": ".py",
   "mimetype": "text/x-python",
   "name": "python",
   "nbconvert_exporter": "python",
   "pygments_lexer": "ipython3",
   "version": "3.13.2"
  }
 },
 "nbformat": 4,
 "nbformat_minor": 5
}
