{
 "cells": [
  {
   "cell_type": "markdown",
   "id": "fa294820",
   "metadata": {},
   "source": [
    "# **Pandas Day 4**"
   ]
  },
  {
   "cell_type": "code",
   "execution_count": null,
   "id": "497b2bec",
   "metadata": {},
   "outputs": [],
   "source": [
    "import pandas as pd  \n",
    "import seaborn as sns  \n",
    "\n",
    "df = sns.load_dataset('titanic')\n",
    "df.head()"
   ]
  },
  {
   "cell_type": "markdown",
   "id": "8e69e914",
   "metadata": {},
   "source": [
    "## **Handling the missing data of titanic dataset**"
   ]
  },
  {
   "cell_type": "code",
   "execution_count": null,
   "id": "1924f85c",
   "metadata": {},
   "outputs": [],
   "source": [
    "# find the percentage of missing values in each columns\n",
    "\n",
    "df.isnull().sum() / len(df) * 100"
   ]
  },
  {
   "cell_type": "code",
   "execution_count": null,
   "id": "8feb7f4c",
   "metadata": {},
   "outputs": [],
   "source": [
    "# drop the columns when its missing values percentage like ( 50%, 60%, 70% or more)\n",
    "\n",
    "# drop function use manually to remove specific column and rows by using its index or name\n",
    "\n",
    "df = df.drop(columns='deck') # remove the deck column\n",
    "df = df.drop(2, axis=0) # Delete row at index 2\n",
    "df.columns"
   ]
  },
  {
   "cell_type": "code",
   "execution_count": null,
   "id": "c32b5a31",
   "metadata": {},
   "outputs": [],
   "source": [
    "# dropna function is used to delete all the NaN values rows form the dataset \n",
    "\n",
    "df = df.dropna() # Drop all rows that contain NaN\n",
    "df = df.dropna(axis=1) # Drop all columns that contain NaN"
   ]
  },
  {
   "cell_type": "code",
   "execution_count": null,
   "id": "be449f26",
   "metadata": {},
   "outputs": [],
   "source": [
    "df.isnull().sum()\n",
    "\n",
    "# handle the age column missing value using mean, median, mode techniques \n",
    "\n",
    "df['age'] = df['age'].fillna(df['age'].mean())\n",
    "df.isnull().sum()\n",
    "\n",
    "# handle the embarked column missing value using mean, median, mode techniques\n",
    "\n",
    "df['embarked'] = df['embarked'].fillna(df['embarked'].mode()[0])\n",
    "df.isnull().sum()\n",
    "\n",
    "# handle the embarked_town column missing value using mean, median, mode techniques\n",
    "\n",
    "df['embark_town'] = df['embark_town'].fillna(df['embark_town'].mode()[0])\n",
    "df.isnull().sum()"
   ]
  },
  {
   "cell_type": "markdown",
   "id": "e2924dea",
   "metadata": {},
   "source": [
    "## **Assignment No 3 : If you do not impute the missing values, What will happen?**\n",
    "\n",
    "If you do not impute (fill) the missing values in your dataset, it can cause the following problems:\n",
    "\n",
    "### 1. ❌ Errors in Machine Learning Models\n",
    "- Most ML algorithms like Linear Regression, Decision Trees, etc. do **not accept missing values (`NaN`)**.\n",
    "- The model will throw an error or fail to train/predict.\n",
    "\n",
    "### 2. ❗ Loss of Data\n",
    "- If you drop missing rows using `df.dropna()`, you may lose **valuable information**.\n",
    "- This can reduce the **size and quality** of your dataset.\n",
    "\n",
    "### 3. 📉 Inaccurate Results\n",
    "- Statistics like **mean, median, and standard deviation** will be wrong.\n",
    "- Missing values can lead to **biased or misleading analysis**.\n",
    "\n",
    "### 4. 📊 Visualization Problems\n",
    "- Plots and charts may break or show incomplete trends.\n",
    "- Missing data may create **gaps or distortions** in visualizations.\n",
    "\n",
    "### 5. 🧪 Wrong Decisions\n",
    "- Decisions based on incomplete data can be **unreliable**.\n",
    "- Models built on missing data may perform poorly in real-world situations.\n",
    "\n",
    "### ✅ Conclusion:\n",
    "> It is important to handle missing values using proper methods like **mean/median/mode imputation** or **row/column delet**\n"
   ]
  },
  {
   "cell_type": "markdown",
   "id": "7b40fc9c",
   "metadata": {},
   "source": [
    "## **Binning Concept**"
   ]
  },
  {
   "cell_type": "code",
   "execution_count": null,
   "id": "a9628469",
   "metadata": {},
   "outputs": [],
   "source": [
    "sns.histplot(df['age'], kde=True)\n",
    "# `kde=True` adds a smooth curve over the histogram (called Kernel Density Estimate)"
   ]
  },
  {
   "cell_type": "code",
   "execution_count": null,
   "id": "dd8bf344",
   "metadata": {},
   "outputs": [],
   "source": [
    "# Age bin boundaries\n",
    "bins = [0, 1, 3, 12, 19, 35, 59, 100]\n",
    "\n",
    "# Corresponding age group labels\n",
    "labels = ['Infant', 'Toddler', 'Child', 'Teen', 'Young Adult', 'Adult', 'Senior']\n"
   ]
  },
  {
   "cell_type": "markdown",
   "id": "78a9b736",
   "metadata": {},
   "source": [
    "## **Feature Enginnering**"
   ]
  },
  {
   "cell_type": "code",
   "execution_count": null,
   "id": "d4805a21",
   "metadata": {},
   "outputs": [],
   "source": [
    "# adding a new column in the dataset using binning concept \n",
    "\n",
    "df['age_group'] = pd.cut(df['age'], bins=bins, labels=labels, right=True) \n",
    "# right=True means upper edge is included (e.g., 12 goes in \"Child\")\n",
    "df.head()"
   ]
  },
  {
   "cell_type": "markdown",
   "id": "0125253b",
   "metadata": {},
   "source": [
    "## **📊 Histogram and Data Distribution**\n",
    "\n",
    "### **1. What is Data Distribution?**\n",
    "Data distribution means how the values in a dataset are spread across the range.\n",
    "It tells:\n",
    "\n",
    "- Where most values are concentrated\n",
    "\n",
    "- Whether the data is symmetric or skewed\n",
    "\n",
    "- If there are any outliers or unusual values\n",
    "\n",
    "### **2. What is a Histogram?**\n",
    "A histogram is a type of bar chart that shows how frequently data falls within certain ranges `(called bins)`.\n",
    "It helps visualize the distribution of continuous data.\n",
    "\n",
    "#### **Example using Pandas:**\n",
    "\n",
    "```python\n",
    "df['age'].hist(bins=10)\n",
    "```\n",
    "\n",
    "### **3. What is histplot in Seaborn?**\n",
    "histplot is a Seaborn function that creates histograms with extra features like smooth curves `(KDE)`.\n",
    "\n",
    "#### **Example using Seaborn:**\n",
    "```python\n",
    "import seaborn as sns  \n",
    "sns.histplot(data=df, x='age', bins=10, kde=True)\n",
    "```\n",
    "\n",
    "- `bins=10` means the data will be divided into 10 equal intervals\n",
    "\n",
    "- `kde=True` adds a smooth curve over the histogram (called Kernel Density Estimate)\n",
    "\n",
    "### **4. What is Binning?**\n",
    "Binning means dividing continuous numeric values into fixed intervals or groups called bins.\n",
    "Each bin represents a range of values.\n",
    "\n",
    "#### **Example:**\n",
    "If ages range from `0 to 100`, you can create bins like:\n",
    "\n",
    "- 0–20\n",
    "\n",
    "- 21–40\n",
    "\n",
    "- 41–60\n",
    "\n",
    "- 61–80\n",
    "\n",
    "- 81–100\n",
    "\n",
    "`Code example using Pandas:`\n",
    "```python\n",
    "pd.cut(df['age'], bins=[0, 20, 40, 60, 80, 100])\n",
    "# Or with Seaborn:\n",
    "sns.histplot(data=df, x='age', bins=5)\n",
    "```\n",
    "\n",
    "### **5. What is Normal Distribution (also called Gaussian Distribution)?**\n",
    "Normal distribution is a special type of data distribution that looks like a bell curve.\n",
    "\n",
    "#### **Characteristics:**\n",
    "\n",
    "Data is symmetrically distributed\n",
    "\n",
    "- Mean = Median = Mode\n",
    "\n",
    "- Most values are close to the center\n",
    "\n",
    "- Fewer values at the edges `(called tails)`\n",
    "\n",
    "#### **Shape:**\n",
    "\n",
    "\n",
    "    ^\n",
    "    |\n",
    " ∩———∩\n",
    "/\n",
    "_/ _\n",
    "\n",
    "#### **Example with Seaborn:**\n",
    "```python\n",
    "sns.histplot(df['marks'], kde=True)\n",
    "```\n",
    "If the KDE curve is smooth and bell-shaped, it means the data is normally distributed."
   ]
  },
  {
   "cell_type": "code",
   "execution_count": null,
   "id": "51b26a5c",
   "metadata": {},
   "outputs": [],
   "source": [
    "# rename the column\n",
    "\n",
    "df.rename(columns={'age_group' : 'age_binned'}, inplace=True)\n",
    "df.head()"
   ]
  },
  {
   "cell_type": "markdown",
   "id": "d3d71bd5",
   "metadata": {},
   "source": [
    "## **Filtering the dataset**"
   ]
  },
  {
   "cell_type": "code",
   "execution_count": null,
   "id": "4f6c2c1e",
   "metadata": {},
   "outputs": [],
   "source": [
    "# filter by gender\n",
    "\n",
    "# All female passengers\n",
    "df[df['sex'] == 'female']\n",
    "\n",
    "# All male passengers\n",
    "df[df['sex'] == 'male']"
   ]
  },
  {
   "cell_type": "code",
   "execution_count": null,
   "id": "8ef0f3c6",
   "metadata": {},
   "outputs": [],
   "source": [
    "# combined conditions \n",
    "\n",
    "# Female passengers who survived\n",
    "df[(df['sex'] == 'female') & (df['survived'] == 1)]\n",
    "\n",
    "# Male passengers in 2nd class who did not survive\n",
    "df[(df['sex'] == 'male') & (df['pclass'] == 2) & (df['survived'] == 0)]"
   ]
  },
  {
   "cell_type": "code",
   "execution_count": null,
   "id": "cbb69c21",
   "metadata": {},
   "outputs": [],
   "source": [
    "# filter by age \n",
    "\n",
    "# Passengers under 18 (children)\n",
    "df[df['age'] < 18]\n",
    "\n",
    "# Adult passengers (age 18+)\n",
    "df[df['age'] >= 18]\n",
    "\n",
    "# Passengers with age missing (NaN)\n",
    "df[df['age'].isnull()]"
   ]
  },
  {
   "cell_type": "code",
   "execution_count": null,
   "id": "0867c55b",
   "metadata": {},
   "outputs": [],
   "source": [
    "# filter top N oldest and youngest passenger in the dataset \n",
    "\n",
    "# Top 5 oldest passengers\n",
    "df.sort_values('age', ascending=False).head(5)\n",
    "\n",
    "# Top 5 youngest passengers\n",
    "df.sort_values('age', ascending=True).head(5)\n"
   ]
  },
  {
   "cell_type": "code",
   "execution_count": null,
   "id": "a6e28fd2",
   "metadata": {},
   "outputs": [],
   "source": [
    "# filter rows with missing data \n",
    "\n",
    "# All rows with any missing values\n",
    "df[df.isnull().any(axis=1)]\n",
    "\n",
    "# Rows where 'age' is missing\n",
    "df[df['age'].isnull()]\n"
   ]
  },
  {
   "cell_type": "code",
   "execution_count": null,
   "id": "918855dc",
   "metadata": {},
   "outputs": [],
   "source": []
  }
 ],
 "metadata": {
  "kernelspec": {
   "display_name": "python_eda",
   "language": "python",
   "name": "python3"
  },
  "language_info": {
   "codemirror_mode": {
    "name": "ipython",
    "version": 3
   },
   "file_extension": ".py",
   "mimetype": "text/x-python",
   "name": "python",
   "nbconvert_exporter": "python",
   "pygments_lexer": "ipython3",
   "version": "3.13.2"
  }
 },
 "nbformat": 4,
 "nbformat_minor": 5
}
