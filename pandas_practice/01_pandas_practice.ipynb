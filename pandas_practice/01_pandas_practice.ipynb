{
 "cells": [
  {
   "cell_type": "markdown",
   "id": "eda08087",
   "metadata": {},
   "source": [
    "# **Pandas Day 1**"
   ]
  },
  {
   "cell_type": "code",
   "execution_count": null,
   "id": "8ddfd459",
   "metadata": {},
   "outputs": [],
   "source": [
    "# import pandas library \n",
    "import pandas as pd\n",
    "import os "
   ]
  },
  {
   "cell_type": "code",
   "execution_count": null,
   "id": "e8eab302",
   "metadata": {},
   "outputs": [],
   "source": [
    "pd.__version__ # pandas version check\n",
    "os.listdir(\"../python_datasets\") # list of the files in that directory"
   ]
  },
  {
   "cell_type": "code",
   "execution_count": null,
   "id": "2665084e",
   "metadata": {},
   "outputs": [],
   "source": [
    "# read the file\n",
    "df = pd.read_csv(\"../python_datasets/population_of_pakistan.csv\")"
   ]
  },
  {
   "cell_type": "code",
   "execution_count": null,
   "id": "13afb7b1",
   "metadata": {},
   "outputs": [],
   "source": [
    "# write the file \n",
    "df.to_excel(\"../python_datasets/population_of_pakistan.xlsx\")"
   ]
  },
  {
   "cell_type": "code",
   "execution_count": null,
   "id": "a6abc03a",
   "metadata": {},
   "outputs": [],
   "source": [
    "# Read the excel file and with sheet_name attribute to select the sheet in excel file\n",
    "df_xl = pd.read_excel(\"../python_datasets/population_of_pakistan.xlsx\", sheet_name = \"Sheet1\")\n",
    "df_xl"
   ]
  },
  {
   "cell_type": "code",
   "execution_count": null,
   "id": "29e6e476",
   "metadata": {},
   "outputs": [],
   "source": [
    "# how to print data in terminals\n",
    "print(df)"
   ]
  },
  {
   "cell_type": "code",
   "execution_count": null,
   "id": "f1c87fe2",
   "metadata": {},
   "outputs": [],
   "source": [
    "# metadata about data\n",
    "df.info()"
   ]
  },
  {
   "cell_type": "code",
   "execution_count": null,
   "id": "0223cbc3",
   "metadata": {},
   "outputs": [],
   "source": [
    "# check data types of all columns\n",
    "df.dtypes"
   ]
  },
  {
   "cell_type": "code",
   "execution_count": null,
   "id": "ad288e89",
   "metadata": {},
   "outputs": [],
   "source": [
    "# top 5 rows\n",
    "df.head() # agar ap phele 10 rows dekhna chatai hai tu head mai 10 lekh do jitne ap dekhna chao uthne lekh do"
   ]
  },
  {
   "cell_type": "code",
   "execution_count": null,
   "id": "852c2659",
   "metadata": {},
   "outputs": [],
   "source": [
    "# bottom 5 rows\n",
    "df.tail() # agar ap akhri 10 rows dekhna chatai hai tu tail mai 10 lekh do jitne ap dekhna chao uthne lekh do"
   ]
  },
  {
   "cell_type": "code",
   "execution_count": null,
   "id": "4d7439fd",
   "metadata": {},
   "outputs": [],
   "source": [
    "# summary of data (basic statistics concept)\n",
    "df.describe()"
   ]
  },
  {
   "cell_type": "code",
   "execution_count": null,
   "id": "95392671",
   "metadata": {},
   "outputs": [],
   "source": [
    "# Value ke zariya ap kase pure dataframe mai us row ko nikal saktai hai \n",
    "max_Area_City = df[df[\"AREA (sq.km)\"] == 18374.0]\n",
    "max_Area_City\n",
    "max_All_Sex_Rural = df[df[\"ALL SEXES (RURAL)\"] == 2297375.0]\n",
    "max_All_Sex_Rural"
   ]
  }
 ],
 "metadata": {
  "kernelspec": {
   "display_name": "python_eda",
   "language": "python",
   "name": "python3"
  },
  "language_info": {
   "codemirror_mode": {
    "name": "ipython",
    "version": 3
   },
   "file_extension": ".py",
   "mimetype": "text/x-python",
   "name": "python",
   "nbconvert_exporter": "python",
   "pygments_lexer": "ipython3",
   "version": "3.13.2"
  }
 },
 "nbformat": 4,
 "nbformat_minor": 5
}
