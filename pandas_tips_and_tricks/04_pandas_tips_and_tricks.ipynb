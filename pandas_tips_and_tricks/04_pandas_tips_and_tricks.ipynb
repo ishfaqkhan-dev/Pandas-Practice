{
 "cells": [
  {
   "cell_type": "markdown",
   "id": "1951ec4c",
   "metadata": {},
   "source": [
    "# **Pandas Tips and Tricks Lec 4**"
   ]
  },
  {
   "cell_type": "markdown",
   "id": "a08c7607",
   "metadata": {},
   "source": [
    "## 16 - Splitting a string into multiple columns"
   ]
  },
  {
   "cell_type": "code",
   "execution_count": null,
   "id": "2f8cab4e",
   "metadata": {},
   "outputs": [],
   "source": [
    "import pandas as pd  \n",
    "\n",
    "df = pd.DataFrame({'Name' : ['Ishfaq Khan', 'Sajjad Khan', 'Zahid Marwat', 'Farhan Khan'],\n",
    "                   'Location' : ['Trag, Pakistan', 'Lakki Marwat, Pakistan', 'Lakki Marwat, Pakistan', 'Isa-Khel, Pakistan']})\n",
    "df"
   ]
  },
  {
   "cell_type": "code",
   "execution_count": null,
   "id": "3e29cbb3",
   "metadata": {},
   "outputs": [],
   "source": [
    "# Adding those splitted columns into dataset\n",
    "df[['First_Name', 'Last_Name']] = df.Name.str.split(' ', expand=True) # split column into 2 new columns\n",
    "df"
   ]
  },
  {
   "cell_type": "code",
   "execution_count": null,
   "id": "7917bc1f",
   "metadata": {},
   "outputs": [],
   "source": [
    "# Adding those splitted columns into dataset\n",
    "df[['City', 'Country']] = df.Location.str.split(',', expand=True) # split column into 2 new columns\n",
    "df"
   ]
  },
  {
   "cell_type": "code",
   "execution_count": null,
   "id": "a7a96156",
   "metadata": {},
   "outputs": [],
   "source": [
    "# Refine Data Manipulation\n",
    "df = df[['First_Name', 'Last_Name', 'City', 'Country']]\n",
    "df"
   ]
  },
  {
   "cell_type": "markdown",
   "id": "ee48ab48",
   "metadata": {},
   "source": [
    "## 17 - Aggregate by Multiple Groups/Functions"
   ]
  },
  {
   "cell_type": "code",
   "execution_count": null,
   "id": "30bc11e6",
   "metadata": {},
   "outputs": [],
   "source": [
    "import pandas as pd  \n",
    "import seaborn as sns \n",
    "\n",
    "df = sns.load_dataset('titanic')\n",
    "df.head()"
   ]
  },
  {
   "cell_type": "code",
   "execution_count": null,
   "id": "e0579af6",
   "metadata": {},
   "outputs": [],
   "source": [
    "# groupby using one columns\n",
    "df.groupby('who').count()"
   ]
  },
  {
   "cell_type": "code",
   "execution_count": null,
   "id": "bcb2add3",
   "metadata": {},
   "outputs": [],
   "source": [
    "# len function used by groupby\n",
    "len(df.groupby('who'))"
   ]
  },
  {
   "cell_type": "code",
   "execution_count": null,
   "id": "8266d142",
   "metadata": {},
   "outputs": [],
   "source": [
    "# using groupby with mulitple columns \n",
    "df.groupby(['sex', 'who', 'embark_town']).count()"
   ]
  },
  {
   "cell_type": "markdown",
   "id": "9c418d9b",
   "metadata": {},
   "source": [
    "## 18 - Select Specific Columns and Rows"
   ]
  },
  {
   "cell_type": "code",
   "execution_count": null,
   "id": "99e9d28d",
   "metadata": {},
   "outputs": [],
   "source": [
    "# use df dataframe for selecting specific columns and rows\n",
    "df.head()"
   ]
  },
  {
   "cell_type": "code",
   "execution_count": null,
   "id": "d3455b8d",
   "metadata": {},
   "outputs": [],
   "source": [
    "# select specific columns\n",
    "df[['survived', 'fare', 'class', 'who']]"
   ]
  },
  {
   "cell_type": "code",
   "execution_count": null,
   "id": "7a4f5a80",
   "metadata": {},
   "outputs": [],
   "source": [
    "# summary of datasets\n",
    "df.describe()"
   ]
  },
  {
   "cell_type": "code",
   "execution_count": null,
   "id": "025d50c3",
   "metadata": {},
   "outputs": [],
   "source": [
    "# select the rows in the summary of datasets\n",
    "df.describe().loc[['min', 'max', '25%']]"
   ]
  },
  {
   "cell_type": "code",
   "execution_count": null,
   "id": "ba0fcbd0",
   "metadata": {},
   "outputs": [],
   "source": [
    "# another way to select the rows and columns\n",
    "df.describe().loc['min':'max']\n",
    "df.describe().loc['min':'max' , ['survived', 'age']]\n",
    "df.describe().loc['min':'max' , 'survived':'age']"
   ]
  },
  {
   "cell_type": "markdown",
   "id": "4f77a084",
   "metadata": {},
   "source": [
    "## 19 - Reshape the Multiindex Series"
   ]
  },
  {
   "cell_type": "code",
   "execution_count": null,
   "id": "7b7ac55f",
   "metadata": {},
   "outputs": [],
   "source": [
    "# for understanding the concept of multiindex series using df dataset\n",
    "df.head()"
   ]
  },
  {
   "cell_type": "code",
   "execution_count": null,
   "id": "1c2eebb2",
   "metadata": {},
   "outputs": [],
   "source": [
    "# check the mean of any columns\n",
    "df.survived.mean()"
   ]
  },
  {
   "cell_type": "code",
   "execution_count": null,
   "id": "173013a8",
   "metadata": {},
   "outputs": [],
   "source": [
    "# check the mean of groupby columns \n",
    "df.groupby('sex').survived.mean()"
   ]
  },
  {
   "cell_type": "code",
   "execution_count": null,
   "id": "81be01ce",
   "metadata": {},
   "outputs": [],
   "source": [
    "# check the mean of groupby columns with multiple different values\n",
    "df.groupby(['sex', 'pclass']).survived.mean() # output like stack \n",
    "df.groupby(['sex', 'pclass']).survived.mean().unstack() # output like unstack "
   ]
  },
  {
   "cell_type": "markdown",
   "id": "6986f7fa",
   "metadata": {},
   "source": [
    "## 20 - Continous Data to Categorical Data"
   ]
  },
  {
   "cell_type": "code",
   "execution_count": null,
   "id": "803aefaf",
   "metadata": {},
   "outputs": [],
   "source": [
    "df.head()"
   ]
  },
  {
   "cell_type": "code",
   "execution_count": null,
   "id": "554b5a35",
   "metadata": {},
   "outputs": [],
   "source": [
    "# select age columns \n",
    "df.age.head()\n",
    "\n",
    "# creating bins \n",
    "pd.cut(df.age, bins=[0, 18, 25, 99], labels=['child', 'young_adult', 'adult']).head()\n",
    "\n",
    "# add this bins based columns to orginal dataset\n",
    "df['Cat_age'] = pd.cut(df.age, bins=[0, 18, 25, 99], labels=['child', 'young_adult', 'adult'])\n",
    "df.head()"
   ]
  },
  {
   "cell_type": "markdown",
   "id": "b4763b04",
   "metadata": {},
   "source": [
    "## 21 - Convert one set of values into another "
   ]
  },
  {
   "cell_type": "code",
   "execution_count": null,
   "id": "315a1895",
   "metadata": {},
   "outputs": [],
   "source": [
    "df.sex.head()"
   ]
  },
  {
   "cell_type": "code",
   "execution_count": null,
   "id": "ee558933",
   "metadata": {},
   "outputs": [],
   "source": [
    "# convert values into another type of values\n",
    "df['sex_num'] = df.sex.map({'male': 0, 'female': 1})\n",
    "df.head()"
   ]
  },
  {
   "cell_type": "code",
   "execution_count": null,
   "id": "83684b5e",
   "metadata": {},
   "outputs": [],
   "source": [
    "# another way to convert values into another types of values\n",
    "df['embarked_num'] = df.embarked.factorize()[0]\n",
    "df.head(15)"
   ]
  },
  {
   "cell_type": "markdown",
   "id": "ff2980d9",
   "metadata": {},
   "source": [
    "## 22 - Transpose a wide dataframe"
   ]
  },
  {
   "cell_type": "code",
   "execution_count": null,
   "id": "c8cd789d",
   "metadata": {},
   "outputs": [],
   "source": [
    "import pandas as pd \n",
    "import numpy as np  \n",
    "\n",
    "df = pd.DataFrame(np.random.rand(200,25), columns=list('abcdefghijklmnopqrstuvwxy'))\n",
    "df.head()"
   ]
  },
  {
   "cell_type": "code",
   "execution_count": null,
   "id": "c8fdf82f",
   "metadata": {},
   "outputs": [],
   "source": [
    "# create a transpose a dataset \n",
    "df.head().T\n",
    "df.describe().T\n",
    "df.describe().T.to_csv('dataset_describe_transpose.csv')"
   ]
  },
  {
   "cell_type": "markdown",
   "id": "de0c6b50",
   "metadata": {},
   "source": [
    "# 23 - Reshapping the dataframe "
   ]
  },
  {
   "cell_type": "code",
   "execution_count": null,
   "id": "263e7f22",
   "metadata": {},
   "outputs": [],
   "source": [
    "import pandas as pd  \n",
    "\n",
    "fasla = pd.DataFrame([[12345, 100, 200, 300], [34567, 400, 500, 600], [67890, 700, 800, 900]],\n",
    "                     columns=['zip', 'factory', 'warehouse', 'company'])\n",
    "fasla.head()"
   ]
  },
  {
   "cell_type": "code",
   "execution_count": null,
   "id": "adb78ff1",
   "metadata": {},
   "outputs": [],
   "source": [
    "# draw graph of normal dataframe \n",
    "sns.barplot(x='zip', y='factory', data=fasla)"
   ]
  },
  {
   "cell_type": "code",
   "execution_count": null,
   "id": "45f025e7",
   "metadata": {},
   "outputs": [],
   "source": [
    "# reshape the dataframe \n",
    "fasla_long = fasla.melt(id_vars='zip', var_name='location_type', value_name='Distance')\n",
    "\n",
    "# after reshapping the dataframe into long\n",
    "fasla_long.head()"
   ]
  },
  {
   "cell_type": "code",
   "execution_count": null,
   "id": "be613c45",
   "metadata": {},
   "outputs": [],
   "source": [
    "# after reshapping the dataframe into long, the graph of this dataframe \n",
    "sns.barplot(x='zip', y='Distance', hue='location_type', data=fasla_long)"
   ]
  }
 ],
 "metadata": {
  "kernelspec": {
   "display_name": "python_eda",
   "language": "python",
   "name": "python3"
  },
  "language_info": {
   "codemirror_mode": {
    "name": "ipython",
    "version": 3
   },
   "file_extension": ".py",
   "mimetype": "text/x-python",
   "name": "python",
   "nbconvert_exporter": "python",
   "pygments_lexer": "ipython3",
   "version": "3.13.2"
  }
 },
 "nbformat": 4,
 "nbformat_minor": 5
}
