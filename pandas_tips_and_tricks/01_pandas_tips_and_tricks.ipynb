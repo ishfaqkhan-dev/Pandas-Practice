{
 "cells": [
  {
   "cell_type": "markdown",
   "id": "f115bb08",
   "metadata": {},
   "source": [
    "# **Pandas Tips and Tricks Lec 1**"
   ]
  },
  {
   "cell_type": "markdown",
   "id": "6827018c",
   "metadata": {},
   "source": [
    "## 01 - Check the version of pandas"
   ]
  },
  {
   "cell_type": "code",
   "execution_count": null,
   "id": "8097995e",
   "metadata": {},
   "outputs": [],
   "source": [
    "# how to check the version of pandas\n",
    "import pandas as pd \n",
    "pd.__version__"
   ]
  },
  {
   "cell_type": "code",
   "execution_count": null,
   "id": "2626701a",
   "metadata": {},
   "outputs": [],
   "source": [
    "# another way of checking the versions\n",
    "pd.show_versions()"
   ]
  },
  {
   "cell_type": "markdown",
   "id": "e9ce3935",
   "metadata": {},
   "source": [
    "## 02 - Make the Dataframe"
   ]
  },
  {
   "cell_type": "code",
   "execution_count": null,
   "id": "12eb5489",
   "metadata": {},
   "outputs": [],
   "source": [
    "# usinf pandas to make the dataframe by using dictionary\n",
    "df = pd.DataFrame({ 'A Col' : [11, 12, 13, 14, 15], 'B Col' : [21, 22, 23, 24, 25]})\n",
    "df"
   ]
  },
  {
   "cell_type": "code",
   "execution_count": null,
   "id": "60b8237d",
   "metadata": {},
   "outputs": [],
   "source": [
    "# using numpy array to create a dataframe\n",
    "import numpy as np \n",
    "arr = np.array([[11, 12, 13, 14, 15], [21, 22, 23, 24, 25], [31, 32, 33, 34, 35]])\n",
    "pd.DataFrame(arr)"
   ]
  },
  {
   "cell_type": "code",
   "execution_count": null,
   "id": "db0d8ec3",
   "metadata": {},
   "outputs": [],
   "source": [
    "# another way to create a dataframe using numpy\n",
    "pd.DataFrame(np.random.rand(4,5), columns=list('ABCDE'))"
   ]
  },
  {
   "cell_type": "markdown",
   "id": "748c7c53",
   "metadata": {},
   "source": [
    "## 03 - How to rename the column name?"
   ]
  },
  {
   "cell_type": "code",
   "execution_count": null,
   "id": "ddda00aa",
   "metadata": {},
   "outputs": [],
   "source": [
    "df = pd.DataFrame({ 'A Col' : [11, 12, 13, 14, 15], 'B Col' : [21, 22, 23, 24, 25]})\n",
    "\n",
    "# rename the column name\n",
    "df.rename(columns={'A Col': 'Col_A', 'B Col': 'Col_B'}, inplace=True)\n",
    "df"
   ]
  },
  {
   "cell_type": "code",
   "execution_count": null,
   "id": "602393e6",
   "metadata": {},
   "outputs": [],
   "source": [
    "# another way to replace the column name\n",
    "df.columns = ['Col_AA', 'Col_BB']\n",
    "df"
   ]
  },
  {
   "cell_type": "code",
   "execution_count": null,
   "id": "83ec722b",
   "metadata": {},
   "outputs": [],
   "source": [
    "# to replace any character, Strings\n",
    "df.columns = df.columns.str.replace('_', \" \")\n",
    "df"
   ]
  },
  {
   "cell_type": "code",
   "execution_count": null,
   "id": "23ae18c7",
   "metadata": {},
   "outputs": [],
   "source": [
    "# adding prefix to columns\n",
    "df = df.add_prefix('Start_')\n",
    "df"
   ]
  },
  {
   "cell_type": "code",
   "execution_count": null,
   "id": "878c62ec",
   "metadata": {},
   "outputs": [],
   "source": [
    "# adding suffix to columns\n",
    "df = df.add_suffix('_End')\n",
    "df"
   ]
  },
  {
   "cell_type": "code",
   "execution_count": null,
   "id": "7e47a142",
   "metadata": {},
   "outputs": [],
   "source": [
    "df.columns = ['Col_A', 'Col_B']\n",
    "df"
   ]
  },
  {
   "cell_type": "markdown",
   "id": "2c684d81",
   "metadata": {},
   "source": [
    "## 04 - Using templete Datasets"
   ]
  },
  {
   "cell_type": "code",
   "execution_count": null,
   "id": "cc0ce3fe",
   "metadata": {},
   "outputs": [],
   "source": [
    "import pandas as pd \n",
    "import numpy as np \n",
    "import seaborn as sns \n",
    "\n",
    "# seaborn is a built in library it has many datasets in it so we use them for practice\n",
    "\n",
    "khasti = sns.load_dataset('titanic')\n",
    "khasti.head() # represent first 5 rows if you want more write like that ( khasti.head(15) )\n",
    "khasti.tail() # represent last 5 rows if you want more write like that ( khasti.tail(15) )"
   ]
  },
  {
   "cell_type": "code",
   "execution_count": null,
   "id": "75f8c82d",
   "metadata": {},
   "outputs": [],
   "source": [
    "# summary of dataset\n",
    "khasti.describe()\n",
    "\n",
    "# names of the columns in the whole dataset\n",
    "khasti.columns"
   ]
  },
  {
   "cell_type": "code",
   "execution_count": null,
   "id": "bfb4b259",
   "metadata": {},
   "outputs": [],
   "source": [
    "# Saving templetes datasets\n",
    "khasti.to_csv(\"khasti.csv\") # enter the path where u want to store ( in csv file )\n",
    "khasti.to_excel(\"khasti.xlsx\") # store in the excel file "
   ]
  },
  {
   "cell_type": "markdown",
   "id": "dccb6cce",
   "metadata": {},
   "source": [
    "## 05 - Using Your Own Data"
   ]
  },
  {
   "cell_type": "code",
   "execution_count": null,
   "id": "f0350955",
   "metadata": {},
   "outputs": [],
   "source": [
    "import pandas as pd \n",
    "\n",
    "# using my own datasets by pandas using read_csv or read_excel or more other\n",
    "\n",
    "df_1 = pd.read_csv(\"../python_datasets/population_of_pakistan.csv\") # enter the path of your dataset\n",
    "df_1.head()\n",
    "df_2 = pd.read_excel(\"../python_datasets/population_of_pakistan.xlsx\")\n",
    "df_2.head()"
   ]
  }
 ],
 "metadata": {
  "kernelspec": {
   "display_name": "python_eda",
   "language": "python",
   "name": "python3"
  },
  "language_info": {
   "codemirror_mode": {
    "name": "ipython",
    "version": 3
   },
   "file_extension": ".py",
   "mimetype": "text/x-python",
   "name": "python",
   "nbconvert_exporter": "python",
   "pygments_lexer": "ipython3",
   "version": "3.13.2"
  }
 },
 "nbformat": 4,
 "nbformat_minor": 5
}
