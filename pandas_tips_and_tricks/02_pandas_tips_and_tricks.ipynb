{
 "cells": [
  {
   "cell_type": "markdown",
   "id": "42f387d4",
   "metadata": {},
   "source": [
    "# **Pandas Tips and Tricks Lec 2**"
   ]
  },
  {
   "cell_type": "markdown",
   "id": "90d9ab89",
   "metadata": {},
   "source": [
    "## 06 - Reverse Row Order"
   ]
  },
  {
   "cell_type": "code",
   "execution_count": null,
   "id": "3b58f60f",
   "metadata": {},
   "outputs": [],
   "source": [
    "import pandas as pd \n",
    "import seaborn as sns \n",
    "\n",
    "df = sns.load_dataset(\"iris\")\n",
    "df.head()"
   ]
  },
  {
   "cell_type": "code",
   "execution_count": null,
   "id": "4bf62031",
   "metadata": {},
   "outputs": [],
   "source": [
    "# reverse row order\n",
    "df.loc[::-1].head()"
   ]
  },
  {
   "cell_type": "code",
   "execution_count": null,
   "id": "94d338fa",
   "metadata": {},
   "outputs": [],
   "source": [
    "# in reverse row order but index reset it start form 0\n",
    "df.loc[::-1].reset_index(drop=True).head()"
   ]
  },
  {
   "cell_type": "markdown",
   "id": "66368899",
   "metadata": {},
   "source": [
    "## 07 - Reverse Column Order "
   ]
  },
  {
   "cell_type": "code",
   "execution_count": null,
   "id": "639fa919",
   "metadata": {},
   "outputs": [],
   "source": [
    "# reverse column order\n",
    "df.loc[:, ::-1].head() # first colon ( : ) represent row and after comma represent column"
   ]
  },
  {
   "cell_type": "markdown",
   "id": "ee51930d",
   "metadata": {},
   "source": [
    "## 08 - Select columns by its datatypes"
   ]
  },
  {
   "cell_type": "code",
   "execution_count": null,
   "id": "4d854905",
   "metadata": {},
   "outputs": [],
   "source": [
    "df_1 = sns.load_dataset('titanic')\n",
    "df_1.head()\n",
    "\n",
    "# display the datatypes of all ccolumns \n",
    "df_1.dtypes"
   ]
  },
  {
   "cell_type": "code",
   "execution_count": null,
   "id": "9da637a8",
   "metadata": {},
   "outputs": [],
   "source": [
    "# only select those have numeric datatype\n",
    "df_1.select_dtypes(include='number').head()"
   ]
  },
  {
   "cell_type": "code",
   "execution_count": null,
   "id": "52cc5da2",
   "metadata": {},
   "outputs": [],
   "source": [
    "# select columns of multiples datatypes\n",
    "df_1.select_dtypes(include=('object', 'number')).head()"
   ]
  },
  {
   "cell_type": "code",
   "execution_count": null,
   "id": "64bfd48c",
   "metadata": {},
   "outputs": [],
   "source": [
    "# exclude the columns from the datasets using its datatypes\n",
    "df_1.select_dtypes(exclude=('number')).head()"
   ]
  },
  {
   "cell_type": "markdown",
   "id": "74d491c3",
   "metadata": {},
   "source": [
    "## 09 - Convert strings to numeric"
   ]
  },
  {
   "cell_type": "code",
   "execution_count": null,
   "id": "ca5a712e",
   "metadata": {},
   "outputs": [],
   "source": [
    "df_2 = pd.DataFrame({'Col_A' : ['1', '2', '3.3', '4.2', '3.1'], \n",
    "                     'Col_B' : ['2.3', '3.1', '5', '2.3', '2']})\n",
    "df_2.dtypes"
   ]
  },
  {
   "cell_type": "code",
   "execution_count": null,
   "id": "a7213209",
   "metadata": {},
   "outputs": [],
   "source": [
    "# convert string to numeric \n",
    "df_2.astype({'Col_A' : 'float64', 'Col_B' : 'float64'}).dtypes"
   ]
  },
  {
   "cell_type": "code",
   "execution_count": null,
   "id": "1d68672f",
   "metadata": {},
   "outputs": [],
   "source": [
    "# another way to convert numeric \n",
    "df_2['Col_A'] = pd.to_numeric(df_2['Col_A'], errors = 'coerce')\n",
    "df_2['Col_B'] = pd.to_numeric(df_2['Col_B'], errors = 'coerce')\n",
    "print(df_2)\n",
    "df_2.dtypes"
   ]
  },
  {
   "cell_type": "markdown",
   "id": "1e8767f1",
   "metadata": {},
   "source": [
    "## 10 - Reduce Datasets Size"
   ]
  },
  {
   "cell_type": "code",
   "execution_count": null,
   "id": "bd1bcd27",
   "metadata": {},
   "outputs": [],
   "source": [
    "df_1 = sns.load_dataset('titanic')\n",
    "df_1.shape # return the number of columns and rows \n",
    "df_1.info # metadata about datasets"
   ]
  },
  {
   "cell_type": "code",
   "execution_count": null,
   "id": "a25d8b82",
   "metadata": {},
   "outputs": [],
   "source": [
    "# take random sample data from the whole dataset\n",
    "df_1.sample(frac=0.1).head() # 0.1 part of the dataset like 10% of dataset, for half dataset use frac=0.5"
   ]
  }
 ],
 "metadata": {
  "kernelspec": {
   "display_name": "python_eda",
   "language": "python",
   "name": "python3"
  },
  "language_info": {
   "codemirror_mode": {
    "name": "ipython",
    "version": 3
   },
   "file_extension": ".py",
   "mimetype": "text/x-python",
   "name": "python",
   "nbconvert_exporter": "python",
   "pygments_lexer": "ipython3",
   "version": "3.13.2"
  }
 },
 "nbformat": 4,
 "nbformat_minor": 5
}
