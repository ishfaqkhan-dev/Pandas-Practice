{
 "cells": [
  {
   "cell_type": "markdown",
   "id": "b340c29e",
   "metadata": {},
   "source": [
    "# **Automatic EDA using ydata-profiling**"
   ]
  },
  {
   "cell_type": "code",
   "execution_count": null,
   "id": "12fa771a",
   "metadata": {},
   "outputs": [],
   "source": [
    "# import libraries\n",
    "import pandas as pd\n",
    "import seaborn as sns\n",
    "import ydata_profiling as yp\n",
    "from skimpy import skim"
   ]
  },
  {
   "cell_type": "code",
   "execution_count": null,
   "id": "389f9ba6",
   "metadata": {},
   "outputs": [],
   "source": [
    "# generate report for seaborn datasets using ydata-profiling\n",
    "\n",
    "df = sns.load_dataset('titanic')\n",
    "\n",
    "# using ydata-profiling to use dataframe to generate report \n",
    "profile = yp.ProfileReport(df)\n",
    "\n",
    "# using ydata-profiling to generate report into html\n",
    "profile.to_file(output_file='../output/01_ydata_profiling_titanic.html')"
   ]
  },
  {
   "cell_type": "code",
   "execution_count": null,
   "id": "105fb040",
   "metadata": {},
   "outputs": [],
   "source": [
    "# generate report for own datasets using ydata-profiling\n",
    "\n",
    "df_01 = pd.read_csv('../python_datasets/population_of_pakistan.csv')\n",
    "\n",
    "# using ydata-profiling to use dataframe to generate report \n",
    "profile_01 = yp.ProfileReport(df_01)\n",
    "\n",
    "# using ydata-profiling to generate report into html\n",
    "profile_01.to_file(output_file='../output/02_ydata_profiling_population_of_pakistan.html')"
   ]
  },
  {
   "cell_type": "code",
   "execution_count": null,
   "id": "91934c64",
   "metadata": {},
   "outputs": [],
   "source": [
    "# skim shows the summary daigram of datasets\n",
    "skim(df)"
   ]
  },
  {
   "cell_type": "code",
   "execution_count": null,
   "id": "a4f54172",
   "metadata": {},
   "outputs": [],
   "source": [
    "summary = df.describe()\n",
    "skim(summary)"
   ]
  }
 ],
 "metadata": {
  "kernelspec": {
   "display_name": "ydata_profiling",
   "language": "python",
   "name": "python3"
  },
  "language_info": {
   "codemirror_mode": {
    "name": "ipython",
    "version": 3
   },
   "file_extension": ".py",
   "mimetype": "text/x-python",
   "name": "python",
   "nbconvert_exporter": "python",
   "pygments_lexer": "ipython3",
   "version": "3.11.13"
  }
 },
 "nbformat": 4,
 "nbformat_minor": 5
}
